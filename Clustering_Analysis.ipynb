{
 "cells": [
  {
   "cell_type": "markdown",
   "metadata": {},
   "source": [
    "<div class=\"alert alert-block alert-success\">\n",
    "<a id='explore'>\n",
    "<font color = '#006400'> \n",
    "    \n",
    "# 1. Intro </font>\n",
    "</a>\n",
    "\n",
    "Import Libraries, Data and define Cluster scenarios.\n",
    "    \n",
    "</div>"
   ]
  },
  {
   "cell_type": "code",
   "execution_count": 38,
   "metadata": {},
   "outputs": [],
   "source": [
    "# Import Libraries\n",
    "import pandas as pd\n",
    "import numpy as np\n",
    "import matplotlib.pyplot as plt\n",
    "import seaborn as sns\n",
    "from sklearn.preprocessing import MinMaxScaler \n",
    "from sklearn.impute import KNNImputer \n",
    "from sklearn.cluster import KMeans\n",
    "import scipy  \n",
    "from scipy.cluster import hierarchy\n",
    "from sklearn.cluster import DBSCAN \n",
    "from sklearn.metrics import silhouette_samples, silhouette_score"
   ]
  },
  {
   "cell_type": "code",
   "execution_count": 23,
   "metadata": {},
   "outputs": [],
   "source": [
    "# Read Data\n",
    "df = pd.read_csv(\"df_preprocessed.csv\")"
   ]
  },
  {
   "cell_type": "code",
   "execution_count": 24,
   "metadata": {},
   "outputs": [],
   "source": [
    "# Set \"Customer ID\" as an index\n",
    "df.set_index('Customer ID', inplace = True)"
   ]
  },
  {
   "cell_type": "markdown",
   "metadata": {},
   "source": [
    "## `MetaData`\n",
    "- __CustomerID__: A unique ID that identifies each customer\n",
    "\n",
    "__`DEMOGRAPHICS:`__\n",
    "- __Age__: Customer's current age in years\n",
    "- __Under 30__: A flag indicating if customer is under 30 (1) or above (0)\n",
    "- __Senior Citizen__: A flag indicating if customer is 65 or older (1) or not (0)\n",
    "- __Gender_Male__: A flag indicating if customer is male (1) or female (0)\n",
    "- __Dependents__: A flag indicating if customer has dependents (1) or not (0)\n",
    "- __Number of Dependents__: Indicates number of dependents living with the customer\n",
    "- __Married__: A flag indicating if customer is married (1) or not (0)\n",
    "\n",
    "__`LOCATION & POPULATION DATA:`__ Country: US; State: California\n",
    "- __City__: The city of the customer's primary residence\n",
    "- __Zip Code__: \n",
    "- __Lat Long__: The combined latitude and longitude of the customer's primary residence\n",
    "- __Latitude__: The latitude of the customer's primary residence\n",
    "- __Longitude__: The longitude of the customer's primary residence\n",
    "- __Population__: A current population estimate for the entire Zip Code area\n",
    "- __Density_High__: A flag indicating if the area the customer lives has high population density \n",
    "- __Density_Low__: A flag indicating if the area the customer lives has low population density\n",
    "- If both are zero, then density is medium\n",
    "\n",
    "__`SERVICES:`__\n",
    "- __Phone Service__: subscribes to home phone service (1) or not \n",
    "- __Internet Service__: subscribes to internet servie (1) or not \n",
    "- __Online Security__: subscribes to an additional online security service (1) or not \n",
    "- __Online Backup__: subscribes to an additional online backup service (1) or not \n",
    "- __Multiple Lines__: subscribes to multiple telephone lines with the company (1) or not \n",
    "- __Device Protection Plan__: subscribes to an additional device protection plan for their internet equipment (1) or not \n",
    "- __Premium Tech Support__: subscribes to an additional technical support plan with reduced wait times (1) or not \n",
    "- __Unlimited Data__: paid an additional monthly fee to have unlimited data downloads/uploads (1) or not \n",
    "- __Internet Type_Cable__: subscribes with internet cable (1) or not \n",
    "- __Internet Type_DSL__: subscribes with DSL (1) or not \n",
    "- __Internet Type_Fiber Optic__: subscribles with DSL (1) or not \n",
    "\n",
    "__`STREAMING:`__ No fee associated, is if uses the internet service to stream services from a third provider\n",
    "- __Streaming TV__: uses streaming for TV programing\n",
    "- __Streaming Movies__: uses streaming for movies\n",
    "- __Streaming Music__: uses streaming for music\n",
    "\n",
    "__`TENURE & CONTRACT:`__\n",
    "- __Tenure in Months__: Total amount of months that the customer has been with the company\n",
    "- __Tenure Category__: 0 if customer joined this quarter, 1 if joined > 3 - 18 m, 2 if joined > 18 - 36 m, 3 if joined > 36 - 54 m, 4 if joined  54 - 72 m\n",
    "- __Contract__: -\"month-to-month\" is 1, \"one year\" is 2, \"two year\" is 3\n",
    "\n",
    "__`PAYMENT PREFERENCES:`__\n",
    "- __Paperless Billing__: has chosen paperless billing (1) or not (0)\n",
    "- __Payment Method_Bank Withdrawal__: pays their bill with bank withdrawl (1) or not (0)\n",
    "- __Payment Method_Credit Card__: pays their bill with credit card (1) or not (0)\n",
    "- If both are zero then it pays with mailed check\n",
    "\n",
    "__`REFERRALS AND OFFERS:`__\n",
    "- __Referred a Friend__:\n",
    "- __Number of Referrals__:\n",
    "- __Offer_Offer A, Offer_Offer B, Offer_Offer C, Offer_Offer D, Offer_Offer E__: A flag indicating the last marketing offer the customer accepted (1) or not (0)\n",
    "\n",
    "__`PROFITABILITY:`__\n",
    "- __Total Revenue__: Total Charges + Extra Data Charges + Long Distance Charges - Refunds\n",
    "- __Total Charges__: Customer's total charges at the end of the quarter\n",
    "- __Total Refunds__: Customer's total refunds at the end of the quarter\n",
    "- __Monthly Charge__: Customer's current total monthly charge for all their services from the company\n",
    "- __Total Extra Data Charges__: Charges for extra data downloads above those specified in their plan\n",
    "- __Total Long Distance Charges__: Charges for long distance above those specified in their plan\n",
    "- __Avg Monthly Long Distance Charges__: Average long distance charges \n",
    "\n",
    "__`STATUS:`__\n",
    "- __New Customer__: Is a new customer, i.e. joined this quarter (1) or not (0)\n",
    "- __Churn Label__: 1 if the customer left the company this quarter or 0 if remained\n",
    "- __Churn Score__: A value from 0-100 calculated using the predictive tool IBM SPSS Modeler, incorporating factors known to cause churn. The higher, the more likely the customer will churn\n",
    "- __Churn Category_Attitude, Churn Category_Competitor, Churn Category_Dissatisfaction, Churn Category_Price__: Churn category's flag (1)\n",
    "- __Churn Reason__: A customer's specific reason for leaving the company. Directly related to Churn Category but more descriptive\n",
    "- __Satisfaction Score__: A customer's overall satisfaction rating of the company from 1 (very unsatisfied) to 5 (very satisfied)\n",
    "- __Engagement Score__: Calculated score based on the number of services a customer has subscribed to. The more services, it adds up +1. Varies between 1 and 7\n",
    "- __CLTV__: Customer Lifetime Value. A predicted CLTV is calculated using corporate formulas and existing data. The higher the value, the more valuable the customer. High value customers should be monitored for churn."
   ]
  },
  {
   "cell_type": "markdown",
   "metadata": {},
   "source": [
    "<div class=\"alert alert-block alert-success\">\n",
    "<a id='explore'>\n",
    "<font color = '#006400'> \n",
    "    \n",
    "# 2. Cluster pre-defined Functions</font>\n",
    "</a>\n",
    "    \n",
    "</div>"
   ]
  },
  {
   "cell_type": "code",
   "execution_count": 25,
   "metadata": {},
   "outputs": [],
   "source": [
    "# Define a function to perform elbow method and dendrogram side by side\n",
    "\n",
    "def plot_clustering_methods(df, k_range):\n",
    "    def elbow_method(df, k_range, ax):\n",
    "        ks = range(1, k_range + 1)\n",
    "        inertias = []\n",
    "        for k in ks:\n",
    "            model = KMeans(n_clusters=k).fit(df)\n",
    "            inertias.append(model.inertia_)\n",
    "\n",
    "        #calculate the derivative of the inertias values\n",
    "        dd = [inertias[i+1] - inertias[i] for i in range(len(inertias)-1)]\n",
    "        # find the second max and min values in the dd array\n",
    "        second_max = np.partition(dd, -2)[-2]\n",
    "        second_min = np.partition(dd, 1)[1]\n",
    "        # find the indices of the second max and min values in the dd array\n",
    "        second_max_idx = np.where(dd == second_max)[0][0]\n",
    "        second_min_idx = np.where(dd == second_min)[0][0]\n",
    "        # obtain the line equation for the derivative y - y1 = m * (x - x1) with m being the second max or min(dd)\n",
    "        y1 = [(x-second_max_idx)*second_max + inertias[second_max_idx] for x in range(len(ks))]\n",
    "        y2 = [(x-second_min_idx)*second_min + inertias[second_min_idx] for x in range(len(ks))]\n",
    "\n",
    "        ax.plot(ks, inertias)\n",
    "        ax.plot(ks, y1, 'r--')\n",
    "        ax.plot(ks, y2, 'r--')\n",
    "        ax.set_ylim(0, None)\n",
    "        ax.set_xlabel('number of clusters')\n",
    "        ax.set_ylabel('inertia')\n",
    "        ax.set_xticks(ks)\n",
    "        ax.set_title('Elbow Method')\n",
    "\n",
    "    def dendrogram_method(df, ax):\n",
    "        df_sample = df.sample(n=1000, random_state=100)\n",
    "        clusters = hierarchy.linkage(df_sample, method=\"ward\")\n",
    "        hierarchy.dendrogram(clusters, ax=ax)\n",
    "        ax.set_title('Dendrogram')\n",
    "\n",
    "    # Create subplots\n",
    "    fig, (ax1, ax2) = plt.subplots(1, 2, figsize=(16, 6))\n",
    "\n",
    "    # Call the functions with the appropriate axes\n",
    "    elbow_method(df, k_range, ax1)\n",
    "    dendrogram_method(df, ax2)\n",
    "\n",
    "    # Display the plots\n",
    "    plt.show()\n",
    "\n",
    "# Example usage:\n",
    "# plot_clustering_methods(df, k_range=10)"
   ]
  },
  {
   "cell_type": "code",
   "execution_count": 26,
   "metadata": {},
   "outputs": [],
   "source": [
    "# Define a function to perform KMeans clustering\n",
    "\n",
    "def fit_kmeans_centroids(df, n_clusters, random_state=100):\n",
    "    df_copy = df.copy()\n",
    "    model = KMeans(n_clusters=n_clusters, random_state=random_state).fit(df_copy)\n",
    "    df_copy['label'] = model.labels_\n",
    "    df[\"label\"] = model.labels_\n",
    "    centroids = df_copy.groupby(['label']).mean().transpose()\n",
    "\n",
    "    return centroids"
   ]
  },
  {
   "cell_type": "code",
   "execution_count": 27,
   "metadata": {},
   "outputs": [],
   "source": [
    "# Define a function similar to the previous one that returns the labels\n",
    "\n",
    "def get_labels(df, n_clusters, random_state=100):\n",
    "    df_copy = df.copy()\n",
    "    model = KMeans(n_clusters=n_clusters, random_state=random_state).fit(df_copy)\n",
    "\n",
    "    return model.labels_"
   ]
  },
  {
   "cell_type": "code",
   "execution_count": 28,
   "metadata": {},
   "outputs": [],
   "source": [
    "# Output - histograma de df_prod agrupado por cluster\n",
    "def HistogramVarClusters(df, column_name):\n",
    "\n",
    "    # Get the number of clusters\n",
    "    num_clusters = df['label'].nunique()\n",
    "\n",
    "    # Create a single plot\n",
    "    fig, ax = plt.subplots(figsize=(8, 6))\n",
    "\n",
    "    # Iterate over clusters and plot histograms\n",
    "    for i in range(num_clusters):\n",
    "        cluster = df[df['label'] == i]\n",
    "        sns.histplot(cluster[column_name], ax=ax, color='C'+str(i), label=f'Cluster {i}', bins=20, alpha=0.6)\n",
    "\n",
    "    # Set the labels and legend\n",
    "    ax.set_xlabel(column_name)\n",
    "    ax.set_ylabel('Count')\n",
    "    ax.legend()\n",
    "\n",
    "    # Set the title\n",
    "    ax.set_title(f'Histograms of {column_name} by Cluster')"
   ]
  },
  {
   "cell_type": "code",
   "execution_count": 29,
   "metadata": {},
   "outputs": [],
   "source": [
    "# output - histogramas de df_prod agrupado por cluster\n",
    "def HistogramClusters(df, label_name):\n",
    "    num_vars = df.shape[1] - 1\n",
    "    num_clusters = df[label_name].nunique()\n",
    "    num_rows = num_vars // 2 + num_vars % 2\n",
    "    num_cols = 2\n",
    "\n",
    "    fig, axes = plt.subplots(num_rows, num_cols, figsize=(16, num_rows * 4))\n",
    "    fig.subplots_adjust(hspace=0.3)\n",
    "\n",
    "    axes = axes.reshape(-1)\n",
    "\n",
    "    for cluster in range(num_clusters):\n",
    "        for var_idx in range(1, num_vars + 1):\n",
    "            row_idx = (var_idx - 1) // num_cols\n",
    "            col_idx = (var_idx - 1) % num_cols\n",
    "\n",
    "            cluster_data = df[df[label_name] == cluster]\n",
    "            var_name = df.columns[var_idx-1]\n",
    "            ax = axes[row_idx*num_cols + col_idx]\n",
    "\n",
    "            sns.histplot(cluster_data[var_name], color='C'+str(cluster), label=f'{var_name} - Cluster {cluster}', bins=20, ax=ax)\n",
    "            ax.set_title(f'{var_name} - Clusters')\n",
    "            ax.legend()\n",
    "\n",
    "    legend_ax = fig.add_subplot(num_rows+1, num_cols//2, 3)\n",
    "    legend_ax.axis('off')\n",
    "\n",
    "    plt.show()\n",
    "\n",
    "def HistogramClusters_only_noise(df, label_name):\n",
    "    clusters = df['label'].unique()\n",
    "    clusters.sort()\n",
    "    num_vars = df.shape[1] - 1\n",
    "    num_rows = num_vars // 2 + num_vars % 2\n",
    "    num_cols = 2\n",
    "\n",
    "    fig, axes = plt.subplots(num_rows, num_cols, figsize=(16, num_rows * 4))\n",
    "    fig.subplots_adjust(hspace=0.3)\n",
    "\n",
    "    axes = axes.reshape(-1)\n",
    "\n",
    "    for cluster in clusters:\n",
    "        for var_idx in range(1, num_vars + 1):\n",
    "            if cluster == -1:\n",
    "                row_idx = (var_idx - 1) // num_cols\n",
    "                col_idx = (var_idx - 1) % num_cols\n",
    "\n",
    "                cluster_data = df[df[label_name] == cluster]\n",
    "                var_name = df.columns[var_idx-1]\n",
    "                ax = axes[row_idx*num_cols + col_idx]\n",
    "\n",
    "                sns.histplot(cluster_data[var_name], color='black', label=f'{var_name} - Cluster {cluster}', bins=20, ax=ax)\n",
    "                ax.set_title(f'{var_name} - Clusters')\n",
    "                ax.legend()\n",
    "\n",
    "    legend_ax = fig.add_subplot(num_rows+1, num_cols//2, 3)\n",
    "    legend_ax.axis('off')\n",
    "\n",
    "    plt.show()"
   ]
  },
  {
   "cell_type": "code",
   "execution_count": 30,
   "metadata": {},
   "outputs": [],
   "source": [
    "# Output - scatter plot de df_prod agrupado por cluster\n",
    "def ScatterPlot(df, label_name, var1, var2):\n",
    "    clusters = df[label_name].unique()\n",
    "    clusters.sort()\n",
    "    centroids = []\n",
    "    \n",
    "    for c in clusters:\n",
    "        cluster_df = df[df[label_name]==c]\n",
    "        centroid = [np.mean(cluster_df[var1]), np.mean(cluster_df[var2])]\n",
    "        centroids.append(centroid)\n",
    "    \n",
    "    fig, ax = plt.subplots(figsize=(8,6))\n",
    "    \n",
    "    for c in clusters:\n",
    "        if c == -1:\n",
    "            cluster_df = df[df[label_name]==c]\n",
    "            # Plot the scatter plot\n",
    "            ax.scatter(cluster_df[var1], cluster_df[var2], label=f\"Cluster {c}\", color='black')\n",
    "        else:\n",
    "            cluster_df = df[df[label_name]==c]\n",
    "            ax.scatter(cluster_df[var1], cluster_df[var2], label=f\"Cluster {c}\", color='C'+str(c))\n",
    "    \n",
    "    centroids = np.array(centroids)\n",
    "    ax.scatter(centroids[:,0], centroids[:,1], marker='x', color='black', s=100, linewidths=3)\n",
    "    \n",
    "    ax.set_xlabel(var1)\n",
    "    ax.set_ylabel(var2)\n",
    "    ax.legend()\n",
    "    plt.show()"
   ]
  },
  {
   "cell_type": "code",
   "execution_count": 31,
   "metadata": {},
   "outputs": [],
   "source": [
    "def ScatterPlotOriginal(df, df_prod, var1, var2):\n",
    "    # Concatenate the scaled and original dataframes\n",
    "    df_concat = pd.concat([df, df_prod.label], axis=1)\n",
    "    clusters = df_prod['label'].unique()\n",
    "    clusters.sort()\n",
    "\n",
    "    fig, ax = plt.subplots(figsize=(8,6))\n",
    "\n",
    "    for c in clusters:\n",
    "        if c == -1:\n",
    "            cluster_df = df_concat[df_concat['label'] == c]\n",
    "            # Plot the scatter plot\n",
    "            sns.scatterplot(x=var1, y=var2, data=cluster_df, label=f\"Cluster {c}\", color='black')\n",
    "        else:\n",
    "            cluster_df = df_concat[df_concat['label'] == c]\n",
    "            # Plot the scatter plot\n",
    "            sns.scatterplot(x=var1, y=var2, data=cluster_df, label=f\"Cluster {c}\", color='C'+str(c))\n",
    "            \n",
    "    ax.set_xlabel(var1)\n",
    "    ax.set_ylabel(var2)\n",
    "    ax.legend(loc='upper right')\n",
    "    plt.show()"
   ]
  },
  {
   "cell_type": "code",
   "execution_count": 32,
   "metadata": {},
   "outputs": [],
   "source": [
    "def ScatterPlotOriginal_noise_only(df, df_prod, var1, var2):\n",
    "    # Concatenate the scaled and original dataframes\n",
    "    df_concat = pd.concat([df, df_prod.label], axis=1)\n",
    "    clusters = df_prod['label'].unique()\n",
    "    clusters.sort()\n",
    "\n",
    "    fig, ax = plt.subplots(figsize=(8,6))\n",
    "\n",
    "    for c in clusters:\n",
    "        if c == -1:\n",
    "            cluster_df = df_concat[df_concat['label'] == c]\n",
    "            # Plot the scatter plot\n",
    "            sns.scatterplot(x=var1, y=var2, data=cluster_df, label=f\"Cluster {c}\", color='black')\n",
    "            \n",
    "    ax.set_xlabel(var1)\n",
    "    ax.set_ylabel(var2)\n",
    "    ax.legend(loc='upper right')\n",
    "    plt.show()\n"
   ]
  },
  {
   "cell_type": "code",
   "execution_count": 33,
   "metadata": {},
   "outputs": [],
   "source": [
    "def silhouette_scores(df_model):\n",
    "    # calculate the silhouette scores for each sample\n",
    "    scores = silhouette_samples(df_model, df_model.label)\n",
    "\n",
    "    # get the unique cluster labels\n",
    "    labels = np.unique(df_model.label)\n",
    "\n",
    "    # create a figure with multiple subplots\n",
    "    fig, axes = plt.subplots(nrows=1, ncols=len(labels), figsize=(10, 5))\n",
    "\n",
    "    # loop over the cluster labels and plot the scores for each one\n",
    "    for i, label in enumerate(labels):\n",
    "        # get the scores for the current label\n",
    "        label_scores = scores[df_model.label == label]\n",
    "        \n",
    "        # print some descriptive statistics\n",
    "        print(f'Cluster {label}:')\n",
    "        print(f'Mean: {np.mean(label_scores)}')\n",
    "        print(f'Median: {np.median(label_scores)}')\n",
    "        print(f'Standard deviation: {np.std(label_scores)}')\n",
    "        print(f'Minimum: {np.min(label_scores)}')\n",
    "        print(f'Maximum: {np.max(label_scores)}\\n_______________________________________')\n",
    "        \n",
    "        # plot a histogram of the scores on the subplot\n",
    "        axes[i].hist(label_scores)\n",
    "        axes[i].set_xlabel('Silhouette coefficient')\n",
    "        axes[i].set_ylabel('Frequency')\n",
    "        axes[i].set_title(f'Cluster {label}')\n",
    "    print(f'\\nOverall mean: {np.mean(scores)}')\n",
    "    # adjust the spacing between subplots\n",
    "    plt.tight_layout()\n",
    "\n",
    "    # show the figure\n",
    "    plt.show()"
   ]
  },
  {
   "cell_type": "markdown",
   "metadata": {},
   "source": [
    "<div class=\"alert alert-block alert-success\">\n",
    "<a id='explore'>\n",
    "<font color = '#006400'> \n",
    "    \n",
    "# 3. Base Cluster scenarios for all clients</font>\n",
    "</a>\n",
    "\n",
    "- Demographic: get to know our clients\n",
    "- Services subscribed to: service positioning\n",
    "- RFM Analysis: Tenure (Recency), Frequency, and Monetary values\n",
    "- Profitability\n",
    "    \n",
    "</div>"
   ]
  },
  {
   "cell_type": "markdown",
   "metadata": {},
   "source": [
    "## 3.1. Demographic cluster\n",
    "- Understanding the basic profile of customer to guide targeted campaigns and help in product development tailored to specific age groups, genders, or life stages.\n",
    "\n",
    "Insights #1: K=4 'Under 30', 'Senior Citizen', 'Gender_Male', 'Dependents', 'Married'\n",
    "- Cluster 0: young and senior male customers who are predominalty single and without dependents\n",
    "- Cluster 1: married male customers with a balanced age distribution. Large portion has dependents\n",
    "- Cluster 2: married female customers with a mixed age distribution. Significant portion has dependents\n",
    "- Cluster 3: young and senior female customers, most of whom are single and without dependents\n",
    "\n",
    "Insights #2: K=3 with continous variables Age and Number of Dependents\n",
    "- Cluster 0: Young Adults in late 20s many having one dependent and some starting families. Mix or married and single individuals.\n",
    "- Cluster 1: Seniors, tend to have fewer dependents, mix of married and single\n",
    "- Cluster 2: Middle-Aged Adults, late 40s, significant portion has dependents (teenagers or young adults) and balanced mix of married and single"
   ]
  },
  {
   "cell_type": "code",
   "execution_count": 41,
   "metadata": {},
   "outputs": [],
   "source": [
    "# Choose combination of variables\n",
    "\n",
    "#1 demographic = df[['Under 30', 'Senior Citizen', 'Gender_Male', 'Dependents', 'Married']]\n",
    "#2 \n",
    "demographic = df[['Age', 'Gender_Male', 'Number of Dependents', 'Married']]"
   ]
  },
  {
   "cell_type": "code",
   "execution_count": 43,
   "metadata": {},
   "outputs": [
    {
     "data": {
      "image/png": "[encoded data removed]",
      "text/plain": [
       "<Figure size 1600x600 with 2 Axes>"
      ]
     },
     "metadata": {},
     "output_type": "display_data"
    }
   ],
   "source": [
    "plot_clustering_methods(demographic, 10)"
   ]
  },
  {
   "cell_type": "code",
   "execution_count": 44,
   "metadata": {},
   "outputs": [
    {
     "name": "stderr",
     "output_type": "stream",
     "text": [
      "C:\\Users\\saras\\AppData\\Local\\Temp\\ipykernel_15696\\1036560146.py:7: SettingWithCopyWarning: \n",
      "A value is trying to be set on a copy of a slice from a DataFrame.\n",
      "Try using .loc[row_indexer,col_indexer] = value instead\n",
      "\n",
      "See the caveats in the documentation: https://pandas.pydata.org/pandas-docs/stable/user_guide/indexing.html#returning-a-view-versus-a-copy\n",
      "  df[\"label\"] = model.labels_\n"
     ]
    },
    {
     "data": {
      "text/html": [
       "<div>\n",
       "<style scoped>\n",
       "    .dataframe tbody tr th:only-of-type {\n",
       "        vertical-align: middle;\n",
       "    }\n",
       "\n",
       "    .dataframe tbody tr th {\n",
       "        vertical-align: top;\n",
       "    }\n",
       "\n",
       "    .dataframe thead th {\n",
       "        text-align: right;\n",
       "    }\n",
       "</style>\n",
       "<table border=\"1\" class=\"dataframe\">\n",
       "  <thead>\n",
       "    <tr style=\"text-align: right;\">\n",
       "      <th>label</th>\n",
       "      <th>0</th>\n",
       "      <th>1</th>\n",
       "      <th>2</th>\n",
       "    </tr>\n",
       "  </thead>\n",
       "  <tbody>\n",
       "    <tr>\n",
       "      <th>Age</th>\n",
       "      <td>27.895087</td>\n",
       "      <td>67.486393</td>\n",
       "      <td>47.394656</td>\n",
       "    </tr>\n",
       "    <tr>\n",
       "      <th>Gender_Male</th>\n",
       "      <td>0.505828</td>\n",
       "      <td>0.506185</td>\n",
       "      <td>0.502672</td>\n",
       "    </tr>\n",
       "    <tr>\n",
       "      <th>Number of Dependents</th>\n",
       "      <td>0.536636</td>\n",
       "      <td>0.287976</td>\n",
       "      <td>0.545802</td>\n",
       "    </tr>\n",
       "    <tr>\n",
       "      <th>Married</th>\n",
       "      <td>0.490841</td>\n",
       "      <td>0.486888</td>\n",
       "      <td>0.472901</td>\n",
       "    </tr>\n",
       "  </tbody>\n",
       "</table>\n",
       "</div>"
      ],
      "text/plain": [
       "label                         0          1          2\n",
       "Age                   27.895087  67.486393  47.394656\n",
       "Gender_Male            0.505828   0.506185   0.502672\n",
       "Number of Dependents   0.536636   0.287976   0.545802\n",
       "Married                0.490841   0.486888   0.472901"
      ]
     },
     "execution_count": 44,
     "metadata": {},
     "output_type": "execute_result"
    }
   ],
   "source": [
    "fit_kmeans_centroids(demographic, 3)"
   ]
  },
  {
   "cell_type": "code",
   "execution_count": 52,
   "metadata": {},
   "outputs": [
    {
     "ename": "KeyError",
     "evalue": "'Cluster_demographic'",
     "output_type": "error",
     "traceback": [
      "\u001b[1;31m---------------------------------------------------------------------------\u001b[0m",
      "\u001b[1;31mKeyError\u001b[0m                                  Traceback (most recent call last)",
      "\u001b[1;32m~\\AppData\\Local\\Temp\\ipykernel_15696\\1177924787.py\u001b[0m in \u001b[0;36m<module>\u001b[1;34m\u001b[0m\n\u001b[0;32m      1\u001b[0m \u001b[0mdf\u001b[0m\u001b[1;33m[\u001b[0m\u001b[1;34m\"Cluster_demographic\"\u001b[0m\u001b[1;33m]\u001b[0m \u001b[1;33m=\u001b[0m \u001b[0mdemographic\u001b[0m\u001b[1;33m.\u001b[0m\u001b[0mlabel\u001b[0m\u001b[1;33m\u001b[0m\u001b[1;33m\u001b[0m\u001b[0m\n\u001b[1;32m----> 2\u001b[1;33m \u001b[0mdemographic\u001b[0m\u001b[1;33m.\u001b[0m\u001b[0mgroupby\u001b[0m\u001b[1;33m(\u001b[0m\u001b[1;33m[\u001b[0m\u001b[1;34m\"Cluster_demographic\"\u001b[0m\u001b[1;33m]\u001b[0m\u001b[1;33m)\u001b[0m\u001b[1;33m.\u001b[0m\u001b[0mdescribe\u001b[0m\u001b[1;33m(\u001b[0m\u001b[1;33m)\u001b[0m\u001b[1;33m.\u001b[0m\u001b[0mtranspose\u001b[0m\u001b[1;33m(\u001b[0m\u001b[1;33m)\u001b[0m\u001b[1;33m\u001b[0m\u001b[1;33m\u001b[0m\u001b[0m\n\u001b[0m",
      "\u001b[1;32mc:\\ProgramData\\Anaconda3\\lib\\site-packages\\pandas\\core\\frame.py\u001b[0m in \u001b[0;36mgroupby\u001b[1;34m(self, by, axis, level, as_index, sort, group_keys, squeeze, observed, dropna)\u001b[0m\n\u001b[0;32m   7719\u001b[0m         \u001b[1;31m# error: Argument \"squeeze\" to \"DataFrameGroupBy\" has incompatible type\u001b[0m\u001b[1;33m\u001b[0m\u001b[1;33m\u001b[0m\u001b[0m\n\u001b[0;32m   7720\u001b[0m         \u001b[1;31m# \"Union[bool, NoDefault]\"; expected \"bool\"\u001b[0m\u001b[1;33m\u001b[0m\u001b[1;33m\u001b[0m\u001b[0m\n\u001b[1;32m-> 7721\u001b[1;33m         return DataFrameGroupBy(\n\u001b[0m\u001b[0;32m   7722\u001b[0m             \u001b[0mobj\u001b[0m\u001b[1;33m=\u001b[0m\u001b[0mself\u001b[0m\u001b[1;33m,\u001b[0m\u001b[1;33m\u001b[0m\u001b[1;33m\u001b[0m\u001b[0m\n\u001b[0;32m   7723\u001b[0m             \u001b[0mkeys\u001b[0m\u001b[1;33m=\u001b[0m\u001b[0mby\u001b[0m\u001b[1;33m,\u001b[0m\u001b[1;33m\u001b[0m\u001b[1;33m\u001b[0m\u001b[0m\n",
      "\u001b[1;32mc:\\ProgramData\\Anaconda3\\lib\\site-packages\\pandas\\core\\groupby\\groupby.py\u001b[0m in \u001b[0;36m__init__\u001b[1;34m(self, obj, keys, axis, level, grouper, exclusions, selection, as_index, sort, group_keys, squeeze, observed, mutated, dropna)\u001b[0m\n\u001b[0;32m    880\u001b[0m             \u001b[1;32mfrom\u001b[0m \u001b[0mpandas\u001b[0m\u001b[1;33m.\u001b[0m\u001b[0mcore\u001b[0m\u001b[1;33m.\u001b[0m\u001b[0mgroupby\u001b[0m\u001b[1;33m.\u001b[0m\u001b[0mgrouper\u001b[0m \u001b[1;32mimport\u001b[0m \u001b[0mget_grouper\u001b[0m\u001b[1;33m\u001b[0m\u001b[1;33m\u001b[0m\u001b[0m\n\u001b[0;32m    881\u001b[0m \u001b[1;33m\u001b[0m\u001b[0m\n\u001b[1;32m--> 882\u001b[1;33m             grouper, exclusions, obj = get_grouper(\n\u001b[0m\u001b[0;32m    883\u001b[0m                 \u001b[0mobj\u001b[0m\u001b[1;33m,\u001b[0m\u001b[1;33m\u001b[0m\u001b[1;33m\u001b[0m\u001b[0m\n\u001b[0;32m    884\u001b[0m                 \u001b[0mkeys\u001b[0m\u001b[1;33m,\u001b[0m\u001b[1;33m\u001b[0m\u001b[1;33m\u001b[0m\u001b[0m\n",
      "\u001b[1;32mc:\\ProgramData\\Anaconda3\\lib\\site-packages\\pandas\\core\\groupby\\grouper.py\u001b[0m in \u001b[0;36mget_grouper\u001b[1;34m(obj, key, axis, level, sort, observed, mutated, validate, dropna)\u001b[0m\n\u001b[0;32m    880\u001b[0m                 \u001b[0min_axis\u001b[0m\u001b[1;33m,\u001b[0m \u001b[0mlevel\u001b[0m\u001b[1;33m,\u001b[0m \u001b[0mgpr\u001b[0m \u001b[1;33m=\u001b[0m \u001b[1;32mFalse\u001b[0m\u001b[1;33m,\u001b[0m \u001b[0mgpr\u001b[0m\u001b[1;33m,\u001b[0m \u001b[1;32mNone\u001b[0m\u001b[1;33m\u001b[0m\u001b[1;33m\u001b[0m\u001b[0m\n\u001b[0;32m    881\u001b[0m             \u001b[1;32melse\u001b[0m\u001b[1;33m:\u001b[0m\u001b[1;33m\u001b[0m\u001b[1;33m\u001b[0m\u001b[0m\n\u001b[1;32m--> 882\u001b[1;33m                 \u001b[1;32mraise\u001b[0m \u001b[0mKeyError\u001b[0m\u001b[1;33m(\u001b[0m\u001b[0mgpr\u001b[0m\u001b[1;33m)\u001b[0m\u001b[1;33m\u001b[0m\u001b[1;33m\u001b[0m\u001b[0m\n\u001b[0m\u001b[0;32m    883\u001b[0m         \u001b[1;32melif\u001b[0m \u001b[0misinstance\u001b[0m\u001b[1;33m(\u001b[0m\u001b[0mgpr\u001b[0m\u001b[1;33m,\u001b[0m \u001b[0mGrouper\u001b[0m\u001b[1;33m)\u001b[0m \u001b[1;32mand\u001b[0m \u001b[0mgpr\u001b[0m\u001b[1;33m.\u001b[0m\u001b[0mkey\u001b[0m \u001b[1;32mis\u001b[0m \u001b[1;32mnot\u001b[0m \u001b[1;32mNone\u001b[0m\u001b[1;33m:\u001b[0m\u001b[1;33m\u001b[0m\u001b[1;33m\u001b[0m\u001b[0m\n\u001b[0;32m    884\u001b[0m             \u001b[1;31m# Add key to exclusions\u001b[0m\u001b[1;33m\u001b[0m\u001b[1;33m\u001b[0m\u001b[0m\n",
      "\u001b[1;31mKeyError\u001b[0m: 'Cluster_demographic'"
     ]
    }
   ],
   "source": [
    "df[\"Cluster_demographic\"] = demographic.label\n",
    "demographic.groupby([\"Cluster_demographic\"]).describe().transpose()"
   ]
  },
  {
   "cell_type": "code",
   "execution_count": null,
   "metadata": {},
   "outputs": [],
   "source": []
  },
  {
   "cell_type": "markdown",
   "metadata": {},
   "source": [
    "## 3.2. Service Usage Clustering\n",
    "- Segmenting customers based on the services they use can provide insights into cross-selling or upselling opportunities. \n",
    "- For instance, if a particular cluster is high on phone services but low on online security, there might be an opportunity to pitch online security to them.\n",
    "\n",
    "Features: \n",
    "- Phone Service\n",
    "- Internet Service\n",
    "- Online Security\n",
    "- Online Backup\n",
    "- Multiple Lines\n",
    "- Device Protection Plan\n",
    "- Premium Tech Support\n",
    "- Unlimited Data\n",
    "- Internet Type_Cable\n",
    "- Internet Type_DSL\n",
    "- Internet Type_Fiber Optic"
   ]
  },
  {
   "cell_type": "code",
   "execution_count": null,
   "metadata": {},
   "outputs": [],
   "source": []
  },
  {
   "cell_type": "markdown",
   "metadata": {},
   "source": [
    "## 3.3. Streaming Behavior Clustering\n",
    "- This will help understand entertainment and content preferences of the customers, which can be used for partnerships with content providers or tailor-made package offers."
   ]
  },
  {
   "cell_type": "code",
   "execution_count": null,
   "metadata": {},
   "outputs": [],
   "source": []
  },
  {
   "cell_type": "markdown",
   "metadata": {},
   "source": [
    "## 3.4. Customer Tenure & Contract Clustering \n",
    "\n",
    "- Understanding the commitment level and longevity of customers can be crucial for retention strategies. For instance, customers on a month-to-month contract with low tenure might be at a higher risk of churn."
   ]
  },
  {
   "cell_type": "code",
   "execution_count": null,
   "metadata": {},
   "outputs": [],
   "source": []
  },
  {
   "cell_type": "code",
   "execution_count": null,
   "metadata": {},
   "outputs": [],
   "source": []
  },
  {
   "cell_type": "markdown",
   "metadata": {},
   "source": [
    "## 3.5. Payment Behavior Clustering\n",
    "- This can give insights into the financial habits of the customers. It might also give an indication of the trust level customers have with the company."
   ]
  },
  {
   "cell_type": "code",
   "execution_count": null,
   "metadata": {},
   "outputs": [],
   "source": []
  },
  {
   "cell_type": "markdown",
   "metadata": {},
   "source": [
    "## 3.5. Profitability & Revenue Clustering\n",
    "- Categorizing customers based on their revenue contribution can help in identifying high-value customers to offer special packages or loyalty benefits. It also helps in risk management to ensure high-value customers don't churn."
   ]
  },
  {
   "cell_type": "code",
   "execution_count": null,
   "metadata": {},
   "outputs": [],
   "source": []
  },
  {
   "cell_type": "markdown",
   "metadata": {},
   "source": []
  },
  {
   "cell_type": "markdown",
   "metadata": {},
   "source": [
    "<div class=\"alert alert-block alert-success\">\n",
    "<a id='explore'>\n",
    "<font color = '#006400'> \n",
    "    \n",
    "# 4. Churn Cluster analysis </font>\n",
    "</a>\n",
    "    \n",
    "</div>"
   ]
  },
  {
   "cell_type": "markdown",
   "metadata": {},
   "source": [
    "## 4.1. Churn Risk Clustering\n",
    "- Clustering based on churn predictors can help in targeted retention strategies.\n",
    "\n",
    "Features: \n",
    "- Churn Label\n",
    "- Churn Score\n",
    "- Churn Category_Attitude\n",
    "- Churn Category_Competitor\n",
    "- Churn Category_Dissatisfaction\n",
    "- Churn Category_Price\n",
    "- Satisfaction Score"
   ]
  }
 ],
 "metadata": {
  "kernelspec": {
   "display_name": "Python 3",
   "language": "python",
   "name": "python3"
  },
  "language_info": {
   "codemirror_mode": {
    "name": "ipython",
    "version": 3
   },
   "file_extension": ".py",
   "mimetype": "text/x-python",
   "name": "python",
   "nbconvert_exporter": "python",
   "pygments_lexer": "ipython3",
   "version": "3.9.13"
  }
 },
 "nbformat": 4,
 "nbformat_minor": 2
}
