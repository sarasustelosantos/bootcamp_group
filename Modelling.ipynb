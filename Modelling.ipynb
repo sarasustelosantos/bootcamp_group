{
 "cells": [
  {
   "cell_type": "markdown",
   "metadata": {},
   "source": [
    "# Modelling\n",
    "## 1. Prepare for Modelling\n",
    "### 1.1. Import libraries"
   ]
  },
  {
   "cell_type": "code",
   "execution_count": 2,
   "metadata": {},
   "outputs": [],
   "source": [
    "import pandas as pd"
   ]
  },
  {
   "cell_type": "markdown",
   "metadata": {},
   "source": [
    "### 1.2. Import data"
   ]
  },
  {
   "cell_type": "code",
   "execution_count": 5,
   "metadata": {},
   "outputs": [],
   "source": [
    "# Substituir pelo df do feature selection \n",
    "all_data = pd.read_csv(\"df_clustered.csv\")\n",
    "all_data.set_index('Customer ID', inplace = True)"
   ]
  },
  {
   "cell_type": "code",
   "execution_count": 7,
   "metadata": {},
   "outputs": [
    {
     "data": {
      "text/plain": [
       "Index(['Age', 'Under 30', 'Senior Citizen', 'Married', 'Dependents',\n",
       "       'Number of Dependents', 'City', 'Referred a Friend',\n",
       "       'Number of Referrals', 'Tenure in Months', 'Tenure Category',\n",
       "       'Phone Service', 'Avg Monthly Long Distance Charges', 'Multiple Lines',\n",
       "       'Internet Service', 'Avg Monthly GB Download', 'Online Security',\n",
       "       'Online Backup', 'Device Protection Plan', 'Premium Tech Support',\n",
       "       'Streaming TV', 'Streaming Movies', 'Streaming Music', 'Unlimited Data',\n",
       "       'Paperless Billing', 'Monthly Charge', 'Total Charges', 'Total Refunds',\n",
       "       'Total Extra Data Charges', 'Total Long Distance Charges',\n",
       "       'Total Revenue', 'Satisfaction Score', 'New Customer', 'Churn Label',\n",
       "       'Churn Score', 'CLTV', 'Churn Reason', 'Population', 'Engagement Score',\n",
       "       'Gender_Male', 'Offer_Offer A', 'Offer_Offer B', 'Offer_Offer C',\n",
       "       'Offer_Offer D', 'Offer_Offer E', 'Internet Type_Cable',\n",
       "       'Internet Type_DSL', 'Internet Type_Fiber Optic',\n",
       "       'Payment Method_Bank Withdrawal', 'Payment Method_Credit Card',\n",
       "       'Churn Category_Attitude', 'Churn Category_Competitor',\n",
       "       'Churn Category_Dissatisfaction', 'Churn Category_Price',\n",
       "       'Density_High', 'Density_Low', 'Contract_Month-to-Month',\n",
       "       'Contract_One Year', 'Contract_Two Year', 'Cluster_Demo', 'Cluster_SVC',\n",
       "       'Cluster_Streaming', 'Cluster_Tenure', 'Cluster_Payment',\n",
       "       'Cluster_Profit', 'Cluster_Overall', 'Cluster_Churn'],\n",
       "      dtype='object')"
      ]
     },
     "execution_count": 7,
     "metadata": {},
     "output_type": "execute_result"
    }
   ],
   "source": [
    "all_data.columns"
   ]
  },
  {
   "cell_type": "code",
   "execution_count": 8,
   "metadata": {},
   "outputs": [],
   "source": [
    "# Drop irrelevant variables (cluster) \n",
    "columns_to_remove=[col for col in all_data.columns if col.startswith('Cluster_')]\n",
    "all_data.drop(columns=columns_to_remove, inplace=True, errors='ignore')"
   ]
  },
  {
   "cell_type": "markdown",
   "metadata": {},
   "source": [
    "### 1.3. Feature Selection"
   ]
  },
  {
   "cell_type": "code",
   "execution_count": 14,
   "metadata": {},
   "outputs": [],
   "source": [
    "scenario1 = all_data[['Senior Citizen','Dependents','Referred a Friend','Internet Service','Internet Type_Fiber Optic','Online Security','Offer_Offer E',\n",
    "                     'Offer_Offer A','Premium Tech Support','Unlimited Data','Contract_Month-to-Month','Paperless Billing','Payment Method_Credit Card', 'Churn Label']]"
   ]
  },
  {
   "cell_type": "code",
   "execution_count": null,
   "metadata": {},
   "outputs": [],
   "source": []
  },
  {
   "cell_type": "code",
   "execution_count": null,
   "metadata": {},
   "outputs": [],
   "source": []
  },
  {
   "cell_type": "code",
   "execution_count": null,
   "metadata": {},
   "outputs": [],
   "source": []
  }
 ],
 "metadata": {
  "kernelspec": {
   "display_name": "base",
   "language": "python",
   "name": "python3"
  },
  "language_info": {
   "codemirror_mode": {
    "name": "ipython",
    "version": 3
   },
   "file_extension": ".py",
   "mimetype": "text/x-python",
   "name": "python",
   "nbconvert_exporter": "python",
   "pygments_lexer": "ipython3",
   "version": "3.9.13"
  }
 },
 "nbformat": 4,
 "nbformat_minor": 2
}
