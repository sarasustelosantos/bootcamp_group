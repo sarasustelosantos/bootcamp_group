{
 "cells": [
  {
   "cell_type": "markdown",
   "metadata": {},
   "source": [
    "# Modelling\n",
    "## 1. Prepare for Modelling\n",
    "### 1.1. Import libraries"
   ]
  },
  {
   "cell_type": "code",
   "execution_count": 63,
   "metadata": {},
   "outputs": [],
   "source": [
    "import pandas as pd\n",
    "from sklearn.model_selection import StratifiedKFold\n",
    "from sklearn.preprocessing import StandardScaler\n",
    "\n",
    "# Models\n",
    "from sklearn.linear_model import LogisticRegression\n",
    "from sklearn.tree import DecisionTreeClassifier\n",
    "from sklearn.ensemble import RandomForestClassifier\n",
    "from sklearn.svm import SVC\n",
    "from sklearn.naive_bayes import GaussianNB\n",
    "from sklearn.neighbors import KNeighborsClassifier\n",
    "from sklearn.ensemble import GradientBoostingClassifier\n",
    "from sklearn.neural_network import MLPClassifier\n",
    "\n",
    "# Data Split\n",
    "from sklearn.model_selection import train_test_split\n",
    "\n",
    "# Evaluation Metrics\n",
    "from sklearn.metrics import accuracy_score, classification_report, confusion_matrix, f1_score, recall_score, precision_recall_curve\n",
    "\n",
    "from sklearn.model_selection import RandomizedSearchCV\n",
    "from sklearn.ensemble import GradientBoostingClassifier\n",
    "from sklearn.model_selection import GridSearchCV\n",
    "import numpy as np\n",
    "from pprint import pprint\n",
    "\n",
    "import matplotlib.pyplot as plt\n"
   ]
  },
  {
   "cell_type": "code",
   "execution_count": 30,
   "metadata": {},
   "outputs": [],
   "source": [
    "# Disable Warnings\n",
    "import warnings\n",
    "warnings.filterwarnings(\"ignore\")"
   ]
  },
  {
   "cell_type": "markdown",
   "metadata": {},
   "source": [
    "### 1.2. Import data"
   ]
  },
  {
   "cell_type": "code",
   "execution_count": 31,
   "metadata": {},
   "outputs": [],
   "source": [
    "# Substituir pelo df do feature selection \n",
    "all_data = pd.read_csv('data/processed/df_clustered.csv')"
   ]
  },
  {
   "cell_type": "code",
   "execution_count": 32,
   "metadata": {},
   "outputs": [],
   "source": [
    "# Drop irrelevant variables for prediction (cluster) \n",
    "columns_to_remove=[col for col in all_data.columns if col.startswith('Cluster_')]\n",
    "all_data.drop(columns=columns_to_remove, inplace=True, errors='ignore')"
   ]
  },
  {
   "cell_type": "markdown",
   "metadata": {},
   "source": [
    "### 1.3. Feature Selection"
   ]
  },
  {
   "cell_type": "code",
   "execution_count": 33,
   "metadata": {},
   "outputs": [],
   "source": [
    "# Import scenarios generated in feature selection\n",
    "scenario1_td = pd.read_csv('data/processed/scenario1.csv')\n",
    "scenario2_td = pd.read_csv('data/processed/scenario2.csv')\n",
    "\n",
    "# Other scenarios created in this notebook\n",
    "\n",
    "scenario3 = all_data[[\"Customer ID\", 'Senior Citizen','Dependents','Referred a Friend','Internet Service','Internet Type_Fiber Optic','Online Security','Offer_Offer E',\n",
    "                     'Offer_Offer A','Premium Tech Support','Unlimited Data','Contract_Month-to-Month','Paperless Billing','Payment Method_Credit Card', 'Churn Score', 'Satisfaction Score']]"
   ]
  },
  {
   "cell_type": "code",
   "execution_count": 34,
   "metadata": {},
   "outputs": [
    {
     "name": "stdout",
     "output_type": "stream",
     "text": [
      "Index(['Customer ID', 'Satisfaction Score', 'Churn Score',\n",
      "       'Contract_Month-to-Month', 'Number of Referrals', 'Online Security',\n",
      "       'Monthly Charge', 'Offer_Offer E', 'Offer_Offer A',\n",
      "       'Contract_Two Year'],\n",
      "      dtype='object')\n"
     ]
    }
   ],
   "source": [
    "print(scenario2_td.columns)"
   ]
  },
  {
   "cell_type": "code",
   "execution_count": 35,
   "metadata": {},
   "outputs": [
    {
     "name": "stdout",
     "output_type": "stream",
     "text": [
      "Index(['Customer ID', 'Satisfaction Score', 'Churn Score',\n",
      "       'Contract_Month-to-Month', 'Number of Referrals', 'Online Security',\n",
      "       'Monthly Charge'],\n",
      "      dtype='object')\n"
     ]
    }
   ],
   "source": [
    "print(scenario1_td.columns)"
   ]
  },
  {
   "cell_type": "code",
   "execution_count": 36,
   "metadata": {},
   "outputs": [
    {
     "name": "stdout",
     "output_type": "stream",
     "text": [
      "Index(['Customer ID', 'Senior Citizen', 'Dependents', 'Referred a Friend',\n",
      "       'Internet Service', 'Internet Type_Fiber Optic', 'Online Security',\n",
      "       'Offer_Offer E', 'Offer_Offer A', 'Premium Tech Support',\n",
      "       'Unlimited Data', 'Contract_Month-to-Month', 'Paperless Billing',\n",
      "       'Payment Method_Credit Card', 'Churn Score', 'Satisfaction Score'],\n",
      "      dtype='object')\n"
     ]
    }
   ],
   "source": [
    "print(scenario3.columns)"
   ]
  },
  {
   "cell_type": "code",
   "execution_count": 37,
   "metadata": {},
   "outputs": [],
   "source": [
    "scenario1_td.drop(columns=['Churn Score', 'Satisfaction Score'], inplace=True, errors='ignore')\n",
    "scenario2_td.drop(columns=['Churn Score', 'Satisfaction Score'], inplace=True, errors='ignore')\n",
    "scenario3.drop(columns=['Churn Score', 'Satisfaction Score'], inplace=True, errors='ignore')"
   ]
  },
  {
   "cell_type": "markdown",
   "metadata": {},
   "source": [
    "### 1.4. Data Split\n",
    "> Train-Test split<p>\n",
    "> Train data in predictors (X) and target variable (y)"
   ]
  },
  {
   "cell_type": "code",
   "execution_count": 38,
   "metadata": {},
   "outputs": [],
   "source": [
    "# List to append the metrics of all the models\n",
    "models_metrics =[]"
   ]
  },
  {
   "cell_type": "code",
   "execution_count": 39,
   "metadata": {},
   "outputs": [],
   "source": [
    "def data_split(scenario):\n",
    "    # Define the scenario to test\n",
    "    df = scenario.copy()\n",
    "    df.set_index(\"Customer ID\", inplace=True)\n",
    "\n",
    "    # Split\n",
    "    X_total = df\n",
    "    y_total = all_data[[\"Customer ID\", \"Churn Label\"]]\n",
    "    y_total.set_index(\"Customer ID\", inplace=True)\n",
    "\n",
    "    # Splitting the Data into Train and test with 20% test Data. Stratify dut to unbalance Dataset. (Only 27% Churn)\n",
    "    X_train_total, X_test, y_train_total, y_test = train_test_split(X_total, y_total, test_size=0.20, random_state=1, stratify=y_total)\n",
    "\n",
    "    return X_train_total, X_test, y_train_total, y_test\n",
    "\n",
    "X_train_total, X_test, y_train_total, y_test = data_split(scenario3)"
   ]
  },
  {
   "cell_type": "markdown",
   "metadata": {},
   "source": [
    "## 2. Baseline X_train\n",
    "### 2.1 Logistic Regression - Train and Validation Results"
   ]
  },
  {
   "cell_type": "code",
   "execution_count": 40,
   "metadata": {},
   "outputs": [],
   "source": [
    "def train_eval(model, X_train_total=X_train_total, X_test=X_test, y_train_total=y_train_total, y_test=y_test):\n",
    "    # Feature scaling - scenario 1 already scaled\n",
    "    #scaler = StandardScaler()\n",
    "    #X_scaled = scaler.fit_transform(X_train)\n",
    "\n",
    "    # Create StratifiedKFold\n",
    "    k_fold = StratifiedKFold(n_splits=5, shuffle=True, random_state=42)\n",
    "\n",
    "    # Initialize variables to store Validation results\n",
    "    train_accuracy_scores = []\n",
    "    train_f1_scores = []\n",
    "    train_recall_scores = []\n",
    "\n",
    "    # Initialize variables to store Validation results\n",
    "    val_accuracy_scores = []\n",
    "    val_f1_scores = []\n",
    "    val_recall_scores =[]\n",
    "\n",
    "    # Perform k-fold cross-validation\n",
    "    for train_idx, val_idx in k_fold.split(X_train_total, y_train_total):\n",
    "        X_train, X_val = X_train_total.iloc[train_idx], X_train_total.iloc[val_idx]\n",
    "        y_train, y_val = y_train_total.iloc[train_idx], y_train_total.iloc[val_idx]\n",
    "\n",
    "        # Train the model\n",
    "        model.fit(X_train, y_train)\n",
    "        \n",
    "        # Make predictions on the training set  - To check potential overfitting\n",
    "        y_train_pred = model.predict(X_train)\n",
    "\n",
    "        # Accuracy\n",
    "        accuracy = accuracy_score(y_train, y_train_pred)\n",
    "        train_accuracy_scores.append(round(accuracy,3))\n",
    "        \n",
    "        #F1 Score \n",
    "        f1 = f1_score(y_train, y_train_pred)\n",
    "        train_f1_scores.append(round(f1,3))\n",
    "        \n",
    "        #Recall\n",
    "        recall = recall_score(y_train, y_train_pred)\n",
    "        train_recall_scores.append(round(recall,3))\n",
    "\n",
    "        # Make predictions on the validation set\n",
    "        y_val_pred = model.predict(X_val)\n",
    "\n",
    "        # accuracy\n",
    "        accuracy = accuracy_score(y_val, y_val_pred)\n",
    "        val_accuracy_scores.append(round(accuracy,3))\n",
    "        \n",
    "        #F1 Score \n",
    "        f1 = f1_score(y_val, y_val_pred)\n",
    "        val_f1_scores.append(round(f1,3))\n",
    "        \n",
    "        #Recall \n",
    "        recall = recall_score(y_val, y_val_pred,)\n",
    "        val_recall_scores.append(round(recall,3))\n",
    "\n",
    "    #Training\n",
    "    # Print accuracy results\n",
    "    print(\"--- Training ---\")\n",
    "    print(\"Accuracy:\")\n",
    "    print(f'Cross-Validation Accuracy: {train_accuracy_scores}')\n",
    "    print(f'Mean Accuracy: {round(sum(train_accuracy_scores) / len(train_accuracy_scores),3)}\\n')\n",
    "\n",
    "    # Print F1 results\n",
    "    print(\"F1 Score:\")\n",
    "    print(f'Cross-Validation F1: {train_f1_scores}')\n",
    "    print(f'Mean F1: {round(sum(train_f1_scores) / len(train_f1_scores),3)}\\n')\n",
    "    \n",
    "    # Print Recall\n",
    "    print(\"Recall Score:\")\n",
    "    print(f'Cross-Validation Recall: {train_recall_scores}')\n",
    "    print(f'Mean F1: {round(sum(train_recall_scores) / len(train_recall_scores),3)}\\n')\n",
    "\n",
    "    #Validation\n",
    "    # Print accuracy results\n",
    "    print(\"--- Validation ---\")\n",
    "    print(\"Accuracy:\")\n",
    "    print(f'Cross-Validation Accuracy: {val_accuracy_scores}')\n",
    "    print(f'Mean Accuracy: {round(sum(val_accuracy_scores) / len(val_accuracy_scores),3)}\\n')\n",
    "\n",
    "    # Print F1 results\n",
    "    print(\"F1 Score:\")\n",
    "    print(f'Cross-Validation F1: {val_f1_scores}')\n",
    "    print(f'Mean F1: {round(sum(val_f1_scores) / len(val_f1_scores),3)}\\n')\n",
    "    \n",
    "    # Print Recall\n",
    "    print(\"Recall Score:\")\n",
    "    print(f'Cross-Validation Recall: {val_recall_scores}')\n",
    "    print(f'Mean Recall: {round(sum(val_recall_scores) / len(val_recall_scores),3)}\\n')\n",
    "\n",
    "\n",
    "    # Fit Model to total Training Data\n",
    "    model.fit(X_train_total, y_train_total)\n",
    "\n",
    "    # Make predictions on the Test set\n",
    "    y_test_pred = model.predict(X_test)\n",
    "\n",
    "    # Evaluate the model on the Test set\n",
    "    accuracy = accuracy_score(y_test, y_test_pred)\n",
    "    f1 = f1_score(y_test, y_test_pred)\n",
    "    recall = recall_score(y_test, y_test_pred)\n",
    "    \n",
    "    #Print Test Scores\n",
    "    print(\"--- Test ---\")\n",
    "    print(f'Accuracy: {round(accuracy,3)}')\n",
    "    print(f'F1: {round(f1,3)}')\n",
    "    print(f'Recall: {round(recall,3)}')\n",
    "\n",
    "    metrics = {\n",
    "    \"Model\": str(model).split(\"(\")[0], \n",
    "    \"Accuracy Training\": round(sum(train_accuracy_scores) / len(train_accuracy_scores), 3),\n",
    "    \"Accuracy Validation\": round(sum(val_accuracy_scores) / len(val_accuracy_scores), 3),\n",
    "    \"Accuracy Test\": round(accuracy, 3),\n",
    "    \"F1 Training\": round(sum(train_f1_scores) / len(train_f1_scores), 3),\n",
    "    \"F1 Validation\": round(sum(val_f1_scores) / len(val_f1_scores), 3),\n",
    "    \"F1 Test\": round(f1, 3),\n",
    "    \"Recall Training\": round(sum(train_recall_scores) / len(train_recall_scores), 3),\n",
    "    \"Recall Validation\": round(sum(val_recall_scores) / len(val_recall_scores), 3),\n",
    "    \"Recall Test\": round(recall, 3)\n",
    "}\n",
    "\n",
    "\n",
    "    models_metrics.append(metrics)"
   ]
  },
  {
   "cell_type": "code",
   "execution_count": 41,
   "metadata": {},
   "outputs": [
    {
     "name": "stdout",
     "output_type": "stream",
     "text": [
      "--- Training ---\n",
      "Accuracy:\n",
      "Cross-Validation Accuracy: [0.82, 0.824, 0.821, 0.817, 0.821]\n",
      "Mean Accuracy: 0.821\n",
      "\n",
      "F1 Score:\n",
      "Cross-Validation F1: [0.653, 0.653, 0.653, 0.646, 0.656]\n",
      "Mean F1: 0.652\n",
      "\n",
      "Recall Score:\n",
      "Cross-Validation Recall: [0.64, 0.625, 0.637, 0.629, 0.641]\n",
      "Mean F1: 0.634\n",
      "\n",
      "--- Validation ---\n",
      "Accuracy:\n",
      "Cross-Validation Accuracy: [0.824, 0.806, 0.819, 0.831, 0.813]\n",
      "Mean Accuracy: 0.819\n",
      "\n",
      "F1 Score:\n",
      "Cross-Validation F1: [0.653, 0.62, 0.655, 0.672, 0.642]\n",
      "Mean F1: 0.648\n",
      "\n",
      "Recall Score:\n",
      "Cross-Validation Recall: [0.622, 0.599, 0.649, 0.656, 0.632]\n",
      "Mean Recall: 0.632\n",
      "\n",
      "--- Test ---\n",
      "Accuracy: 0.828\n",
      "F1: 0.666\n",
      "Recall: 0.647\n"
     ]
    }
   ],
   "source": [
    "train_eval(LogisticRegression(random_state=1))"
   ]
  },
  {
   "cell_type": "markdown",
   "metadata": {},
   "source": [
    "### 2.2 Decision Tree - Train and Validation Results\n"
   ]
  },
  {
   "cell_type": "code",
   "execution_count": 42,
   "metadata": {},
   "outputs": [
    {
     "name": "stdout",
     "output_type": "stream",
     "text": [
      "--- Training ---\n",
      "Accuracy:\n",
      "Cross-Validation Accuracy: [0.781, 0.791, 0.793, 0.781, 0.782]\n",
      "Mean Accuracy: 0.786\n",
      "\n",
      "F1 Score:\n",
      "Cross-Validation F1: [0.365, 0.62, 0.62, 0.355, 0.36]\n",
      "Mean F1: 0.464\n",
      "\n",
      "Recall Score:\n",
      "Cross-Validation Recall: [0.237, 0.642, 0.637, 0.227, 0.232]\n",
      "Mean F1: 0.395\n",
      "\n",
      "--- Validation ---\n",
      "Accuracy:\n",
      "Cross-Validation Accuracy: [0.783, 0.778, 0.772, 0.787, 0.782]\n",
      "Mean Accuracy: 0.78\n",
      "\n",
      "F1 Score:\n",
      "Cross-Validation F1: [0.351, 0.598, 0.599, 0.391, 0.37]\n",
      "Mean F1: 0.462\n",
      "\n",
      "Recall Score:\n",
      "Cross-Validation Recall: [0.221, 0.622, 0.642, 0.258, 0.241]\n",
      "Mean Recall: 0.397\n",
      "\n",
      "--- Test ---\n",
      "Accuracy: 0.787\n",
      "F1: 0.38\n",
      "Recall: 0.246\n"
     ]
    }
   ],
   "source": [
    "train_eval(DecisionTreeClassifier(max_depth=3, random_state=1))"
   ]
  },
  {
   "cell_type": "markdown",
   "metadata": {},
   "source": [
    "### 2.3. Random Forest - Train and Validation Results\n"
   ]
  },
  {
   "cell_type": "code",
   "execution_count": 43,
   "metadata": {},
   "outputs": [
    {
     "name": "stdout",
     "output_type": "stream",
     "text": [
      "--- Training ---\n",
      "Accuracy:\n",
      "Cross-Validation Accuracy: [0.779, 0.787, 0.78, 0.78, 0.785]\n",
      "Mean Accuracy: 0.782\n",
      "\n",
      "F1 Score:\n",
      "Cross-Validation F1: [0.34, 0.377, 0.337, 0.335, 0.367]\n",
      "Mean F1: 0.351\n",
      "\n",
      "Recall Score:\n",
      "Cross-Validation Recall: [0.214, 0.242, 0.211, 0.209, 0.236]\n",
      "Mean F1: 0.222\n",
      "\n",
      "--- Validation ---\n",
      "Accuracy:\n",
      "Cross-Validation Accuracy: [0.791, 0.781, 0.786, 0.782, 0.774]\n",
      "Mean Accuracy: 0.783\n",
      "\n",
      "F1 Score:\n",
      "Cross-Validation F1: [0.385, 0.352, 0.364, 0.342, 0.324]\n",
      "Mean F1: 0.353\n",
      "\n",
      "Recall Score:\n",
      "Cross-Validation Recall: [0.247, 0.224, 0.231, 0.214, 0.204]\n",
      "Mean Recall: 0.224\n",
      "\n",
      "--- Test ---\n",
      "Accuracy: 0.79\n",
      "F1: 0.378\n",
      "Recall: 0.241\n"
     ]
    }
   ],
   "source": [
    "train_eval(RandomForestClassifier(max_depth=3, random_state=1))"
   ]
  },
  {
   "cell_type": "code",
   "execution_count": 44,
   "metadata": {},
   "outputs": [
    {
     "name": "stdout",
     "output_type": "stream",
     "text": [
      "[{'Accuracy Test': 0.828,\n",
      "  'Accuracy Training': 0.821,\n",
      "  'Accuracy Validation': 0.819,\n",
      "  'F1 Test': 0.666,\n",
      "  'F1 Training': 0.652,\n",
      "  'F1 Validation': 0.648,\n",
      "  'Model': 'LogisticRegression',\n",
      "  'Recall Test': 0.647,\n",
      "  'Recall Training': 0.634,\n",
      "  'Recall Validation': 0.632},\n",
      " {'Accuracy Test': 0.787,\n",
      "  'Accuracy Training': 0.786,\n",
      "  'Accuracy Validation': 0.78,\n",
      "  'F1 Test': 0.38,\n",
      "  'F1 Training': 0.464,\n",
      "  'F1 Validation': 0.462,\n",
      "  'Model': 'DecisionTreeClassifier',\n",
      "  'Recall Test': 0.246,\n",
      "  'Recall Training': 0.395,\n",
      "  'Recall Validation': 0.397},\n",
      " {'Accuracy Test': 0.79,\n",
      "  'Accuracy Training': 0.782,\n",
      "  'Accuracy Validation': 0.783,\n",
      "  'F1 Test': 0.378,\n",
      "  'F1 Training': 0.351,\n",
      "  'F1 Validation': 0.353,\n",
      "  'Model': 'RandomForestClassifier',\n",
      "  'Recall Test': 0.241,\n",
      "  'Recall Training': 0.222,\n",
      "  'Recall Validation': 0.224}]\n"
     ]
    }
   ],
   "source": [
    "pprint(models_metrics)"
   ]
  },
  {
   "cell_type": "markdown",
   "metadata": {},
   "source": [
    "### 2.4 SVC - Train and Validation Results"
   ]
  },
  {
   "cell_type": "code",
   "execution_count": 45,
   "metadata": {},
   "outputs": [
    {
     "name": "stdout",
     "output_type": "stream",
     "text": [
      "--- Training ---\n",
      "Accuracy:\n",
      "Cross-Validation Accuracy: [0.826, 0.834, 0.827, 0.826, 0.827]\n",
      "Mean Accuracy: 0.828\n",
      "\n",
      "F1 Score:\n",
      "Cross-Validation F1: [0.645, 0.658, 0.642, 0.638, 0.643]\n",
      "Mean F1: 0.645\n",
      "\n",
      "Recall Score:\n",
      "Cross-Validation Recall: [0.595, 0.602, 0.585, 0.578, 0.586]\n",
      "Mean F1: 0.589\n",
      "\n",
      "--- Validation ---\n",
      "Accuracy:\n",
      "Cross-Validation Accuracy: [0.827, 0.807, 0.817, 0.834, 0.823]\n",
      "Mean Accuracy: 0.822\n",
      "\n",
      "F1 Score:\n",
      "Cross-Validation F1: [0.634, 0.608, 0.62, 0.657, 0.647]\n",
      "Mean F1: 0.633\n",
      "\n",
      "Recall Score:\n",
      "Cross-Validation Recall: [0.565, 0.562, 0.562, 0.599, 0.609]\n",
      "Mean Recall: 0.579\n",
      "\n",
      "--- Test ---\n",
      "Accuracy: 0.828\n",
      "F1: 0.646\n",
      "Recall: 0.591\n"
     ]
    }
   ],
   "source": [
    "train_eval(SVC(random_state=1))"
   ]
  },
  {
   "cell_type": "markdown",
   "metadata": {},
   "source": [
    "### 2.5 Gaussian - Train and Validation Results"
   ]
  },
  {
   "cell_type": "code",
   "execution_count": 47,
   "metadata": {},
   "outputs": [
    {
     "name": "stdout",
     "output_type": "stream",
     "text": [
      "--- Training ---\n",
      "Accuracy:\n",
      "Cross-Validation Accuracy: [0.764, 0.767, 0.761, 0.763, 0.767]\n",
      "Mean Accuracy: 0.764\n",
      "\n",
      "F1 Score:\n",
      "Cross-Validation F1: [0.637, 0.637, 0.632, 0.634, 0.639]\n",
      "Mean F1: 0.636\n",
      "\n",
      "Recall Score:\n",
      "Cross-Validation Recall: [0.778, 0.772, 0.773, 0.773, 0.778]\n",
      "Mean F1: 0.775\n",
      "\n",
      "--- Validation ---\n",
      "Accuracy:\n",
      "Cross-Validation Accuracy: [0.745, 0.773, 0.772, 0.766, 0.759]\n",
      "Mean Accuracy: 0.763\n",
      "\n",
      "F1 Score:\n",
      "Cross-Validation F1: [0.621, 0.644, 0.646, 0.637, 0.623]\n",
      "Mean F1: 0.634\n",
      "\n",
      "Recall Score:\n",
      "Cross-Validation Recall: [0.786, 0.776, 0.783, 0.776, 0.749]\n",
      "Mean Recall: 0.774\n",
      "\n",
      "--- Test ---\n",
      "Accuracy: 0.764\n",
      "F1: 0.636\n",
      "Recall: 0.775\n"
     ]
    }
   ],
   "source": [
    "train_eval(GaussianNB())"
   ]
  },
  {
   "cell_type": "markdown",
   "metadata": {},
   "source": [
    "### 2.6 KNN - Train and Validation Results"
   ]
  },
  {
   "cell_type": "code",
   "execution_count": 49,
   "metadata": {},
   "outputs": [
    {
     "name": "stdout",
     "output_type": "stream",
     "text": [
      "--- Training ---\n",
      "Accuracy:\n",
      "Cross-Validation Accuracy: [0.816, 0.822, 0.816, 0.821, 0.816]\n",
      "Mean Accuracy: 0.818\n",
      "\n",
      "F1 Score:\n",
      "Cross-Validation F1: [0.61, 0.598, 0.604, 0.61, 0.604]\n",
      "Mean F1: 0.605\n",
      "\n",
      "Recall Score:\n",
      "Cross-Validation Recall: [0.541, 0.499, 0.528, 0.528, 0.529]\n",
      "Mean F1: 0.525\n",
      "\n",
      "--- Validation ---\n",
      "Accuracy:\n",
      "Cross-Validation Accuracy: [0.8, 0.791, 0.799, 0.798, 0.783]\n",
      "Mean Accuracy: 0.794\n",
      "\n",
      "F1 Score:\n",
      "Cross-Validation F1: [0.573, 0.53, 0.566, 0.555, 0.527]\n",
      "Mean F1: 0.55\n",
      "\n",
      "Recall Score:\n",
      "Cross-Validation Recall: [0.505, 0.445, 0.495, 0.475, 0.455]\n",
      "Mean Recall: 0.475\n",
      "\n",
      "--- Test ---\n",
      "Accuracy: 0.804\n",
      "F1: 0.584\n",
      "Recall: 0.519\n"
     ]
    }
   ],
   "source": [
    "train_eval(KNeighborsClassifier())"
   ]
  },
  {
   "cell_type": "markdown",
   "metadata": {},
   "source": [
    "### 2.7 Gradient Boosting - Train and Validation Results"
   ]
  },
  {
   "cell_type": "code",
   "execution_count": 50,
   "metadata": {},
   "outputs": [
    {
     "name": "stdout",
     "output_type": "stream",
     "text": [
      "--- Training ---\n",
      "Accuracy:\n",
      "Cross-Validation Accuracy: [0.827, 0.833, 0.828, 0.827, 0.828]\n",
      "Mean Accuracy: 0.829\n",
      "\n",
      "F1 Score:\n",
      "Cross-Validation F1: [0.653, 0.659, 0.656, 0.653, 0.652]\n",
      "Mean F1: 0.655\n",
      "\n",
      "Recall Score:\n",
      "Cross-Validation Recall: [0.613, 0.61, 0.617, 0.613, 0.608]\n",
      "Mean F1: 0.612\n",
      "\n",
      "--- Validation ---\n",
      "Accuracy:\n",
      "Cross-Validation Accuracy: [0.823, 0.813, 0.826, 0.826, 0.821]\n",
      "Mean Accuracy: 0.822\n",
      "\n",
      "F1 Score:\n",
      "Cross-Validation F1: [0.635, 0.62, 0.651, 0.65, 0.644]\n",
      "Mean F1: 0.64\n",
      "\n",
      "Recall Score:\n",
      "Cross-Validation Recall: [0.582, 0.575, 0.612, 0.609, 0.612]\n",
      "Mean Recall: 0.598\n",
      "\n",
      "--- Test ---\n",
      "Accuracy: 0.828\n",
      "F1: 0.654\n",
      "Recall: 0.615\n"
     ]
    }
   ],
   "source": [
    "train_eval(GradientBoostingClassifier(random_state=1))"
   ]
  },
  {
   "cell_type": "markdown",
   "metadata": {},
   "source": [
    "### 2.8 MLP - Train and Validation Results"
   ]
  },
  {
   "cell_type": "code",
   "execution_count": 51,
   "metadata": {},
   "outputs": [
    {
     "name": "stdout",
     "output_type": "stream",
     "text": [
      "--- Training ---\n",
      "Accuracy:\n",
      "Cross-Validation Accuracy: [0.834, 0.838, 0.835, 0.836, 0.832]\n",
      "Mean Accuracy: 0.835\n",
      "\n",
      "F1 Score:\n",
      "Cross-Validation F1: [0.642, 0.658, 0.652, 0.657, 0.673]\n",
      "Mean F1: 0.656\n",
      "\n",
      "Recall Score:\n",
      "Cross-Validation Recall: [0.559, 0.586, 0.582, 0.593, 0.651]\n",
      "Mean F1: 0.594\n",
      "\n",
      "--- Validation ---\n",
      "Accuracy:\n",
      "Cross-Validation Accuracy: [0.823, 0.809, 0.824, 0.818, 0.825]\n",
      "Mean Accuracy: 0.82\n",
      "\n",
      "F1 Score:\n",
      "Cross-Validation F1: [0.609, 0.595, 0.632, 0.614, 0.66]\n",
      "Mean F1: 0.622\n",
      "\n",
      "Recall Score:\n",
      "Cross-Validation Recall: [0.522, 0.528, 0.569, 0.545, 0.639]\n",
      "Mean Recall: 0.561\n",
      "\n",
      "--- Test ---\n",
      "Accuracy: 0.832\n",
      "F1: 0.655\n",
      "Recall: 0.602\n"
     ]
    }
   ],
   "source": [
    "train_eval(MLPClassifier(random_state=1))"
   ]
  },
  {
   "cell_type": "code",
   "execution_count": 52,
   "metadata": {},
   "outputs": [],
   "source": [
    "# Coonvert List of Models Metrics to DF\n",
    "models_metrics_df = pd.DataFrame(models_metrics)"
   ]
  },
  {
   "cell_type": "code",
   "execution_count": 53,
   "metadata": {},
   "outputs": [
    {
     "data": {
      "text/html": [
       "<div>\n",
       "<style scoped>\n",
       "    .dataframe tbody tr th:only-of-type {\n",
       "        vertical-align: middle;\n",
       "    }\n",
       "\n",
       "    .dataframe tbody tr th {\n",
       "        vertical-align: top;\n",
       "    }\n",
       "\n",
       "    .dataframe thead th {\n",
       "        text-align: right;\n",
       "    }\n",
       "</style>\n",
       "<table border=\"1\" class=\"dataframe\">\n",
       "  <thead>\n",
       "    <tr style=\"text-align: right;\">\n",
       "      <th></th>\n",
       "      <th>Model</th>\n",
       "      <th>Accuracy Training</th>\n",
       "      <th>Accuracy Validation</th>\n",
       "      <th>Accuracy Test</th>\n",
       "      <th>F1 Training</th>\n",
       "      <th>F1 Validation</th>\n",
       "      <th>F1 Test</th>\n",
       "      <th>Recall Training</th>\n",
       "      <th>Recall Validation</th>\n",
       "      <th>Recall Test</th>\n",
       "    </tr>\n",
       "  </thead>\n",
       "  <tbody>\n",
       "    <tr>\n",
       "      <th>0</th>\n",
       "      <td>LogisticRegression</td>\n",
       "      <td>0.821</td>\n",
       "      <td>0.819</td>\n",
       "      <td>0.828</td>\n",
       "      <td>0.652</td>\n",
       "      <td>0.648</td>\n",
       "      <td>0.666</td>\n",
       "      <td>0.634</td>\n",
       "      <td>0.632</td>\n",
       "      <td>0.647</td>\n",
       "    </tr>\n",
       "    <tr>\n",
       "      <th>7</th>\n",
       "      <td>MLPClassifier</td>\n",
       "      <td>0.835</td>\n",
       "      <td>0.820</td>\n",
       "      <td>0.832</td>\n",
       "      <td>0.656</td>\n",
       "      <td>0.622</td>\n",
       "      <td>0.655</td>\n",
       "      <td>0.594</td>\n",
       "      <td>0.561</td>\n",
       "      <td>0.602</td>\n",
       "    </tr>\n",
       "    <tr>\n",
       "      <th>6</th>\n",
       "      <td>GradientBoostingClassifier</td>\n",
       "      <td>0.829</td>\n",
       "      <td>0.822</td>\n",
       "      <td>0.828</td>\n",
       "      <td>0.655</td>\n",
       "      <td>0.640</td>\n",
       "      <td>0.654</td>\n",
       "      <td>0.612</td>\n",
       "      <td>0.598</td>\n",
       "      <td>0.615</td>\n",
       "    </tr>\n",
       "    <tr>\n",
       "      <th>3</th>\n",
       "      <td>SVC</td>\n",
       "      <td>0.828</td>\n",
       "      <td>0.822</td>\n",
       "      <td>0.828</td>\n",
       "      <td>0.645</td>\n",
       "      <td>0.633</td>\n",
       "      <td>0.646</td>\n",
       "      <td>0.589</td>\n",
       "      <td>0.579</td>\n",
       "      <td>0.591</td>\n",
       "    </tr>\n",
       "    <tr>\n",
       "      <th>4</th>\n",
       "      <td>GaussianNB</td>\n",
       "      <td>0.764</td>\n",
       "      <td>0.763</td>\n",
       "      <td>0.764</td>\n",
       "      <td>0.636</td>\n",
       "      <td>0.634</td>\n",
       "      <td>0.636</td>\n",
       "      <td>0.775</td>\n",
       "      <td>0.774</td>\n",
       "      <td>0.775</td>\n",
       "    </tr>\n",
       "    <tr>\n",
       "      <th>5</th>\n",
       "      <td>KNeighborsClassifier</td>\n",
       "      <td>0.818</td>\n",
       "      <td>0.794</td>\n",
       "      <td>0.804</td>\n",
       "      <td>0.605</td>\n",
       "      <td>0.550</td>\n",
       "      <td>0.584</td>\n",
       "      <td>0.525</td>\n",
       "      <td>0.475</td>\n",
       "      <td>0.519</td>\n",
       "    </tr>\n",
       "    <tr>\n",
       "      <th>1</th>\n",
       "      <td>DecisionTreeClassifier</td>\n",
       "      <td>0.786</td>\n",
       "      <td>0.780</td>\n",
       "      <td>0.787</td>\n",
       "      <td>0.464</td>\n",
       "      <td>0.462</td>\n",
       "      <td>0.380</td>\n",
       "      <td>0.395</td>\n",
       "      <td>0.397</td>\n",
       "      <td>0.246</td>\n",
       "    </tr>\n",
       "    <tr>\n",
       "      <th>2</th>\n",
       "      <td>RandomForestClassifier</td>\n",
       "      <td>0.782</td>\n",
       "      <td>0.783</td>\n",
       "      <td>0.790</td>\n",
       "      <td>0.351</td>\n",
       "      <td>0.353</td>\n",
       "      <td>0.378</td>\n",
       "      <td>0.222</td>\n",
       "      <td>0.224</td>\n",
       "      <td>0.241</td>\n",
       "    </tr>\n",
       "  </tbody>\n",
       "</table>\n",
       "</div>"
      ],
      "text/plain": [
       "                        Model  Accuracy Training  Accuracy Validation  \\\n",
       "0          LogisticRegression              0.821                0.819   \n",
       "7               MLPClassifier              0.835                0.820   \n",
       "6  GradientBoostingClassifier              0.829                0.822   \n",
       "3                         SVC              0.828                0.822   \n",
       "4                  GaussianNB              0.764                0.763   \n",
       "5        KNeighborsClassifier              0.818                0.794   \n",
       "1      DecisionTreeClassifier              0.786                0.780   \n",
       "2      RandomForestClassifier              0.782                0.783   \n",
       "\n",
       "   Accuracy Test  F1 Training  F1 Validation  F1 Test  Recall Training  \\\n",
       "0          0.828        0.652          0.648    0.666            0.634   \n",
       "7          0.832        0.656          0.622    0.655            0.594   \n",
       "6          0.828        0.655          0.640    0.654            0.612   \n",
       "3          0.828        0.645          0.633    0.646            0.589   \n",
       "4          0.764        0.636          0.634    0.636            0.775   \n",
       "5          0.804        0.605          0.550    0.584            0.525   \n",
       "1          0.787        0.464          0.462    0.380            0.395   \n",
       "2          0.790        0.351          0.353    0.378            0.222   \n",
       "\n",
       "   Recall Validation  Recall Test  \n",
       "0              0.632        0.647  \n",
       "7              0.561        0.602  \n",
       "6              0.598        0.615  \n",
       "3              0.579        0.591  \n",
       "4              0.774        0.775  \n",
       "5              0.475        0.519  \n",
       "1              0.397        0.246  \n",
       "2              0.224        0.241  "
      ]
     },
     "execution_count": 53,
     "metadata": {},
     "output_type": "execute_result"
    }
   ],
   "source": [
    "models_metrics_df.sort_values(by=['F1 Test'], ascending=False)"
   ]
  },
  {
   "cell_type": "markdown",
   "metadata": {},
   "source": [
    "> Decision Trees:\n",
    "Intuitive and easy to understand.\n",
    "Can capture complex relationships in the data.\n",
    "\n",
    "> Random Forest:\n",
    "Ensemble method built on decision trees.\n",
    "Generally more robust and accurate than individual trees.\n",
    "\n",
    "> Support Vector Machines (SVM):\n",
    "Effective in high-dimensional spaces.\n",
    "Works well when there is a clear margin of separation between classes.\n",
    "\n",
    "> Naive Bayes:\n",
    "Assumes independence between features.\n",
    "Fast and can perform well on certain types of data.\n",
    "\n",
    "> K-Nearest Neighbors (KNN):\n",
    "Instance-based learning.\n",
    "Simple and easy to understand.\n",
    "\n",
    "> Gradient Boosting (e.g., XGBoost, LightGBM, AdaBoost):\n",
    "Builds a strong predictive model by combining weak models.\n",
    "Often produces very accurate results."
   ]
  },
  {
   "cell_type": "markdown",
   "metadata": {},
   "source": [
    "## 3. Model Optimization\n"
   ]
  },
  {
   "cell_type": "markdown",
   "metadata": {},
   "source": [
    "### 3.1.1 RandomSearch - Gradient Boosting"
   ]
  },
  {
   "cell_type": "code",
   "execution_count": 84,
   "metadata": {},
   "outputs": [
    {
     "data": {
      "text/html": [
       "<div>\n",
       "<style scoped>\n",
       "    .dataframe tbody tr th:only-of-type {\n",
       "        vertical-align: middle;\n",
       "    }\n",
       "\n",
       "    .dataframe tbody tr th {\n",
       "        vertical-align: top;\n",
       "    }\n",
       "\n",
       "    .dataframe thead th {\n",
       "        text-align: right;\n",
       "    }\n",
       "</style>\n",
       "<table border=\"1\" class=\"dataframe\">\n",
       "  <thead>\n",
       "    <tr style=\"text-align: right;\">\n",
       "      <th></th>\n",
       "      <th>Parameter</th>\n",
       "      <th>Best Result</th>\n",
       "    </tr>\n",
       "  </thead>\n",
       "  <tbody>\n",
       "    <tr>\n",
       "      <th>0</th>\n",
       "      <td>subsample</td>\n",
       "      <td>0.5</td>\n",
       "    </tr>\n",
       "    <tr>\n",
       "      <th>0</th>\n",
       "      <td>n_estimators</td>\n",
       "      <td>100.0</td>\n",
       "    </tr>\n",
       "    <tr>\n",
       "      <th>0</th>\n",
       "      <td>min_samples_split</td>\n",
       "      <td>2.0</td>\n",
       "    </tr>\n",
       "    <tr>\n",
       "      <th>0</th>\n",
       "      <td>min_samples_leaf</td>\n",
       "      <td>4.0</td>\n",
       "    </tr>\n",
       "    <tr>\n",
       "      <th>0</th>\n",
       "      <td>max_features</td>\n",
       "      <td>sqrt</td>\n",
       "    </tr>\n",
       "    <tr>\n",
       "      <th>0</th>\n",
       "      <td>max_depth</td>\n",
       "      <td>3</td>\n",
       "    </tr>\n",
       "    <tr>\n",
       "      <th>0</th>\n",
       "      <td>learning_rate</td>\n",
       "      <td>0.3</td>\n",
       "    </tr>\n",
       "    <tr>\n",
       "      <th>0</th>\n",
       "      <td>Best Score</td>\n",
       "      <td>0.636604</td>\n",
       "    </tr>\n",
       "  </tbody>\n",
       "</table>\n",
       "</div>"
      ],
      "text/plain": [
       "           Parameter Best Result\n",
       "0          subsample         0.5\n",
       "0       n_estimators       100.0\n",
       "0  min_samples_split         2.0\n",
       "0   min_samples_leaf         4.0\n",
       "0       max_features        sqrt\n",
       "0          max_depth           3\n",
       "0      learning_rate         0.3\n",
       "0         Best Score    0.636604"
      ]
     },
     "execution_count": 84,
     "metadata": {},
     "output_type": "execute_result"
    }
   ],
   "source": [
    "from sklearn.model_selection import RandomizedSearchCV\n",
    "from sklearn.ensemble import GradientBoostingClassifier\n",
    "import numpy as np\n",
    "\n",
    "# Create the Gradient Boosting model (without specifying hyperparameters)\n",
    "gb_model = GradientBoostingClassifier()\n",
    "\n",
    "# Define the parameter space for random search\n",
    "parameter_space_random = {\n",
    "    'n_estimators': [50, 100, 200, 300],\n",
    "    'learning_rate': [0.001, 0.01, 0.1, 0.2, 0.3],\n",
    "    'max_depth': [3, 5, 7, 9],\n",
    "    'subsample': np.arange(0.1, 1.1, 0.1),\n",
    "    'min_samples_split': [2, 5, 10],\n",
    "    'min_samples_leaf': [1, 2, 4],\n",
    "    'max_features': ['auto', 'sqrt', 'log2', None],\n",
    "}\n",
    "\n",
    "# Create the RandomizedSearchCV object\n",
    "random_search = RandomizedSearchCV(estimator=gb_model, param_distributions=parameter_space_random,\n",
    "                                    scoring='f1', cv=5, random_state=42)\n",
    "\n",
    "# Fit the RandomizedSearchCV object to the data\n",
    "random_search.fit(X_train_total, y_train_total)\n",
    "\n",
    "# Print the best parameters\n",
    "#print(\"Best Parameters: \", random_search.best_params_)\n",
    "\n",
    "# Extract the best parameters and their scores from RandomizedSearchCV\n",
    "best_params_random = random_search.best_params_\n",
    "best_score_random = random_search.best_score_\n",
    "\n",
    "# Create a DataFrame to store the results\n",
    "results_rs_gb = pd.DataFrame(columns=['Parameter', 'Best Result'])\n",
    "\n",
    "# Add the best parameters and scores to the DataFrame\n",
    "for param, value in best_params_random.items():\n",
    "    results_rs_gb = pd.concat([results_rs_gb, pd.DataFrame({'Parameter': [param], 'Best Result': [value]})])\n",
    "\n",
    "# Add the best score to the DataFrame\n",
    "results_rs_gb = pd.concat([results_rs_gb, pd.DataFrame({'Parameter': ['Best Score'], 'Best Result': [best_score_random]})])\n",
    "\n",
    "# Display the results DataFrame\n",
    "results_rs_gb\n",
    "\n",
    "\n"
   ]
  },
  {
   "cell_type": "markdown",
   "metadata": {},
   "source": [
    "### 3.1.2 GridSearch - Gradient Boosting"
   ]
  },
  {
   "cell_type": "code",
   "execution_count": 85,
   "metadata": {},
   "outputs": [
    {
     "name": "stdout",
     "output_type": "stream",
     "text": [
      "Best Parameters:  {'learning_rate': 0.2, 'max_depth': 3, 'max_features': 'sqrt', 'min_samples_split': 5, 'n_estimators': 100, 'subsample': 0.5}\n"
     ]
    },
    {
     "data": {
      "text/html": [
       "<div>\n",
       "<style scoped>\n",
       "    .dataframe tbody tr th:only-of-type {\n",
       "        vertical-align: middle;\n",
       "    }\n",
       "\n",
       "    .dataframe tbody tr th {\n",
       "        vertical-align: top;\n",
       "    }\n",
       "\n",
       "    .dataframe thead th {\n",
       "        text-align: right;\n",
       "    }\n",
       "</style>\n",
       "<table border=\"1\" class=\"dataframe\">\n",
       "  <thead>\n",
       "    <tr style=\"text-align: right;\">\n",
       "      <th></th>\n",
       "      <th>Parameter</th>\n",
       "      <th>Best Result</th>\n",
       "    </tr>\n",
       "  </thead>\n",
       "  <tbody>\n",
       "    <tr>\n",
       "      <th>0</th>\n",
       "      <td>learning_rate</td>\n",
       "      <td>0.2</td>\n",
       "    </tr>\n",
       "    <tr>\n",
       "      <th>0</th>\n",
       "      <td>max_depth</td>\n",
       "      <td>3.0</td>\n",
       "    </tr>\n",
       "    <tr>\n",
       "      <th>0</th>\n",
       "      <td>max_features</td>\n",
       "      <td>sqrt</td>\n",
       "    </tr>\n",
       "    <tr>\n",
       "      <th>0</th>\n",
       "      <td>min_samples_split</td>\n",
       "      <td>5</td>\n",
       "    </tr>\n",
       "    <tr>\n",
       "      <th>0</th>\n",
       "      <td>n_estimators</td>\n",
       "      <td>100</td>\n",
       "    </tr>\n",
       "    <tr>\n",
       "      <th>0</th>\n",
       "      <td>subsample</td>\n",
       "      <td>0.5</td>\n",
       "    </tr>\n",
       "    <tr>\n",
       "      <th>0</th>\n",
       "      <td>Best Score</td>\n",
       "      <td>0.649911</td>\n",
       "    </tr>\n",
       "  </tbody>\n",
       "</table>\n",
       "</div>"
      ],
      "text/plain": [
       "           Parameter Best Result\n",
       "0      learning_rate         0.2\n",
       "0          max_depth         3.0\n",
       "0       max_features        sqrt\n",
       "0  min_samples_split           5\n",
       "0       n_estimators         100\n",
       "0          subsample         0.5\n",
       "0         Best Score    0.649911"
      ]
     },
     "execution_count": 85,
     "metadata": {},
     "output_type": "execute_result"
    }
   ],
   "source": [
    "# Create the Gradient Boosting model (without specifying hyperparameters)\n",
    "gb_model = GradientBoostingClassifier()\n",
    "\n",
    "# Define the parameter grid for grid search\n",
    "parameter_grid = {\n",
    "    'n_estimators': [80,100,120],\n",
    "    'learning_rate': [0.2,0.3,0.4],\n",
    "    'max_depth': [2.5,2.7,3,3.1,3.2,4],\n",
    "    'subsample': [0.5,0.6,0.4,0.3,0.7],\n",
    "    'max_features': ['auto', 'sqrt', 'log2', None],\n",
    "    'min_samples_split': [1,2,3,4,5],\n",
    "}\n",
    "\n",
    "# Create the GridSearchCV object\n",
    "grid_search = GridSearchCV(estimator=gb_model, param_grid=parameter_grid,\n",
    "                           scoring='f1', cv=5)\n",
    "\n",
    "# Fit the GridSearchCV object to the data\n",
    "grid_search.fit(X_train_total, y_train_total)\n",
    "\n",
    "# Print the best parameters\n",
    "print(\"Best Parameters: \", grid_search.best_params_)\n",
    "\n",
    "# Create a DataFrame to store the results\n",
    "results_gs_gb = pd.DataFrame(columns=['Parameter', 'Best Result'])\n",
    "\n",
    "# Add the best parameters and scores to the DataFrame\n",
    "for param, value in grid_search.best_params_.items():\n",
    "    results_gs_gb = pd.concat([results_gs_gb, pd.DataFrame({'Parameter': [param], 'Best Result': [value]})])\n",
    "\n",
    "# Add the best score to the DataFrame\n",
    "results_gs_gb= pd.concat([results_gs_gb, pd.DataFrame({'Parameter': ['Best Score'], 'Best Result': [grid_search.best_score_]})])\n",
    "\n",
    "# Display the results DataFrame\n",
    "results_gs_gb\n"
   ]
  },
  {
   "cell_type": "markdown",
   "metadata": {},
   "source": [
    "### 3.1.3 Final Model - GB"
   ]
  },
  {
   "cell_type": "code",
   "execution_count": 54,
   "metadata": {},
   "outputs": [],
   "source": [
    "final_model_gb = GradientBoostingClassifier(\n",
    "    n_estimators=80,\n",
    "    learning_rate=0.2,\n",
    "    max_depth=3,\n",
    "    subsample=0.6,\n",
    "    max_features='sqrt',\n",
    "    min_samples_split=2,\n",
    "    random_state=1\n",
    ")\n"
   ]
  },
  {
   "cell_type": "code",
   "execution_count": 130,
   "metadata": {},
   "outputs": [
    {
     "name": "stdout",
     "output_type": "stream",
     "text": [
      "--- Training ---\n",
      "Accuracy:\n",
      "Cross-Validation Accuracy: [0.827, 0.831, 0.829, 0.828, 0.827]\n",
      "Mean Accuracy: 0.828\n",
      "\n",
      "F1 Score:\n",
      "Cross-Validation F1: [0.655, 0.657, 0.665, 0.655, 0.65]\n",
      "Mean F1: 0.656\n",
      "\n",
      "Recall Score:\n",
      "Cross-Validation Recall: [0.62, 0.61, 0.64, 0.615, 0.605]\n",
      "Mean F1: 0.618\n",
      "\n",
      "--- Validation ---\n",
      "Accuracy:\n",
      "Cross-Validation Accuracy: [0.825, 0.815, 0.817, 0.827, 0.823]\n",
      "Mean Accuracy: 0.821\n",
      "\n",
      "F1 Score:\n",
      "Cross-Validation F1: [0.639, 0.622, 0.646, 0.651, 0.649]\n",
      "Mean F1: 0.641\n",
      "\n",
      "Recall Score:\n",
      "Cross-Validation Recall: [0.582, 0.575, 0.629, 0.609, 0.615]\n",
      "Mean Recall: 0.602\n",
      "\n",
      "--- Test ---\n",
      "Accuracy: 0.832\n",
      "F1: 0.66\n",
      "Recall: 0.615\n"
     ]
    }
   ],
   "source": [
    "train_eval(final_model_gb)"
   ]
  },
  {
   "cell_type": "markdown",
   "metadata": {},
   "source": [
    "### 3.2.1 RandomSearch - SVC"
   ]
  },
  {
   "cell_type": "code",
   "execution_count": 88,
   "metadata": {},
   "outputs": [
    {
     "data": {
      "text/html": [
       "<div>\n",
       "<style scoped>\n",
       "    .dataframe tbody tr th:only-of-type {\n",
       "        vertical-align: middle;\n",
       "    }\n",
       "\n",
       "    .dataframe tbody tr th {\n",
       "        vertical-align: top;\n",
       "    }\n",
       "\n",
       "    .dataframe thead th {\n",
       "        text-align: right;\n",
       "    }\n",
       "</style>\n",
       "<table border=\"1\" class=\"dataframe\">\n",
       "  <thead>\n",
       "    <tr style=\"text-align: right;\">\n",
       "      <th></th>\n",
       "      <th>Parameter</th>\n",
       "      <th>Best Result</th>\n",
       "    </tr>\n",
       "  </thead>\n",
       "  <tbody>\n",
       "    <tr>\n",
       "      <th>0</th>\n",
       "      <td>kernel</td>\n",
       "      <td>linear</td>\n",
       "    </tr>\n",
       "    <tr>\n",
       "      <th>0</th>\n",
       "      <td>gamma</td>\n",
       "      <td>0.001</td>\n",
       "    </tr>\n",
       "    <tr>\n",
       "      <th>0</th>\n",
       "      <td>class_weight</td>\n",
       "      <td>None</td>\n",
       "    </tr>\n",
       "    <tr>\n",
       "      <th>0</th>\n",
       "      <td>C</td>\n",
       "      <td>1</td>\n",
       "    </tr>\n",
       "    <tr>\n",
       "      <th>0</th>\n",
       "      <td>Best Score</td>\n",
       "      <td>0.643127</td>\n",
       "    </tr>\n",
       "  </tbody>\n",
       "</table>\n",
       "</div>"
      ],
      "text/plain": [
       "      Parameter Best Result\n",
       "0        kernel      linear\n",
       "0         gamma       0.001\n",
       "0  class_weight        None\n",
       "0             C           1\n",
       "0    Best Score    0.643127"
      ]
     },
     "execution_count": 88,
     "metadata": {},
     "output_type": "execute_result"
    }
   ],
   "source": [
    "# Create the Support Vector Classification (SVC) model (without specifying hyperparameters)\n",
    "model_SVC = SVC()\n",
    "\n",
    "# Define the parameter space for random search\n",
    "parameter_space_random = {\n",
    "    'C': [0.1, 1, 10, 100],\n",
    "    'gamma': [1e-3, 1e-4],\n",
    "    'kernel': ['linear', 'rbf', 'poly'],\n",
    "    'class_weight': [None, 'balanced'],\n",
    "}\n",
    "\n",
    "# Create the RandomizedSearchCV object\n",
    "random_search = RandomizedSearchCV(estimator=model_SVC, param_distributions=parameter_space_random,\n",
    "                                    scoring='f1', cv=5, random_state=42)\n",
    "\n",
    "# Fit the RandomizedSearchCV object to the data\n",
    "random_search.fit(X_train_total, y_train_total)  # Make sure X_total and y_total are defined\n",
    "\n",
    "# Extract the best parameters and their scores from RandomizedSearchCV\n",
    "best_params_random = random_search.best_params_\n",
    "best_score_random = random_search.best_score_\n",
    "\n",
    "# Create a DataFrame to store the results\n",
    "results_rs_svc = pd.DataFrame(columns=['Parameter', 'Best Result'])\n",
    "\n",
    "# Add the best parameters and scores to the DataFrame\n",
    "for param, value in best_params_random.items():\n",
    "    results_rs_svc = pd.concat([results_rs_svc, pd.DataFrame({'Parameter': [param], 'Best Result': [value]})])\n",
    "\n",
    "# Add the best score to the DataFrame\n",
    "results_rs_svc = pd.concat([results_rs_svc, pd.DataFrame({'Parameter': ['Best Score'], 'Best Result': [best_score_random]})])\n",
    "\n",
    "# Display the results DataFrame\n",
    "results_rs_svc\n"
   ]
  },
  {
   "cell_type": "markdown",
   "metadata": {},
   "source": [
    "### 3.2.2 GridSearch - SVC"
   ]
  },
  {
   "cell_type": "code",
   "execution_count": 89,
   "metadata": {},
   "outputs": [
    {
     "name": "stdout",
     "output_type": "stream",
     "text": [
      "Best Parameters:  {'C': 1, 'class_weight': None, 'gamma': 0.0001, 'kernel': 'linear'}\n"
     ]
    },
    {
     "data": {
      "text/html": [
       "<div>\n",
       "<style scoped>\n",
       "    .dataframe tbody tr th:only-of-type {\n",
       "        vertical-align: middle;\n",
       "    }\n",
       "\n",
       "    .dataframe tbody tr th {\n",
       "        vertical-align: top;\n",
       "    }\n",
       "\n",
       "    .dataframe thead th {\n",
       "        text-align: right;\n",
       "    }\n",
       "</style>\n",
       "<table border=\"1\" class=\"dataframe\">\n",
       "  <thead>\n",
       "    <tr style=\"text-align: right;\">\n",
       "      <th></th>\n",
       "      <th>Parameter</th>\n",
       "      <th>Best Result</th>\n",
       "    </tr>\n",
       "  </thead>\n",
       "  <tbody>\n",
       "    <tr>\n",
       "      <th>0</th>\n",
       "      <td>C</td>\n",
       "      <td>1</td>\n",
       "    </tr>\n",
       "    <tr>\n",
       "      <th>0</th>\n",
       "      <td>class_weight</td>\n",
       "      <td>None</td>\n",
       "    </tr>\n",
       "    <tr>\n",
       "      <th>0</th>\n",
       "      <td>gamma</td>\n",
       "      <td>0.0001</td>\n",
       "    </tr>\n",
       "    <tr>\n",
       "      <th>0</th>\n",
       "      <td>kernel</td>\n",
       "      <td>linear</td>\n",
       "    </tr>\n",
       "    <tr>\n",
       "      <th>0</th>\n",
       "      <td>Best Score</td>\n",
       "      <td>0.643127</td>\n",
       "    </tr>\n",
       "  </tbody>\n",
       "</table>\n",
       "</div>"
      ],
      "text/plain": [
       "      Parameter Best Result\n",
       "0             C           1\n",
       "0  class_weight        None\n",
       "0         gamma      0.0001\n",
       "0        kernel      linear\n",
       "0    Best Score    0.643127"
      ]
     },
     "execution_count": 89,
     "metadata": {},
     "output_type": "execute_result"
    }
   ],
   "source": [
    "# Create the Support Vector Classification (SVC) model (without specifying hyperparameters)\n",
    "model_SVC = SVC()\n",
    "\n",
    "# Define the parameter grid for grid search\n",
    "parameter_space_grid = {\n",
    "    'C': [1, 2, 3,4],\n",
    "    'gamma': [1e-4, 2e-4, 0.5e-4],\n",
    "    'kernel': ['linear', 'rbf', 'poly'],\n",
    "    'class_weight': [None, 'balanced'],\n",
    "}\n",
    "\n",
    "# Create the GridSearchCV object\n",
    "grid_search = GridSearchCV(estimator=model_SVC, param_grid=parameter_space_grid,\n",
    "                           scoring='f1', cv=5)\n",
    "\n",
    "# Fit the GridSearchCV object to the data\n",
    "grid_search.fit(X_train_total, y_train_total)  # Make sure X_total and y_total are defined\n",
    "\n",
    "# Print the best parameters\n",
    "print(\"Best Parameters: \", grid_search.best_params_)\n",
    "\n",
    "# Create a DataFrame to store the results\n",
    "results_gs_scv = pd.DataFrame(columns=['Parameter', 'Best Result'])\n",
    "\n",
    "# Add the best parameters and scores to the DataFrame\n",
    "for param, value in grid_search.best_params_.items():\n",
    "    results_gs_scv = pd.concat([results_gs_scv, pd.DataFrame({'Parameter': [param], 'Best Result': [value]})])\n",
    "\n",
    "# Add the best score to the DataFrame\n",
    "results_gs_scv = pd.concat([results_gs_scv, pd.DataFrame({'Parameter': ['Best Score'], 'Best Result': [grid_search.best_score_]})])\n",
    "\n",
    "# Display the results DataFrame\n",
    "results_gs_scv\n"
   ]
  },
  {
   "cell_type": "markdown",
   "metadata": {},
   "source": [
    "### 3.2.3 Final Model -SVC"
   ]
  },
  {
   "cell_type": "code",
   "execution_count": 55,
   "metadata": {},
   "outputs": [],
   "source": [
    "final_model_svc = SVC(\n",
    "    C=1,\n",
    "    class_weight=None,\n",
    "    gamma=0.0001,\n",
    "    kernel='linear',\n",
    "    max_iter=2000,\n",
    "    random_state=1\n",
    ")"
   ]
  },
  {
   "cell_type": "code",
   "execution_count": 127,
   "metadata": {},
   "outputs": [
    {
     "name": "stdout",
     "output_type": "stream",
     "text": [
      "--- Training ---\n",
      "Accuracy:\n",
      "Cross-Validation Accuracy: [0.812, 0.819, 0.812, 0.816, 0.819]\n",
      "Mean Accuracy: 0.816\n",
      "\n",
      "F1 Score:\n",
      "Cross-Validation F1: [0.659, 0.66, 0.657, 0.655, 0.66]\n",
      "Mean F1: 0.658\n",
      "\n",
      "Recall Score:\n",
      "Cross-Validation Recall: [0.684, 0.665, 0.678, 0.659, 0.662]\n",
      "Mean F1: 0.67\n",
      "\n",
      "--- Validation ---\n",
      "Accuracy:\n",
      "Cross-Validation Accuracy: [0.815, 0.802, 0.806, 0.829, 0.809]\n",
      "Mean Accuracy: 0.812\n",
      "\n",
      "F1 Score:\n",
      "Cross-Validation F1: [0.655, 0.636, 0.654, 0.68, 0.637]\n",
      "Mean F1: 0.652\n",
      "\n",
      "Recall Score:\n",
      "Cross-Validation Recall: [0.662, 0.652, 0.692, 0.686, 0.632]\n",
      "Mean Recall: 0.665\n",
      "\n",
      "--- Test ---\n",
      "Accuracy: 0.819\n",
      "F1: 0.661\n",
      "Recall: 0.666\n"
     ]
    }
   ],
   "source": [
    "train_eval(final_model_svc)"
   ]
  },
  {
   "cell_type": "markdown",
   "metadata": {},
   "source": [
    "### 3.3.1 RandomSearch - MLP"
   ]
  },
  {
   "cell_type": "code",
   "execution_count": 92,
   "metadata": {},
   "outputs": [
    {
     "data": {
      "text/html": [
       "<div>\n",
       "<style scoped>\n",
       "    .dataframe tbody tr th:only-of-type {\n",
       "        vertical-align: middle;\n",
       "    }\n",
       "\n",
       "    .dataframe tbody tr th {\n",
       "        vertical-align: top;\n",
       "    }\n",
       "\n",
       "    .dataframe thead th {\n",
       "        text-align: right;\n",
       "    }\n",
       "</style>\n",
       "<table border=\"1\" class=\"dataframe\">\n",
       "  <thead>\n",
       "    <tr style=\"text-align: right;\">\n",
       "      <th></th>\n",
       "      <th>Parameter</th>\n",
       "      <th>Best Result</th>\n",
       "    </tr>\n",
       "  </thead>\n",
       "  <tbody>\n",
       "    <tr>\n",
       "      <th>0</th>\n",
       "      <td>solver</td>\n",
       "      <td>sgd</td>\n",
       "    </tr>\n",
       "    <tr>\n",
       "      <th>0</th>\n",
       "      <td>learning_rate</td>\n",
       "      <td>constant</td>\n",
       "    </tr>\n",
       "    <tr>\n",
       "      <th>0</th>\n",
       "      <td>hidden_layer_sizes</td>\n",
       "      <td>(50, 50, 50)</td>\n",
       "    </tr>\n",
       "    <tr>\n",
       "      <th>0</th>\n",
       "      <td>alpha</td>\n",
       "      <td>0.05</td>\n",
       "    </tr>\n",
       "    <tr>\n",
       "      <th>0</th>\n",
       "      <td>activation</td>\n",
       "      <td>tanh</td>\n",
       "    </tr>\n",
       "    <tr>\n",
       "      <th>0</th>\n",
       "      <td>Best Score</td>\n",
       "      <td>0.643384</td>\n",
       "    </tr>\n",
       "  </tbody>\n",
       "</table>\n",
       "</div>"
      ],
      "text/plain": [
       "            Parameter   Best Result\n",
       "0              solver           sgd\n",
       "0       learning_rate      constant\n",
       "0  hidden_layer_sizes  (50, 50, 50)\n",
       "0               alpha          0.05\n",
       "0          activation          tanh\n",
       "0          Best Score      0.643384"
      ]
     },
     "execution_count": 92,
     "metadata": {},
     "output_type": "execute_result"
    }
   ],
   "source": [
    "# Create the Multi-Layer Perceptron (MLP) model (without specifying hyperparameters)\n",
    "model_MLP = MLPClassifier()\n",
    "\n",
    "# Define the parameter space for random search\n",
    "parameter_space_random = {\n",
    "    'hidden_layer_sizes': [(50,50,50), (50,100,50), (100,)],\n",
    "    'activation': ['tanh', 'relu'],\n",
    "    'solver': ['sgd', 'adam'],\n",
    "    'alpha': [0.0001, 0.05],\n",
    "    'learning_rate': ['constant', 'adaptive'],\n",
    "}\n",
    "\n",
    "# Create the RandomizedSearchCV object\n",
    "random_search = RandomizedSearchCV(estimator=model_MLP, param_distributions=parameter_space_random,\n",
    "                                    scoring='f1', cv=5, random_state=42)\n",
    "\n",
    "# Fit the RandomizedSearchCV object to the data\n",
    "random_search.fit(X_train_total, y_train_total)  # Make sure X_total and y_total are defined\n",
    "\n",
    "# Extract the best parameters and their scores from RandomizedSearchCV\n",
    "best_params_random = random_search.best_params_\n",
    "best_score_random = random_search.best_score_\n",
    "\n",
    "# Create a DataFrame to store the results\n",
    "results_rs_mlp = pd.DataFrame(columns=['Parameter', 'Best Result'])\n",
    "\n",
    "# Add the best parameters and scores to the DataFrame\n",
    "for param, value in best_params_random.items():\n",
    "    results_rs_mlp = pd.concat([results_rs_mlp, pd.DataFrame({'Parameter': [param], 'Best Result': [value]})])\n",
    "\n",
    "# Add the best score to the DataFrame\n",
    "results_rs_mlp = pd.concat([results_rs_mlp, pd.DataFrame({'Parameter': ['Best Score'], 'Best Result': [best_score_random]})])\n",
    "\n",
    "# Display the results DataFrame\n",
    "results_rs_mlp\n"
   ]
  },
  {
   "cell_type": "markdown",
   "metadata": {},
   "source": [
    "### 3.3.2 GridSearch - MLP"
   ]
  },
  {
   "cell_type": "code",
   "execution_count": 93,
   "metadata": {},
   "outputs": [
    {
     "name": "stdout",
     "output_type": "stream",
     "text": [
      "Best Parameters:  {'activation': 'tanh', 'alpha': 0.6, 'hidden_layer_sizes': (50, 50, 50), 'learning_rate': 'constant', 'solver': 'adam'}\n"
     ]
    },
    {
     "data": {
      "text/html": [
       "<div>\n",
       "<style scoped>\n",
       "    .dataframe tbody tr th:only-of-type {\n",
       "        vertical-align: middle;\n",
       "    }\n",
       "\n",
       "    .dataframe tbody tr th {\n",
       "        vertical-align: top;\n",
       "    }\n",
       "\n",
       "    .dataframe thead th {\n",
       "        text-align: right;\n",
       "    }\n",
       "</style>\n",
       "<table border=\"1\" class=\"dataframe\">\n",
       "  <thead>\n",
       "    <tr style=\"text-align: right;\">\n",
       "      <th></th>\n",
       "      <th>Parameter</th>\n",
       "      <th>Best Result</th>\n",
       "    </tr>\n",
       "  </thead>\n",
       "  <tbody>\n",
       "    <tr>\n",
       "      <th>0</th>\n",
       "      <td>activation</td>\n",
       "      <td>tanh</td>\n",
       "    </tr>\n",
       "    <tr>\n",
       "      <th>0</th>\n",
       "      <td>alpha</td>\n",
       "      <td>0.6</td>\n",
       "    </tr>\n",
       "    <tr>\n",
       "      <th>0</th>\n",
       "      <td>hidden_layer_sizes</td>\n",
       "      <td>(50, 50, 50)</td>\n",
       "    </tr>\n",
       "    <tr>\n",
       "      <th>0</th>\n",
       "      <td>learning_rate</td>\n",
       "      <td>constant</td>\n",
       "    </tr>\n",
       "    <tr>\n",
       "      <th>0</th>\n",
       "      <td>solver</td>\n",
       "      <td>adam</td>\n",
       "    </tr>\n",
       "    <tr>\n",
       "      <th>0</th>\n",
       "      <td>Best Score</td>\n",
       "      <td>0.647112</td>\n",
       "    </tr>\n",
       "  </tbody>\n",
       "</table>\n",
       "</div>"
      ],
      "text/plain": [
       "            Parameter   Best Result\n",
       "0          activation          tanh\n",
       "0               alpha           0.6\n",
       "0  hidden_layer_sizes  (50, 50, 50)\n",
       "0       learning_rate      constant\n",
       "0              solver          adam\n",
       "0          Best Score      0.647112"
      ]
     },
     "execution_count": 93,
     "metadata": {},
     "output_type": "execute_result"
    }
   ],
   "source": [
    "# Create the Support Vector Classification (SVC) model (without specifying hyperparameters)\n",
    "model_MLP = MLPClassifier()\n",
    "\n",
    "# Define the parameter grid for grid search\n",
    "parameter_space_grid = {\n",
    "    'hidden_layer_sizes': [(50,50,50)],\n",
    "    'activation': ['tanh', 'relu'],\n",
    "    'solver': ['sgd', 'adam'],\n",
    "    'alpha': [0.5, 0.4,0.3,0.6],\n",
    "    'learning_rate': ['constant', 'adaptive'],\n",
    "}\n",
    "\n",
    "# Create the GridSearchCV object\n",
    "grid_search = GridSearchCV(estimator=model_MLP, param_grid=parameter_space_grid,\n",
    "                           scoring='f1', cv=5)\n",
    "\n",
    "# Fit the GridSearchCV object to the data\n",
    "grid_search.fit(X_train_total, y_train_total)  # Make sure X_total and y_total are defined\n",
    "\n",
    "# Print the best parameters\n",
    "print(\"Best Parameters: \", grid_search.best_params_)\n",
    "\n",
    "# Create a DataFrame to store the results\n",
    "results_gs_mlp = pd.DataFrame(columns=['Parameter', 'Best Result'])\n",
    "\n",
    "# Add the best parameters and scores to the DataFrame\n",
    "for param, value in grid_search.best_params_.items():\n",
    "    results_gs_mlp = pd.concat([results_gs_mlp, pd.DataFrame({'Parameter': [param], 'Best Result': [value]})])\n",
    "\n",
    "# Add the best score to the DataFrame\n",
    "results_gs_mlp = pd.concat([results_gs_mlp, pd.DataFrame({'Parameter': ['Best Score'], 'Best Result': [grid_search.best_score_]})])\n",
    "\n",
    "# Display the results DataFrame\n",
    "results_gs_mlp"
   ]
  },
  {
   "cell_type": "markdown",
   "metadata": {},
   "source": [
    "### 3.3.3 Final Model -MLP"
   ]
  },
  {
   "cell_type": "code",
   "execution_count": 56,
   "metadata": {},
   "outputs": [],
   "source": [
    "final_model_mlp = MLPClassifier(\n",
    "    activation='tanh',\n",
    "    alpha=0.3,\n",
    "    hidden_layer_sizes=(50, 50, 50),\n",
    "    learning_rate='constant',\n",
    "    solver='adam',\n",
    "    random_state=1\n",
    ")"
   ]
  },
  {
   "cell_type": "code",
   "execution_count": 125,
   "metadata": {},
   "outputs": [
    {
     "name": "stdout",
     "output_type": "stream",
     "text": [
      "--- Training ---\n",
      "Accuracy:\n",
      "Cross-Validation Accuracy: [0.826, 0.826, 0.824, 0.823, 0.824]\n",
      "Mean Accuracy: 0.825\n",
      "\n",
      "F1 Score:\n",
      "Cross-Validation F1: [0.647, 0.674, 0.658, 0.636, 0.672]\n",
      "Mean F1: 0.657\n",
      "\n",
      "Recall Score:\n",
      "Cross-Validation Recall: [0.602, 0.681, 0.639, 0.584, 0.68]\n",
      "Mean F1: 0.637\n",
      "\n",
      "--- Validation ---\n",
      "Accuracy:\n",
      "Cross-Validation Accuracy: [0.822, 0.804, 0.826, 0.833, 0.819]\n",
      "Mean Accuracy: 0.821\n",
      "\n",
      "F1 Score:\n",
      "Cross-Validation F1: [0.628, 0.637, 0.668, 0.662, 0.659]\n",
      "Mean F1: 0.651\n",
      "\n",
      "Recall Score:\n",
      "Cross-Validation Recall: [0.569, 0.649, 0.659, 0.615, 0.659]\n",
      "Mean Recall: 0.63\n",
      "\n",
      "--- Test ---\n",
      "Accuracy: 0.824\n",
      "F1: 0.675\n",
      "Recall: 0.69\n"
     ]
    }
   ],
   "source": [
    "train_eval(final_model_mlp)"
   ]
  },
  {
   "cell_type": "markdown",
   "metadata": {},
   "source": [
    "### 3.4.1 RandomSearch - Logistic Regression"
   ]
  },
  {
   "cell_type": "code",
   "execution_count": 96,
   "metadata": {},
   "outputs": [
    {
     "data": {
      "text/html": [
       "<div>\n",
       "<style scoped>\n",
       "    .dataframe tbody tr th:only-of-type {\n",
       "        vertical-align: middle;\n",
       "    }\n",
       "\n",
       "    .dataframe tbody tr th {\n",
       "        vertical-align: top;\n",
       "    }\n",
       "\n",
       "    .dataframe thead th {\n",
       "        text-align: right;\n",
       "    }\n",
       "</style>\n",
       "<table border=\"1\" class=\"dataframe\">\n",
       "  <thead>\n",
       "    <tr style=\"text-align: right;\">\n",
       "      <th></th>\n",
       "      <th>Parameter</th>\n",
       "      <th>Best Result</th>\n",
       "    </tr>\n",
       "  </thead>\n",
       "  <tbody>\n",
       "    <tr>\n",
       "      <th>0</th>\n",
       "      <td>solver</td>\n",
       "      <td>newton-cg</td>\n",
       "    </tr>\n",
       "    <tr>\n",
       "      <th>0</th>\n",
       "      <td>penalty</td>\n",
       "      <td>l2</td>\n",
       "    </tr>\n",
       "    <tr>\n",
       "      <th>0</th>\n",
       "      <td>max_iter</td>\n",
       "      <td>100</td>\n",
       "    </tr>\n",
       "    <tr>\n",
       "      <th>0</th>\n",
       "      <td>C</td>\n",
       "      <td>78.475997</td>\n",
       "    </tr>\n",
       "    <tr>\n",
       "      <th>0</th>\n",
       "      <td>Best Score</td>\n",
       "      <td>0.650332</td>\n",
       "    </tr>\n",
       "  </tbody>\n",
       "</table>\n",
       "</div>"
      ],
      "text/plain": [
       "    Parameter Best Result\n",
       "0      solver   newton-cg\n",
       "0     penalty          l2\n",
       "0    max_iter         100\n",
       "0           C   78.475997\n",
       "0  Best Score    0.650332"
      ]
     },
     "execution_count": 96,
     "metadata": {},
     "output_type": "execute_result"
    }
   ],
   "source": [
    "# Create the Support Vector Classification (SVC) model (without specifying hyperparameters)\n",
    "model_LR = LogisticRegression()\n",
    "\n",
    "# Define the parameter grid for grid search\n",
    "parameter_space_random = {\n",
    "    'penalty' : ['l1', 'l2', 'elasticnet', 'none'],\n",
    "    'C' : np.logspace(-4, 4, 20),\n",
    "    'solver' : ['lbfgs','newton-cg','liblinear','sag','saga'],\n",
    "    'max_iter' : [100, 1000,2500, 5000]\n",
    "}\n",
    "\n",
    "# Create the RandomizedSearchCV object\n",
    "random_search = RandomizedSearchCV(estimator=model_LR, param_distributions=parameter_space_random,\n",
    "                                    scoring='f1', cv=5, random_state=42)\n",
    "\n",
    "# Fit the RandomizedSearchCV object to the data\n",
    "random_search.fit(X_train_total, y_train_total)  # Make sure X_total and y_total are defined\n",
    "\n",
    "# Extract the best parameters and their scores from RandomizedSearchCV\n",
    "best_params_random = random_search.best_params_\n",
    "best_score_random = random_search.best_score_\n",
    "\n",
    "# Create a DataFrame to store the results\n",
    "results_rs_LR = pd.DataFrame(columns=['Parameter', 'Best Result'])\n",
    "\n",
    "# Add the best parameters and scores to the DataFrame\n",
    "for param, value in best_params_random.items():\n",
    "    results_rs_LR = pd.concat([results_rs_LR, pd.DataFrame({'Parameter': [param], 'Best Result': [value]})])\n",
    "\n",
    "# Add the best score to the DataFrame\n",
    "results_rs_LR = pd.concat([results_rs_LR, pd.DataFrame({'Parameter': ['Best Score'], 'Best Result': [best_score_random]})])\n",
    "\n",
    "# Display the results DataFrame\n",
    "results_rs_LR\n"
   ]
  },
  {
   "cell_type": "markdown",
   "metadata": {},
   "source": [
    "### 3.4.2 GridSearch - LR"
   ]
  },
  {
   "cell_type": "code",
   "execution_count": 97,
   "metadata": {},
   "outputs": [
    {
     "name": "stdout",
     "output_type": "stream",
     "text": [
      "Best Parameters:  {'C': 4.281332398719396, 'max_iter': 100, 'penalty': 'l2', 'solver': 'liblinear'}\n"
     ]
    },
    {
     "data": {
      "text/html": [
       "<div>\n",
       "<style scoped>\n",
       "    .dataframe tbody tr th:only-of-type {\n",
       "        vertical-align: middle;\n",
       "    }\n",
       "\n",
       "    .dataframe tbody tr th {\n",
       "        vertical-align: top;\n",
       "    }\n",
       "\n",
       "    .dataframe thead th {\n",
       "        text-align: right;\n",
       "    }\n",
       "</style>\n",
       "<table border=\"1\" class=\"dataframe\">\n",
       "  <thead>\n",
       "    <tr style=\"text-align: right;\">\n",
       "      <th></th>\n",
       "      <th>Parameter</th>\n",
       "      <th>Best Result</th>\n",
       "    </tr>\n",
       "  </thead>\n",
       "  <tbody>\n",
       "    <tr>\n",
       "      <th>0</th>\n",
       "      <td>C</td>\n",
       "      <td>4.281332</td>\n",
       "    </tr>\n",
       "    <tr>\n",
       "      <th>0</th>\n",
       "      <td>max_iter</td>\n",
       "      <td>100.0</td>\n",
       "    </tr>\n",
       "    <tr>\n",
       "      <th>0</th>\n",
       "      <td>penalty</td>\n",
       "      <td>l2</td>\n",
       "    </tr>\n",
       "    <tr>\n",
       "      <th>0</th>\n",
       "      <td>solver</td>\n",
       "      <td>liblinear</td>\n",
       "    </tr>\n",
       "    <tr>\n",
       "      <th>0</th>\n",
       "      <td>Best Score</td>\n",
       "      <td>0.65099</td>\n",
       "    </tr>\n",
       "  </tbody>\n",
       "</table>\n",
       "</div>"
      ],
      "text/plain": [
       "    Parameter Best Result\n",
       "0           C    4.281332\n",
       "0    max_iter       100.0\n",
       "0     penalty          l2\n",
       "0      solver   liblinear\n",
       "0  Best Score     0.65099"
      ]
     },
     "execution_count": 97,
     "metadata": {},
     "output_type": "execute_result"
    }
   ],
   "source": [
    "# Create the Support Vector Classification (SVC) model (without specifying hyperparameters)\n",
    "model_LR = LogisticRegression()\n",
    "\n",
    "# Define the parameter grid for grid search\n",
    "parameter_space_random = {\n",
    "    'penalty' : ['l1', 'l2', 'elasticnet', 'none'],\n",
    "    'C' : np.logspace(-4, 4, 20),\n",
    "    'solver' : ['lbfgs','newton-cg','liblinear','sag','saga'],\n",
    "    'max_iter' : [100, 50,150, 300]\n",
    "}\n",
    "# Create the GridSearchCV object\n",
    "grid_search = GridSearchCV(estimator=model_LR, param_grid=parameter_space_random,\n",
    "                           scoring='f1', cv=5)\n",
    "\n",
    "# Fit the GridSearchCV object to the data\n",
    "grid_search.fit(X_train_total, y_train_total)  # Make sure X_total and y_total are defined\n",
    "\n",
    "# Print the best parameters\n",
    "print(\"Best Parameters: \", grid_search.best_params_)\n",
    "\n",
    "# Create a DataFrame to store the results\n",
    "results_gs_LR = pd.DataFrame(columns=['Parameter', 'Best Result'])\n",
    "\n",
    "# Add the best parameters and scores to the DataFrame\n",
    "for param, value in grid_search.best_params_.items():\n",
    "    results_gs_LR = pd.concat([results_gs_LR, pd.DataFrame({'Parameter': [param], 'Best Result': [value]})])\n",
    "\n",
    "# Add the best score to the DataFrame\n",
    "results_gs_LR = pd.concat([results_gs_LR, pd.DataFrame({'Parameter': ['Best Score'], 'Best Result': [grid_search.best_score_]})])\n",
    "\n",
    "# Display the results DataFrame\n",
    "results_gs_LR"
   ]
  },
  {
   "cell_type": "markdown",
   "metadata": {},
   "source": [
    "### 3.4.3 Final Model - LR"
   ]
  },
  {
   "cell_type": "code",
   "execution_count": 57,
   "metadata": {},
   "outputs": [],
   "source": [
    "final_model_LR = LogisticRegression(\n",
    "    C=4.281332,\n",
    "    max_iter=100,\n",
    "    penalty=\"l2\",\n",
    "    solver='liblinear',\n",
    "    random_state=1\n",
    ")"
   ]
  },
  {
   "cell_type": "code",
   "execution_count": 124,
   "metadata": {},
   "outputs": [
    {
     "name": "stdout",
     "output_type": "stream",
     "text": [
      "--- Training ---\n",
      "Accuracy:\n",
      "Cross-Validation Accuracy: [0.82, 0.824, 0.82, 0.817, 0.821]\n",
      "Mean Accuracy: 0.82\n",
      "\n",
      "F1 Score:\n",
      "Cross-Validation F1: [0.656, 0.656, 0.653, 0.646, 0.657]\n",
      "Mean F1: 0.654\n",
      "\n",
      "Recall Score:\n",
      "Cross-Validation Recall: [0.645, 0.631, 0.638, 0.63, 0.646]\n",
      "Mean F1: 0.638\n",
      "\n",
      "--- Validation ---\n",
      "Accuracy:\n",
      "Cross-Validation Accuracy: [0.823, 0.806, 0.817, 0.831, 0.813]\n",
      "Mean Accuracy: 0.818\n",
      "\n",
      "F1 Score:\n",
      "Cross-Validation F1: [0.65, 0.624, 0.653, 0.672, 0.642]\n",
      "Mean F1: 0.648\n",
      "\n",
      "Recall Score:\n",
      "Cross-Validation Recall: [0.622, 0.609, 0.649, 0.656, 0.632]\n",
      "Mean Recall: 0.634\n",
      "\n",
      "--- Test ---\n",
      "Accuracy: 0.828\n",
      "F1: 0.666\n",
      "Recall: 0.647\n"
     ]
    }
   ],
   "source": [
    "train_eval(final_model_LR)"
   ]
  },
  {
   "cell_type": "markdown",
   "metadata": {},
   "source": [
    "### 3.5.3 Esemble Model - Stacking Classifier"
   ]
  },
  {
   "cell_type": "code",
   "execution_count": 58,
   "metadata": {},
   "outputs": [],
   "source": [
    "#Importing Model\n",
    "from sklearn.ensemble import StackingClassifier\n",
    "\n",
    "model_estimators = [\n",
    "        (\"LR\", final_model_LR),\n",
    "        (\"MLP\", final_model_mlp),\n",
    "        (\"SVC\", final_model_svc),\n",
    "        (\"GB\", final_model_gb)\n",
    "]\n",
    "\n",
    "model_stck = StackingClassifier(estimators=model_estimators)\n"
   ]
  },
  {
   "cell_type": "code",
   "execution_count": 135,
   "metadata": {},
   "outputs": [
    {
     "name": "stdout",
     "output_type": "stream",
     "text": [
      "--- Training ---\n",
      "Accuracy:\n",
      "Cross-Validation Accuracy: [0.823, 0.831, 0.826, 0.826, 0.826]\n",
      "Mean Accuracy: 0.826\n",
      "\n",
      "F1 Score:\n",
      "Cross-Validation F1: [0.651, 0.653, 0.654, 0.646, 0.647]\n",
      "Mean F1: 0.65\n",
      "\n",
      "Recall Score:\n",
      "Cross-Validation Recall: [0.621, 0.599, 0.62, 0.599, 0.599]\n",
      "Mean F1: 0.608\n",
      "\n",
      "--- Validation ---\n",
      "Accuracy:\n",
      "Cross-Validation Accuracy: [0.823, 0.814, 0.815, 0.831, 0.82]\n",
      "Mean Accuracy: 0.821\n",
      "\n",
      "F1 Score:\n",
      "Cross-Validation F1: [0.639, 0.617, 0.642, 0.655, 0.638]\n",
      "Mean F1: 0.638\n",
      "\n",
      "Recall Score:\n",
      "Cross-Validation Recall: [0.592, 0.565, 0.625, 0.605, 0.599]\n",
      "Mean Recall: 0.597\n",
      "\n",
      "--- Test ---\n",
      "Accuracy: 0.832\n",
      "F1: 0.676\n",
      "Recall: 0.66\n"
     ]
    }
   ],
   "source": [
    "train_eval(model_stck)"
   ]
  },
  {
   "cell_type": "markdown",
   "metadata": {},
   "source": [
    "### 3.6.1 Treshold Adjustment - MLP"
   ]
  },
  {
   "cell_type": "code",
   "execution_count": 65,
   "metadata": {},
   "outputs": [],
   "source": [
    "final_model_mlp.fit(X_train_total, y_train_total)\n",
    "predict_proba = final_model_mlp.predict_proba(X_test)"
   ]
  },
  {
   "cell_type": "code",
   "execution_count": 67,
   "metadata": {},
   "outputs": [
    {
     "name": "stdout",
     "output_type": "stream",
     "text": [
      "Best Threshold=0.465298, F-Score=0.680\n"
     ]
    },
    {
     "data": {
      "image/png": "[encoded data removed]",
      "text/plain": [
       "<Figure size 640x480 with 1 Axes>"
      ]
     },
     "metadata": {},
     "output_type": "display_data"
    }
   ],
   "source": [
    "\n",
    "precision, recall, thresholds = precision_recall_curve(y_test, predict_proba[:,1])\n",
    "\n",
    "# apply f1 score\n",
    "fscore = (2 * precision * recall) / (precision + recall)\n",
    "# locate the index of the largest f score\n",
    "ix = np.argmax(fscore)\n",
    "print('Best Threshold=%f, F-Score=%.3f' % (thresholds[ix], fscore[ix]))\n",
    "\n",
    "plt.plot(recall, precision, marker='.', label='DT')\n",
    "plt.scatter(recall[ix], precision[ix], marker='o', color='black', label='Best')\n",
    "plt.xlabel('Recall')\n",
    "plt.ylabel('Precision')\n",
    "plt.legend()\n",
    "plt.show()"
   ]
  },
  {
   "cell_type": "markdown",
   "metadata": {},
   "source": [
    "### 3.6.2 Treshold Adjustment - LR"
   ]
  },
  {
   "cell_type": "code",
   "execution_count": 69,
   "metadata": {},
   "outputs": [],
   "source": [
    "final_model_LR.fit(X_train_total, y_train_total)\n",
    "predict_proba = final_model_LR.predict_proba(X_test)"
   ]
  },
  {
   "cell_type": "code",
   "execution_count": 70,
   "metadata": {},
   "outputs": [
    {
     "name": "stdout",
     "output_type": "stream",
     "text": [
      "Best Threshold=0.455135, F-Score=0.675\n"
     ]
    },
    {
     "data": {
      "image/png": "[encoded data removed]",
      "text/plain": [
       "<Figure size 640x480 with 1 Axes>"
      ]
     },
     "metadata": {},
     "output_type": "display_data"
    }
   ],
   "source": [
    "precision, recall, thresholds = precision_recall_curve(y_test, predict_proba[:,1])\n",
    "\n",
    "# apply f1 score\n",
    "fscore = (2 * precision * recall) / (precision + recall)\n",
    "# locate the index of the largest f score\n",
    "ix = np.argmax(fscore)\n",
    "print('Best Threshold=%f, F-Score=%.3f' % (thresholds[ix], fscore[ix]))\n",
    "\n",
    "plt.plot(recall, precision, marker='.', label='DT')\n",
    "plt.scatter(recall[ix], precision[ix], marker='o', color='black', label='Best')\n",
    "plt.xlabel('Recall')\n",
    "plt.ylabel('Precision')\n",
    "plt.legend()\n",
    "plt.show()"
   ]
  },
  {
   "cell_type": "code",
   "execution_count": 102,
   "metadata": {},
   "outputs": [],
   "source": [
    "def select_best_models(df, model):\n",
    "    skf = StratifiedKFold(n_splits = 5, random_state = 99, shuffle = True)\n",
    "    X_train_total\n",
    "    y_train_total\n",
    "    score_train, score_val = [],[]\n",
    "        \n",
    "    # perform the cross-validation    \n",
    "    for train_index, val_index in skf.split(X_train_total,y_train_total):\n",
    "        X_train, X_val = X_train_total.iloc[train_index], X_train_total.iloc[val_index]\n",
    "        y_train, y_val = y_train_total.iloc[train_index], y_train_total.iloc[val_index]\n",
    "\n",
    "        \n",
    "        # Apply model\n",
    "        model.fit(X_train, y_train)\n",
    "        predictions_train = model.predict(X_train)\n",
    "        predictions_val = model.predict(X_val)\n",
    "        score_train.append(f1_score(y_train, predictions_train))\n",
    "        score_val.append(f1_score(y_val, predictions_val))\n",
    "\n",
    "    avg_train = round(np.mean(score_train),3)\n",
    "    avg_val = round(np.mean(score_val),3)\n",
    "    std_train = round(np.std(score_train),2)\n",
    "    std_val = round(np.std(score_val),2)\n",
    "\n",
    "    return avg_train, std_train, avg_val, std_val\n",
    "\n",
    "def show_results(df, data, *args):\n",
    "    count = 0\n",
    "    # for each instance of model passed as argument\n",
    "    for arg in args:\n",
    "        avg_train, std_train, avg_val, std_val = select_best_models(data, arg)\n",
    "        # store the results in the right row\n",
    "        df.iloc[count] = str(avg_train) + '+/-' + str(std_train), str(avg_val) + '+/-' + str(std_val)\n",
    "        count+=1\n",
    "    return df"
   ]
  },
  {
   "cell_type": "code",
   "execution_count": 103,
   "metadata": {},
   "outputs": [
    {
     "data": {
      "text/html": [
       "<div>\n",
       "<style scoped>\n",
       "    .dataframe tbody tr th:only-of-type {\n",
       "        vertical-align: middle;\n",
       "    }\n",
       "\n",
       "    .dataframe tbody tr th {\n",
       "        vertical-align: top;\n",
       "    }\n",
       "\n",
       "    .dataframe thead th {\n",
       "        text-align: right;\n",
       "    }\n",
       "</style>\n",
       "<table border=\"1\" class=\"dataframe\">\n",
       "  <thead>\n",
       "    <tr style=\"text-align: right;\">\n",
       "      <th></th>\n",
       "      <th>Train</th>\n",
       "      <th>Validation</th>\n",
       "    </tr>\n",
       "  </thead>\n",
       "  <tbody>\n",
       "    <tr>\n",
       "      <th>Best GB</th>\n",
       "      <td>0.654+/-0.01</td>\n",
       "      <td>0.644+/-0.03</td>\n",
       "    </tr>\n",
       "    <tr>\n",
       "      <th>Best SVC</th>\n",
       "      <td>0.66+/-0.01</td>\n",
       "      <td>0.653+/-0.03</td>\n",
       "    </tr>\n",
       "    <tr>\n",
       "      <th>Best MLP</th>\n",
       "      <td>0.631+/-0.0</td>\n",
       "      <td>0.628+/-0.03</td>\n",
       "    </tr>\n",
       "  </tbody>\n",
       "</table>\n",
       "</div>"
      ],
      "text/plain": [
       "                 Train    Validation\n",
       "Best GB   0.654+/-0.01  0.644+/-0.03\n",
       "Best SVC   0.66+/-0.01  0.653+/-0.03\n",
       "Best MLP   0.631+/-0.0  0.628+/-0.03"
      ]
     },
     "execution_count": 103,
     "metadata": {},
     "output_type": "execute_result"
    }
   ],
   "source": [
    "df_final_models = pd.DataFrame(columns = ['Train','Validation'], index = ['Best GB','Best SVC', 'Best MLP'])\n",
    "show_results(df_final_models, scenario3, final_model_gb, final_model_svc, final_model_mlp)"
   ]
  },
  {
   "cell_type": "code",
   "execution_count": 136,
   "metadata": {},
   "outputs": [
    {
     "data": {
      "image/png": "[encoded data removed]",
      "text/plain": [
       "<Figure size 640x480 with 1 Axes>"
      ]
     },
     "metadata": {},
     "output_type": "display_data"
    }
   ],
   "source": [
    "import matplotlib.pyplot as plt\n",
    "from sklearn.metrics import roc_curve, auc\n",
    "from sklearn.model_selection import train_test_split\n",
    "\n",
    "\n",
    "models = [final_model_gb, final_model_svc, final_model_mlp, final_model_LR, model_stck]\n",
    "model_labels = ['Gradient Boosting', 'SVM', 'Multi-layer Perceptron', 'Logistics Regression', 'Stacking Classifier']\n",
    "\n",
    "# Split data into training and validation sets\n",
    "X_train, X_val, y_train, y_val = train_test_split(X_train_total, y_train_total, test_size=0.2, random_state=42)\n",
    "\n",
    "# Create ROC curve for each model\n",
    "plt.figure()\n",
    "lw = 2\n",
    "\n",
    "for model, label in zip(models, model_labels):\n",
    "    try:\n",
    "        # Try using predict_proba\n",
    "        y_score = model.predict_proba(X_val)[:, 1]\n",
    "    except AttributeError:\n",
    "        # If predict_proba is not available, use decision_function\n",
    "        y_score = model.decision_function(X_val)\n",
    "\n",
    "    # Compute ROC curve and ROC area\n",
    "    fpr, tpr, _ = roc_curve(y_val, y_score)\n",
    "    roc_auc = auc(fpr, tpr)\n",
    "\n",
    "    # Plot ROC curve\n",
    "    plt.plot(fpr, tpr, lw=lw, label='ROC Curve {} (area = {:.2f})'.format(label, roc_auc))\n",
    "\n",
    "plt.plot([0, 1], [0, 1], color='navy', lw=lw, linestyle='--')\n",
    "plt.xlabel('False Positive Rate')\n",
    "plt.ylabel('True Positive Rate')\n",
    "plt.title('Receiver Operating Characteristic (ROC) Curve')\n",
    "plt.legend(loc=\"lower right\")\n",
    "plt.show()\n"
   ]
  },
  {
   "cell_type": "code",
   "execution_count": null,
   "metadata": {},
   "outputs": [],
   "source": []
  }
 ],
 "metadata": {
  "kernelspec": {
   "display_name": "base",
   "language": "python",
   "name": "python3"
  },
  "language_info": {
   "codemirror_mode": {
    "name": "ipython",
    "version": 3
   },
   "file_extension": ".py",
   "mimetype": "text/x-python",
   "name": "python",
   "nbconvert_exporter": "python",
   "pygments_lexer": "ipython3",
   "version": "3.11.0"
  }
 },
 "nbformat": 4,
 "nbformat_minor": 2
}
