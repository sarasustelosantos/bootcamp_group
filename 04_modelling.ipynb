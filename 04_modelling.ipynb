{
 "cells": [
  {
   "cell_type": "markdown",
   "metadata": {},
   "source": [
    "# Modelling\n",
    "## 1. Prepare for Modelling\n",
    "### 1.1. Import libraries"
   ]
  },
  {
   "cell_type": "code",
   "execution_count": 53,
   "metadata": {},
   "outputs": [],
   "source": [
    "import pandas as pd\n",
    "from sklearn.model_selection import StratifiedKFold\n",
    "from sklearn.preprocessing import StandardScaler\n",
    "\n",
    "# Models\n",
    "from sklearn.linear_model import LogisticRegression\n",
    "from sklearn.tree import DecisionTreeClassifier\n",
    "from sklearn.ensemble import RandomForestClassifier\n",
    "from sklearn.svm import SVC\n",
    "from sklearn.naive_bayes import GaussianNB\n",
    "from sklearn.neighbors import KNeighborsClassifier\n",
    "from sklearn.ensemble import GradientBoostingClassifier\n",
    "from sklearn.neural_network import MLPClassifier\n",
    "\n",
    "# Data Split\n",
    "from sklearn.model_selection import train_test_split\n",
    "\n",
    "# Evaluation Metrics\n",
    "from sklearn.metrics import accuracy_score, classification_report, confusion_matrix, f1_score\n",
    "\n",
    "from sklearn.model_selection import RandomizedSearchCV\n",
    "from sklearn.ensemble import GradientBoostingClassifier\n",
    "from sklearn.model_selection import GridSearchCV\n",
    "import numpy as np\n",
    "from pprint import pprint\n",
    "from sklearn.metrics import precision_recall_curve\n"
   ]
  },
  {
   "cell_type": "code",
   "execution_count": 2,
   "metadata": {},
   "outputs": [],
   "source": [
    "# Disable Warnings\n",
    "import warnings\n",
    "warnings.filterwarnings(\"ignore\")"
   ]
  },
  {
   "cell_type": "markdown",
   "metadata": {},
   "source": [
    "### 1.2. Import data"
   ]
  },
  {
   "cell_type": "code",
   "execution_count": 3,
   "metadata": {},
   "outputs": [],
   "source": [
    "# Substituir pelo df do feature selection \n",
    "all_data = pd.read_csv('data/processed/df_clustered.csv')"
   ]
  },
  {
   "cell_type": "code",
   "execution_count": 4,
   "metadata": {},
   "outputs": [],
   "source": [
    "# Drop irrelevant variables for prediction (cluster) \n",
    "columns_to_remove=[col for col in all_data.columns if col.startswith('Cluster_')]\n",
    "all_data.drop(columns=columns_to_remove, inplace=True, errors='ignore')"
   ]
  },
  {
   "cell_type": "markdown",
   "metadata": {},
   "source": [
    "### 1.3. Feature Selection"
   ]
  },
  {
   "cell_type": "code",
   "execution_count": 5,
   "metadata": {},
   "outputs": [],
   "source": [
    "# Import scenarios generated in feature selection\n",
    "scenario1_td = pd.read_csv('data/processed/scenario1.csv')\n",
    "scenario2_td = pd.read_csv('data/processed/scenario2.csv')\n",
    "\n",
    "# Other scenarios created in this notebook\n",
    "\n",
    "scenario3 = all_data[[\"Customer ID\", 'Senior Citizen','Dependents','Referred a Friend','Internet Service','Internet Type_Fiber Optic','Online Security','Offer_Offer E',\n",
    "                     'Offer_Offer A','Premium Tech Support','Unlimited Data','Contract_Month-to-Month','Paperless Billing','Payment Method_Credit Card', 'Churn Score', 'Satisfaction Score']]"
   ]
  },
  {
   "cell_type": "code",
   "execution_count": 6,
   "metadata": {},
   "outputs": [
    {
     "name": "stdout",
     "output_type": "stream",
     "text": [
      "Index(['Customer ID', 'Satisfaction Score', 'Churn Score',\n",
      "       'Contract_Month-to-Month', 'Number of Referrals', 'Online Security',\n",
      "       'Monthly Charge', 'Offer_Offer E', 'Offer_Offer A',\n",
      "       'Contract_Two Year'],\n",
      "      dtype='object')\n"
     ]
    }
   ],
   "source": [
    "print(scenario2_td.columns)"
   ]
  },
  {
   "cell_type": "code",
   "execution_count": 7,
   "metadata": {},
   "outputs": [
    {
     "name": "stdout",
     "output_type": "stream",
     "text": [
      "Index(['Customer ID', 'Satisfaction Score', 'Churn Score',\n",
      "       'Contract_Month-to-Month', 'Number of Referrals', 'Online Security',\n",
      "       'Monthly Charge'],\n",
      "      dtype='object')\n"
     ]
    }
   ],
   "source": [
    "print(scenario1_td.columns)"
   ]
  },
  {
   "cell_type": "code",
   "execution_count": 8,
   "metadata": {},
   "outputs": [
    {
     "name": "stdout",
     "output_type": "stream",
     "text": [
      "Index(['Customer ID', 'Senior Citizen', 'Dependents', 'Referred a Friend',\n",
      "       'Internet Service', 'Internet Type_Fiber Optic', 'Online Security',\n",
      "       'Offer_Offer E', 'Offer_Offer A', 'Premium Tech Support',\n",
      "       'Unlimited Data', 'Contract_Month-to-Month', 'Paperless Billing',\n",
      "       'Payment Method_Credit Card', 'Churn Score', 'Satisfaction Score'],\n",
      "      dtype='object')\n"
     ]
    }
   ],
   "source": [
    "print(scenario3.columns)"
   ]
  },
  {
   "cell_type": "code",
   "execution_count": 9,
   "metadata": {},
   "outputs": [],
   "source": [
    "scenario1_td.drop(columns=['Churn Score', 'Satisfaction Score'], inplace=True, errors='ignore')\n",
    "scenario2_td.drop(columns=['Churn Score', 'Satisfaction Score'], inplace=True, errors='ignore')\n",
    "scenario3.drop(columns=['Churn Score', 'Satisfaction Score'], inplace=True, errors='ignore')"
   ]
  },
  {
   "cell_type": "markdown",
   "metadata": {},
   "source": [
    "### 1.4. Data Split\n",
    "> Train-Test split<p>\n",
    "> Train data in predictors (X) and target variable (y)"
   ]
  },
  {
   "cell_type": "code",
   "execution_count": 10,
   "metadata": {},
   "outputs": [],
   "source": [
    "# List to append the metrics of all the models\n",
    "models_metrics =[]"
   ]
  },
  {
   "cell_type": "code",
   "execution_count": 11,
   "metadata": {},
   "outputs": [],
   "source": [
    "def data_split(scenario):\n",
    "    # Define the scenario to test\n",
    "    df = scenario.copy()\n",
    "    df.set_index(\"Customer ID\", inplace=True)\n",
    "\n",
    "    # Split\n",
    "    X_total = df\n",
    "    y_total = all_data[[\"Customer ID\", \"Churn Label\"]]\n",
    "    y_total.set_index(\"Customer ID\", inplace=True)\n",
    "\n",
    "    # Splitting the Data into Train and test with 20% test Data. Stratify dut to unbalance Dataset. (Only 27% Churn)\n",
    "    X_train_total, X_test, y_train_total, y_test = train_test_split(X_total, y_total, test_size=0.20, random_state=1, stratify=y_total)\n",
    "\n",
    "    return X_train_total, X_test, y_train_total, y_test\n",
    "\n",
    "X_train_total, X_test, y_train_total, y_test = data_split(scenario3)"
   ]
  },
  {
   "cell_type": "markdown",
   "metadata": {},
   "source": [
    "## 2. Baseline X_train\n",
    "### 2.1 Logistic Regression - Train and Validation Results"
   ]
  },
  {
   "cell_type": "code",
   "execution_count": 12,
   "metadata": {},
   "outputs": [],
   "source": [
    "def train_eval(model, X_train_total=X_train_total, X_test=X_test, y_train_total=y_train_total, y_test=y_test):\n",
    "    # Feature scaling - scenario 1 already scaled\n",
    "    #scaler = StandardScaler()\n",
    "    #X_scaled = scaler.fit_transform(X_train)\n",
    "\n",
    "    # Create StratifiedKFold\n",
    "    k_fold = StratifiedKFold(n_splits=5, shuffle=True, random_state=42)\n",
    "\n",
    "    # Initialize variables to store Validation results\n",
    "    train_accuracy_scores = []\n",
    "    train_f1_scores = []\n",
    "\n",
    "    # Initialize variables to store Validation results\n",
    "    val_accuracy_scores = []\n",
    "    val_f1_scores = []\n",
    "\n",
    "    # Perform k-fold cross-validation\n",
    "    for train_idx, val_idx in k_fold.split(X_train_total, y_train_total):\n",
    "        X_train, X_val = X_train_total.iloc[train_idx], X_train_total.iloc[val_idx]\n",
    "        y_train, y_val = y_train_total.iloc[train_idx], y_train_total.iloc[val_idx]\n",
    "\n",
    "        # Train the model\n",
    "        model.fit(X_train, y_train)\n",
    "        \n",
    "        # Make predictions on the training set  - To check potential overfitting\n",
    "        y_train_pred = model.predict(X_train)\n",
    "\n",
    "        # Evaluate the model on the validation set\n",
    "        accuracy = accuracy_score(y_train, y_train_pred)\n",
    "        train_accuracy_scores.append(round(accuracy,3))\n",
    "        \n",
    "        #F1 Score \n",
    "        f1 = f1_score(y_train, y_train_pred)\n",
    "        train_f1_scores.append(round(f1,3))\n",
    "\n",
    "        # Make predictions on the validation set\n",
    "        y_val_pred = model.predict(X_val)\n",
    "\n",
    "        # Evaluate the model on the validation set\n",
    "        accuracy = accuracy_score(y_val, y_val_pred)\n",
    "        val_accuracy_scores.append(round(accuracy,3))\n",
    "        \n",
    "        #F1 Score \n",
    "        f1 = f1_score(y_val, y_val_pred)\n",
    "        val_f1_scores.append(round(f1,3))\n",
    "\n",
    "\n",
    "    #Training\n",
    "    # Print accuracy results\n",
    "    print(\"--- Training ---\")\n",
    "    print(\"Accuracy:\")\n",
    "    print(f'Cross-Validation Accuracy: {train_accuracy_scores}')\n",
    "    print(f'Mean Accuracy: {round(sum(train_accuracy_scores) / len(train_accuracy_scores),3)}\\n')\n",
    "\n",
    "    # Print F1 results\n",
    "    print(\"F1 Score:\")\n",
    "    print(f'Cross-Validation F1: {train_f1_scores}')\n",
    "    print(f'Mean F1: {round(sum(train_f1_scores) / len(train_f1_scores),3)}\\n')\n",
    "\n",
    "    #Validation\n",
    "    # Print accuracy results\n",
    "    print(\"--- Validation ---\")\n",
    "    print(\"Accuracy:\")\n",
    "    print(f'Cross-Validation Accuracy: {val_accuracy_scores}')\n",
    "    print(f'Mean Accuracy: {round(sum(val_accuracy_scores) / len(val_accuracy_scores),3)}\\n')\n",
    "\n",
    "    # Print F1 results\n",
    "    print(\"F1 Score:\")\n",
    "    print(f'Cross-Validation F1: {val_f1_scores}')\n",
    "    print(f'Mean F1: {round(sum(val_f1_scores) / len(val_f1_scores),3)}\\n')\n",
    "\n",
    "    # Fit Model to total Training Data\n",
    "    model.fit(X_train_total, y_train_total)\n",
    "\n",
    "    # Make predictions on the Test set\n",
    "    y_test_pred = model.predict(X_test)\n",
    "\n",
    "    # Evaluate the model on the Test set\n",
    "    accuracy = accuracy_score(y_test, y_test_pred)\n",
    "    f1 = f1_score(y_test, y_test_pred)\n",
    "\n",
    "    #Print Test Scores\n",
    "    print(\"--- Test ---\")\n",
    "    print(f'Accuracy: {round(accuracy,3)}')\n",
    "    print(f'F1: {round(f1,3)}')\n",
    "\n",
    "    metrics = {\n",
    "    \"Model\": str(model).split(\"(\")[0], \n",
    "    \"Accuracy Training\": round(sum(train_accuracy_scores) / len(train_accuracy_scores), 3),\n",
    "    \"Accuracy Validation\": round(sum(val_accuracy_scores) / len(val_accuracy_scores), 3),\n",
    "    \"Accuracy Test\": round(accuracy, 3),\n",
    "    \"F1 Training\": round(sum(train_f1_scores) / len(train_f1_scores), 3),\n",
    "    \"F1 Validation\": round(sum(val_f1_scores) / len(val_f1_scores), 3),\n",
    "    \"F1 Test\": round(f1, 3)\n",
    "}\n",
    "\n",
    "\n",
    "    models_metrics.append(metrics)"
   ]
  },
  {
   "cell_type": "code",
   "execution_count": 13,
   "metadata": {},
   "outputs": [
    {
     "name": "stdout",
     "output_type": "stream",
     "text": [
      "--- Training ---\n",
      "Accuracy:\n",
      "Cross-Validation Accuracy: [0.82, 0.824, 0.821, 0.817, 0.821]\n",
      "Mean Accuracy: 0.821\n",
      "\n",
      "F1 Score:\n",
      "Cross-Validation F1: [0.653, 0.653, 0.653, 0.646, 0.656]\n",
      "Mean F1: 0.652\n",
      "\n",
      "--- Validation ---\n",
      "Accuracy:\n",
      "Cross-Validation Accuracy: [0.824, 0.806, 0.819, 0.831, 0.813]\n",
      "Mean Accuracy: 0.819\n",
      "\n",
      "F1 Score:\n",
      "Cross-Validation F1: [0.653, 0.62, 0.655, 0.672, 0.642]\n",
      "Mean F1: 0.648\n",
      "\n",
      "--- Test ---\n",
      "Accuracy: 0.828\n",
      "F1: 0.666\n"
     ]
    }
   ],
   "source": [
    "train_eval(LogisticRegression())"
   ]
  },
  {
   "cell_type": "markdown",
   "metadata": {},
   "source": [
    "### 2.2 Decision Tree - Train and Validation Results\n"
   ]
  },
  {
   "cell_type": "code",
   "execution_count": 14,
   "metadata": {},
   "outputs": [
    {
     "name": "stdout",
     "output_type": "stream",
     "text": [
      "--- Training ---\n",
      "Accuracy:\n",
      "Cross-Validation Accuracy: [0.781, 0.791, 0.793, 0.781, 0.782]\n",
      "Mean Accuracy: 0.786\n",
      "\n",
      "F1 Score:\n",
      "Cross-Validation F1: [0.365, 0.62, 0.62, 0.355, 0.36]\n",
      "Mean F1: 0.464\n",
      "\n",
      "--- Validation ---\n",
      "Accuracy:\n",
      "Cross-Validation Accuracy: [0.783, 0.778, 0.772, 0.787, 0.782]\n",
      "Mean Accuracy: 0.78\n",
      "\n",
      "F1 Score:\n",
      "Cross-Validation F1: [0.351, 0.598, 0.599, 0.391, 0.37]\n",
      "Mean F1: 0.462\n",
      "\n",
      "--- Test ---\n",
      "Accuracy: 0.787\n",
      "F1: 0.38\n"
     ]
    }
   ],
   "source": [
    "train_eval(DecisionTreeClassifier(max_depth=3))"
   ]
  },
  {
   "cell_type": "markdown",
   "metadata": {},
   "source": [
    "### 2.3. Random Forest - Train and Validation Results\n"
   ]
  },
  {
   "cell_type": "code",
   "execution_count": 15,
   "metadata": {},
   "outputs": [
    {
     "name": "stdout",
     "output_type": "stream",
     "text": [
      "--- Training ---\n",
      "Accuracy:\n",
      "Cross-Validation Accuracy: [0.791, 0.812, 0.794, 0.807, 0.789]\n",
      "Mean Accuracy: 0.799\n",
      "\n",
      "F1 Score:\n",
      "Cross-Validation F1: [0.435, 0.543, 0.437, 0.516, 0.399]\n",
      "Mean F1: 0.466\n",
      "\n",
      "--- Validation ---\n",
      "Accuracy:\n",
      "Cross-Validation Accuracy: [0.8, 0.79, 0.796, 0.81, 0.78]\n",
      "Mean Accuracy: 0.795\n",
      "\n",
      "F1 Score:\n",
      "Cross-Validation F1: [0.466, 0.484, 0.436, 0.537, 0.361]\n",
      "Mean F1: 0.457\n",
      "\n",
      "--- Test ---\n",
      "Accuracy: 0.789\n",
      "F1: 0.375\n"
     ]
    }
   ],
   "source": [
    "train_eval(RandomForestClassifier(max_depth=3))"
   ]
  },
  {
   "cell_type": "code",
   "execution_count": 16,
   "metadata": {},
   "outputs": [
    {
     "name": "stdout",
     "output_type": "stream",
     "text": [
      "[{'Accuracy Test': 0.828,\n",
      "  'Accuracy Training': 0.821,\n",
      "  'Accuracy Validation': 0.819,\n",
      "  'F1 Test': 0.666,\n",
      "  'F1 Training': 0.652,\n",
      "  'F1 Validation': 0.648,\n",
      "  'Model': 'LogisticRegression'},\n",
      " {'Accuracy Test': 0.787,\n",
      "  'Accuracy Training': 0.786,\n",
      "  'Accuracy Validation': 0.78,\n",
      "  'F1 Test': 0.38,\n",
      "  'F1 Training': 0.464,\n",
      "  'F1 Validation': 0.462,\n",
      "  'Model': 'DecisionTreeClassifier'},\n",
      " {'Accuracy Test': 0.789,\n",
      "  'Accuracy Training': 0.799,\n",
      "  'Accuracy Validation': 0.795,\n",
      "  'F1 Test': 0.375,\n",
      "  'F1 Training': 0.466,\n",
      "  'F1 Validation': 0.457,\n",
      "  'Model': 'RandomForestClassifier'}]\n"
     ]
    }
   ],
   "source": [
    "pprint(models_metrics)"
   ]
  },
  {
   "cell_type": "markdown",
   "metadata": {},
   "source": [
    "### 2.4 SVC - Train and Validation Results"
   ]
  },
  {
   "cell_type": "code",
   "execution_count": 17,
   "metadata": {},
   "outputs": [
    {
     "name": "stdout",
     "output_type": "stream",
     "text": [
      "--- Training ---\n",
      "Accuracy:\n",
      "Cross-Validation Accuracy: [0.826, 0.834, 0.827, 0.826, 0.827]\n",
      "Mean Accuracy: 0.828\n",
      "\n",
      "F1 Score:\n",
      "Cross-Validation F1: [0.645, 0.658, 0.642, 0.638, 0.643]\n",
      "Mean F1: 0.645\n",
      "\n",
      "--- Validation ---\n",
      "Accuracy:\n",
      "Cross-Validation Accuracy: [0.827, 0.807, 0.817, 0.834, 0.823]\n",
      "Mean Accuracy: 0.822\n",
      "\n",
      "F1 Score:\n",
      "Cross-Validation F1: [0.634, 0.608, 0.62, 0.657, 0.647]\n",
      "Mean F1: 0.633\n",
      "\n",
      "--- Test ---\n",
      "Accuracy: 0.828\n",
      "F1: 0.646\n"
     ]
    }
   ],
   "source": [
    "train_eval(SVC())"
   ]
  },
  {
   "cell_type": "markdown",
   "metadata": {},
   "source": [
    "### 2.5 Gaussian - Train and Validation Results"
   ]
  },
  {
   "cell_type": "code",
   "execution_count": 18,
   "metadata": {},
   "outputs": [
    {
     "name": "stdout",
     "output_type": "stream",
     "text": [
      "--- Training ---\n",
      "Accuracy:\n",
      "Cross-Validation Accuracy: [0.764, 0.767, 0.761, 0.763, 0.767]\n",
      "Mean Accuracy: 0.764\n",
      "\n",
      "F1 Score:\n",
      "Cross-Validation F1: [0.637, 0.637, 0.632, 0.634, 0.639]\n",
      "Mean F1: 0.636\n",
      "\n",
      "--- Validation ---\n",
      "Accuracy:\n",
      "Cross-Validation Accuracy: [0.745, 0.773, 0.772, 0.766, 0.759]\n",
      "Mean Accuracy: 0.763\n",
      "\n",
      "F1 Score:\n",
      "Cross-Validation F1: [0.621, 0.644, 0.646, 0.637, 0.623]\n",
      "Mean F1: 0.634\n",
      "\n",
      "--- Test ---\n",
      "Accuracy: 0.764\n",
      "F1: 0.636\n"
     ]
    }
   ],
   "source": [
    "train_eval(GaussianNB())"
   ]
  },
  {
   "cell_type": "markdown",
   "metadata": {},
   "source": [
    "### 2.6 KNN - Train and Validation Results"
   ]
  },
  {
   "cell_type": "code",
   "execution_count": 19,
   "metadata": {},
   "outputs": [
    {
     "name": "stdout",
     "output_type": "stream",
     "text": [
      "--- Training ---\n",
      "Accuracy:\n",
      "Cross-Validation Accuracy: [0.816, 0.822, 0.816, 0.821, 0.816]\n",
      "Mean Accuracy: 0.818\n",
      "\n",
      "F1 Score:\n",
      "Cross-Validation F1: [0.61, 0.598, 0.604, 0.61, 0.604]\n",
      "Mean F1: 0.605\n",
      "\n",
      "--- Validation ---\n",
      "Accuracy:\n",
      "Cross-Validation Accuracy: [0.8, 0.791, 0.799, 0.798, 0.783]\n",
      "Mean Accuracy: 0.794\n",
      "\n",
      "F1 Score:\n",
      "Cross-Validation F1: [0.573, 0.53, 0.566, 0.555, 0.527]\n",
      "Mean F1: 0.55\n",
      "\n",
      "--- Test ---\n",
      "Accuracy: 0.804\n",
      "F1: 0.584\n"
     ]
    }
   ],
   "source": [
    "train_eval(KNeighborsClassifier())"
   ]
  },
  {
   "cell_type": "markdown",
   "metadata": {},
   "source": [
    "### 2.7 Gradient Boosting - Train and Validation Results"
   ]
  },
  {
   "cell_type": "code",
   "execution_count": 20,
   "metadata": {},
   "outputs": [
    {
     "name": "stdout",
     "output_type": "stream",
     "text": [
      "--- Training ---\n",
      "Accuracy:\n",
      "Cross-Validation Accuracy: [0.827, 0.833, 0.828, 0.827, 0.828]\n",
      "Mean Accuracy: 0.829\n",
      "\n",
      "F1 Score:\n",
      "Cross-Validation F1: [0.653, 0.659, 0.656, 0.653, 0.652]\n",
      "Mean F1: 0.655\n",
      "\n",
      "--- Validation ---\n",
      "Accuracy:\n",
      "Cross-Validation Accuracy: [0.823, 0.813, 0.826, 0.826, 0.821]\n",
      "Mean Accuracy: 0.822\n",
      "\n",
      "F1 Score:\n",
      "Cross-Validation F1: [0.635, 0.62, 0.651, 0.65, 0.644]\n",
      "Mean F1: 0.64\n",
      "\n",
      "--- Test ---\n",
      "Accuracy: 0.828\n",
      "F1: 0.654\n"
     ]
    }
   ],
   "source": [
    "train_eval(GradientBoostingClassifier())"
   ]
  },
  {
   "cell_type": "markdown",
   "metadata": {},
   "source": [
    "### 2.8 MLP - Train and Validation Results"
   ]
  },
  {
   "cell_type": "code",
   "execution_count": 21,
   "metadata": {},
   "outputs": [
    {
     "name": "stdout",
     "output_type": "stream",
     "text": [
      "--- Training ---\n",
      "Accuracy:\n",
      "Cross-Validation Accuracy: [0.833, 0.838, 0.835, 0.834, 0.831]\n",
      "Mean Accuracy: 0.834\n",
      "\n",
      "F1 Score:\n",
      "Cross-Validation F1: [0.675, 0.685, 0.675, 0.652, 0.649]\n",
      "Mean F1: 0.667\n",
      "\n",
      "--- Validation ---\n",
      "Accuracy:\n",
      "Cross-Validation Accuracy: [0.831, 0.809, 0.823, 0.82, 0.826]\n",
      "Mean Accuracy: 0.822\n",
      "\n",
      "F1 Score:\n",
      "Cross-Validation F1: [0.658, 0.632, 0.652, 0.618, 0.645]\n",
      "Mean F1: 0.641\n",
      "\n",
      "--- Test ---\n",
      "Accuracy: 0.829\n",
      "F1: 0.669\n"
     ]
    }
   ],
   "source": [
    "train_eval(MLPClassifier())"
   ]
  },
  {
   "cell_type": "code",
   "execution_count": 22,
   "metadata": {},
   "outputs": [],
   "source": [
    "# Coonvert List of Models Metrics to DF\n",
    "models_metrics_df = pd.DataFrame(models_metrics)"
   ]
  },
  {
   "cell_type": "code",
   "execution_count": 23,
   "metadata": {},
   "outputs": [
    {
     "data": {
      "text/html": [
       "<div>\n",
       "<style scoped>\n",
       "    .dataframe tbody tr th:only-of-type {\n",
       "        vertical-align: middle;\n",
       "    }\n",
       "\n",
       "    .dataframe tbody tr th {\n",
       "        vertical-align: top;\n",
       "    }\n",
       "\n",
       "    .dataframe thead th {\n",
       "        text-align: right;\n",
       "    }\n",
       "</style>\n",
       "<table border=\"1\" class=\"dataframe\">\n",
       "  <thead>\n",
       "    <tr style=\"text-align: right;\">\n",
       "      <th></th>\n",
       "      <th>Model</th>\n",
       "      <th>Accuracy Training</th>\n",
       "      <th>Accuracy Validation</th>\n",
       "      <th>Accuracy Test</th>\n",
       "      <th>F1 Training</th>\n",
       "      <th>F1 Validation</th>\n",
       "      <th>F1 Test</th>\n",
       "    </tr>\n",
       "  </thead>\n",
       "  <tbody>\n",
       "    <tr>\n",
       "      <th>7</th>\n",
       "      <td>MLPClassifier</td>\n",
       "      <td>0.834</td>\n",
       "      <td>0.822</td>\n",
       "      <td>0.829</td>\n",
       "      <td>0.667</td>\n",
       "      <td>0.641</td>\n",
       "      <td>0.669</td>\n",
       "    </tr>\n",
       "    <tr>\n",
       "      <th>0</th>\n",
       "      <td>LogisticRegression</td>\n",
       "      <td>0.821</td>\n",
       "      <td>0.819</td>\n",
       "      <td>0.828</td>\n",
       "      <td>0.652</td>\n",
       "      <td>0.648</td>\n",
       "      <td>0.666</td>\n",
       "    </tr>\n",
       "    <tr>\n",
       "      <th>6</th>\n",
       "      <td>GradientBoostingClassifier</td>\n",
       "      <td>0.829</td>\n",
       "      <td>0.822</td>\n",
       "      <td>0.828</td>\n",
       "      <td>0.655</td>\n",
       "      <td>0.640</td>\n",
       "      <td>0.654</td>\n",
       "    </tr>\n",
       "    <tr>\n",
       "      <th>3</th>\n",
       "      <td>SVC</td>\n",
       "      <td>0.828</td>\n",
       "      <td>0.822</td>\n",
       "      <td>0.828</td>\n",
       "      <td>0.645</td>\n",
       "      <td>0.633</td>\n",
       "      <td>0.646</td>\n",
       "    </tr>\n",
       "    <tr>\n",
       "      <th>4</th>\n",
       "      <td>GaussianNB</td>\n",
       "      <td>0.764</td>\n",
       "      <td>0.763</td>\n",
       "      <td>0.764</td>\n",
       "      <td>0.636</td>\n",
       "      <td>0.634</td>\n",
       "      <td>0.636</td>\n",
       "    </tr>\n",
       "    <tr>\n",
       "      <th>5</th>\n",
       "      <td>KNeighborsClassifier</td>\n",
       "      <td>0.818</td>\n",
       "      <td>0.794</td>\n",
       "      <td>0.804</td>\n",
       "      <td>0.605</td>\n",
       "      <td>0.550</td>\n",
       "      <td>0.584</td>\n",
       "    </tr>\n",
       "    <tr>\n",
       "      <th>1</th>\n",
       "      <td>DecisionTreeClassifier</td>\n",
       "      <td>0.786</td>\n",
       "      <td>0.780</td>\n",
       "      <td>0.787</td>\n",
       "      <td>0.464</td>\n",
       "      <td>0.462</td>\n",
       "      <td>0.380</td>\n",
       "    </tr>\n",
       "    <tr>\n",
       "      <th>2</th>\n",
       "      <td>RandomForestClassifier</td>\n",
       "      <td>0.799</td>\n",
       "      <td>0.795</td>\n",
       "      <td>0.789</td>\n",
       "      <td>0.466</td>\n",
       "      <td>0.457</td>\n",
       "      <td>0.375</td>\n",
       "    </tr>\n",
       "  </tbody>\n",
       "</table>\n",
       "</div>"
      ],
      "text/plain": [
       "                        Model  Accuracy Training  Accuracy Validation  \\\n",
       "7               MLPClassifier              0.834                0.822   \n",
       "0          LogisticRegression              0.821                0.819   \n",
       "6  GradientBoostingClassifier              0.829                0.822   \n",
       "3                         SVC              0.828                0.822   \n",
       "4                  GaussianNB              0.764                0.763   \n",
       "5        KNeighborsClassifier              0.818                0.794   \n",
       "1      DecisionTreeClassifier              0.786                0.780   \n",
       "2      RandomForestClassifier              0.799                0.795   \n",
       "\n",
       "   Accuracy Test  F1 Training  F1 Validation  F1 Test  \n",
       "7          0.829        0.667          0.641    0.669  \n",
       "0          0.828        0.652          0.648    0.666  \n",
       "6          0.828        0.655          0.640    0.654  \n",
       "3          0.828        0.645          0.633    0.646  \n",
       "4          0.764        0.636          0.634    0.636  \n",
       "5          0.804        0.605          0.550    0.584  \n",
       "1          0.787        0.464          0.462    0.380  \n",
       "2          0.789        0.466          0.457    0.375  "
      ]
     },
     "execution_count": 23,
     "metadata": {},
     "output_type": "execute_result"
    }
   ],
   "source": [
    "models_metrics_df.sort_values(by=['F1 Test'], ascending=False)"
   ]
  },
  {
   "cell_type": "markdown",
   "metadata": {},
   "source": [
    "> Decision Trees:\n",
    "Intuitive and easy to understand.\n",
    "Can capture complex relationships in the data.\n",
    "\n",
    "> Random Forest:\n",
    "Ensemble method built on decision trees.\n",
    "Generally more robust and accurate than individual trees.\n",
    "\n",
    "> Support Vector Machines (SVM):\n",
    "Effective in high-dimensional spaces.\n",
    "Works well when there is a clear margin of separation between classes.\n",
    "\n",
    "> Naive Bayes:\n",
    "Assumes independence between features.\n",
    "Fast and can perform well on certain types of data.\n",
    "\n",
    "> K-Nearest Neighbors (KNN):\n",
    "Instance-based learning.\n",
    "Simple and easy to understand.\n",
    "\n",
    "> Gradient Boosting (e.g., XGBoost, LightGBM, AdaBoost):\n",
    "Builds a strong predictive model by combining weak models.\n",
    "Often produces very accurate results."
   ]
  },
  {
   "cell_type": "markdown",
   "metadata": {},
   "source": [
    "## 3. Model Optimization\n"
   ]
  },
  {
   "cell_type": "markdown",
   "metadata": {},
   "source": [
    "### 3.1.1 RandomSearch - Gradient Boosting"
   ]
  },
  {
   "cell_type": "code",
   "execution_count": 24,
   "metadata": {},
   "outputs": [
    {
     "data": {
      "text/html": [
       "<div>\n",
       "<style scoped>\n",
       "    .dataframe tbody tr th:only-of-type {\n",
       "        vertical-align: middle;\n",
       "    }\n",
       "\n",
       "    .dataframe tbody tr th {\n",
       "        vertical-align: top;\n",
       "    }\n",
       "\n",
       "    .dataframe thead th {\n",
       "        text-align: right;\n",
       "    }\n",
       "</style>\n",
       "<table border=\"1\" class=\"dataframe\">\n",
       "  <thead>\n",
       "    <tr style=\"text-align: right;\">\n",
       "      <th></th>\n",
       "      <th>Parameter</th>\n",
       "      <th>Best Result</th>\n",
       "    </tr>\n",
       "  </thead>\n",
       "  <tbody>\n",
       "    <tr>\n",
       "      <th>0</th>\n",
       "      <td>subsample</td>\n",
       "      <td>0.5</td>\n",
       "    </tr>\n",
       "    <tr>\n",
       "      <th>0</th>\n",
       "      <td>n_estimators</td>\n",
       "      <td>100.0</td>\n",
       "    </tr>\n",
       "    <tr>\n",
       "      <th>0</th>\n",
       "      <td>min_samples_split</td>\n",
       "      <td>2.0</td>\n",
       "    </tr>\n",
       "    <tr>\n",
       "      <th>0</th>\n",
       "      <td>min_samples_leaf</td>\n",
       "      <td>4.0</td>\n",
       "    </tr>\n",
       "    <tr>\n",
       "      <th>0</th>\n",
       "      <td>max_features</td>\n",
       "      <td>sqrt</td>\n",
       "    </tr>\n",
       "    <tr>\n",
       "      <th>0</th>\n",
       "      <td>max_depth</td>\n",
       "      <td>3</td>\n",
       "    </tr>\n",
       "    <tr>\n",
       "      <th>0</th>\n",
       "      <td>learning_rate</td>\n",
       "      <td>0.3</td>\n",
       "    </tr>\n",
       "    <tr>\n",
       "      <th>0</th>\n",
       "      <td>Best Score</td>\n",
       "      <td>0.635424</td>\n",
       "    </tr>\n",
       "  </tbody>\n",
       "</table>\n",
       "</div>"
      ],
      "text/plain": [
       "           Parameter Best Result\n",
       "0          subsample         0.5\n",
       "0       n_estimators       100.0\n",
       "0  min_samples_split         2.0\n",
       "0   min_samples_leaf         4.0\n",
       "0       max_features        sqrt\n",
       "0          max_depth           3\n",
       "0      learning_rate         0.3\n",
       "0         Best Score    0.635424"
      ]
     },
     "execution_count": 24,
     "metadata": {},
     "output_type": "execute_result"
    }
   ],
   "source": [
    "from sklearn.model_selection import RandomizedSearchCV\n",
    "from sklearn.ensemble import GradientBoostingClassifier\n",
    "import numpy as np\n",
    "\n",
    "# Create the Gradient Boosting model (without specifying hyperparameters)\n",
    "gb_model = GradientBoostingClassifier()\n",
    "\n",
    "# Define the parameter space for random search\n",
    "parameter_space_random = {\n",
    "    'n_estimators': [50, 100, 200, 300],\n",
    "    'learning_rate': [0.001, 0.01, 0.1, 0.2, 0.3],\n",
    "    'max_depth': [3, 5, 7, 9],\n",
    "    'subsample': np.arange(0.1, 1.1, 0.1),\n",
    "    'min_samples_split': [2, 5, 10],\n",
    "    'min_samples_leaf': [1, 2, 4],\n",
    "    'max_features': ['auto', 'sqrt', 'log2', None],\n",
    "}\n",
    "\n",
    "# Create the RandomizedSearchCV object\n",
    "random_search = RandomizedSearchCV(estimator=gb_model, param_distributions=parameter_space_random,\n",
    "                                    scoring='f1', cv=5, random_state=42)\n",
    "\n",
    "# Fit the RandomizedSearchCV object to the data\n",
    "random_search.fit(X_train_total, y_train_total)\n",
    "\n",
    "# Print the best parameters\n",
    "#print(\"Best Parameters: \", random_search.best_params_)\n",
    "\n",
    "# Extract the best parameters and their scores from RandomizedSearchCV\n",
    "best_params_random = random_search.best_params_\n",
    "best_score_random = random_search.best_score_\n",
    "\n",
    "# Create a DataFrame to store the results\n",
    "results_rs_gb = pd.DataFrame(columns=['Parameter', 'Best Result'])\n",
    "\n",
    "# Add the best parameters and scores to the DataFrame\n",
    "for param, value in best_params_random.items():\n",
    "    results_rs_gb = pd.concat([results_rs_gb, pd.DataFrame({'Parameter': [param], 'Best Result': [value]})])\n",
    "\n",
    "# Add the best score to the DataFrame\n",
    "results_rs_gb = pd.concat([results_rs_gb, pd.DataFrame({'Parameter': ['Best Score'], 'Best Result': [best_score_random]})])\n",
    "\n",
    "# Display the results DataFrame\n",
    "results_rs_gb\n",
    "\n",
    "\n"
   ]
  },
  {
   "cell_type": "markdown",
   "metadata": {},
   "source": [
    "### 3.1.2 GridSearch - Gradient Boosting"
   ]
  },
  {
   "cell_type": "code",
   "execution_count": 25,
   "metadata": {},
   "outputs": [
    {
     "name": "stdout",
     "output_type": "stream",
     "text": [
      "Best Parameters:  {'learning_rate': 0.2, 'max_depth': 3, 'max_features': 'sqrt', 'min_samples_split': 4, 'n_estimators': 80, 'subsample': 0.7}\n"
     ]
    },
    {
     "data": {
      "text/html": [
       "<div>\n",
       "<style scoped>\n",
       "    .dataframe tbody tr th:only-of-type {\n",
       "        vertical-align: middle;\n",
       "    }\n",
       "\n",
       "    .dataframe tbody tr th {\n",
       "        vertical-align: top;\n",
       "    }\n",
       "\n",
       "    .dataframe thead th {\n",
       "        text-align: right;\n",
       "    }\n",
       "</style>\n",
       "<table border=\"1\" class=\"dataframe\">\n",
       "  <thead>\n",
       "    <tr style=\"text-align: right;\">\n",
       "      <th></th>\n",
       "      <th>Parameter</th>\n",
       "      <th>Best Result</th>\n",
       "    </tr>\n",
       "  </thead>\n",
       "  <tbody>\n",
       "    <tr>\n",
       "      <th>0</th>\n",
       "      <td>learning_rate</td>\n",
       "      <td>0.2</td>\n",
       "    </tr>\n",
       "    <tr>\n",
       "      <th>0</th>\n",
       "      <td>max_depth</td>\n",
       "      <td>3.0</td>\n",
       "    </tr>\n",
       "    <tr>\n",
       "      <th>0</th>\n",
       "      <td>max_features</td>\n",
       "      <td>sqrt</td>\n",
       "    </tr>\n",
       "    <tr>\n",
       "      <th>0</th>\n",
       "      <td>min_samples_split</td>\n",
       "      <td>4</td>\n",
       "    </tr>\n",
       "    <tr>\n",
       "      <th>0</th>\n",
       "      <td>n_estimators</td>\n",
       "      <td>80</td>\n",
       "    </tr>\n",
       "    <tr>\n",
       "      <th>0</th>\n",
       "      <td>subsample</td>\n",
       "      <td>0.7</td>\n",
       "    </tr>\n",
       "    <tr>\n",
       "      <th>0</th>\n",
       "      <td>Best Score</td>\n",
       "      <td>0.650232</td>\n",
       "    </tr>\n",
       "  </tbody>\n",
       "</table>\n",
       "</div>"
      ],
      "text/plain": [
       "           Parameter Best Result\n",
       "0      learning_rate         0.2\n",
       "0          max_depth         3.0\n",
       "0       max_features        sqrt\n",
       "0  min_samples_split           4\n",
       "0       n_estimators          80\n",
       "0          subsample         0.7\n",
       "0         Best Score    0.650232"
      ]
     },
     "execution_count": 25,
     "metadata": {},
     "output_type": "execute_result"
    }
   ],
   "source": [
    "# Create the Gradient Boosting model (without specifying hyperparameters)\n",
    "gb_model = GradientBoostingClassifier()\n",
    "\n",
    "# Define the parameter grid for grid search\n",
    "parameter_grid = {\n",
    "    'n_estimators': [80,100,120],\n",
    "    'learning_rate': [0.2,0.3,0.4],\n",
    "    'max_depth': [3,3.1,2.9],\n",
    "    'subsample': [0.5,0.6,0.4,0.3,0.7],\n",
    "    'max_features': ['auto', 'sqrt', 'log2', None],\n",
    "    'min_samples_split': [1,2,3,4,5],\n",
    "}\n",
    "\n",
    "# Create the GridSearchCV object\n",
    "grid_search = GridSearchCV(estimator=gb_model, param_grid=parameter_grid,\n",
    "                           scoring='f1', cv=5)\n",
    "\n",
    "# Fit the GridSearchCV object to the data\n",
    "grid_search.fit(X_train_total, y_train_total)\n",
    "\n",
    "# Print the best parameters\n",
    "print(\"Best Parameters: \", grid_search.best_params_)\n",
    "\n",
    "# Create a DataFrame to store the results\n",
    "results_gs_gb = pd.DataFrame(columns=['Parameter', 'Best Result'])\n",
    "\n",
    "# Add the best parameters and scores to the DataFrame\n",
    "for param, value in grid_search.best_params_.items():\n",
    "    results_gs_gb = pd.concat([results_gs_gb, pd.DataFrame({'Parameter': [param], 'Best Result': [value]})])\n",
    "\n",
    "# Add the best score to the DataFrame\n",
    "results_gs_gb= pd.concat([results_gs_gb, pd.DataFrame({'Parameter': ['Best Score'], 'Best Result': [grid_search.best_score_]})])\n",
    "\n",
    "# Display the results DataFrame\n",
    "results_gs_gb\n"
   ]
  },
  {
   "cell_type": "markdown",
   "metadata": {},
   "source": [
    "### 3.1.3 Final Model - GB"
   ]
  },
  {
   "cell_type": "code",
   "execution_count": 26,
   "metadata": {},
   "outputs": [],
   "source": [
    "final_model_gb = GradientBoostingClassifier(\n",
    "    n_estimators=80,\n",
    "    learning_rate=0.2,\n",
    "    max_depth=3,\n",
    "    subsample=0.6,\n",
    "    max_features='sqrt',\n",
    "    min_samples_split=2,\n",
    ")\n"
   ]
  },
  {
   "cell_type": "code",
   "execution_count": 27,
   "metadata": {},
   "outputs": [
    {
     "name": "stdout",
     "output_type": "stream",
     "text": [
      "--- Training ---\n",
      "Accuracy:\n",
      "Cross-Validation Accuracy: [0.824, 0.83, 0.828, 0.824, 0.827]\n",
      "Mean Accuracy: 0.827\n",
      "\n",
      "F1 Score:\n",
      "Cross-Validation F1: [0.647, 0.66, 0.653, 0.655, 0.648]\n",
      "Mean F1: 0.653\n",
      "\n",
      "--- Validation ---\n",
      "Accuracy:\n",
      "Cross-Validation Accuracy: [0.831, 0.808, 0.821, 0.819, 0.82]\n",
      "Mean Accuracy: 0.82\n",
      "\n",
      "F1 Score:\n",
      "Cross-Validation F1: [0.644, 0.616, 0.639, 0.642, 0.642]\n",
      "Mean F1: 0.637\n",
      "\n",
      "--- Test ---\n",
      "Accuracy: 0.83\n",
      "F1: 0.659\n"
     ]
    }
   ],
   "source": [
    "train_eval(final_model_gb)"
   ]
  },
  {
   "cell_type": "markdown",
   "metadata": {},
   "source": [
    "### 3.2.1 RandomSearch - Logistic Regression"
   ]
  },
  {
   "cell_type": "code",
   "execution_count": 40,
   "metadata": {},
   "outputs": [
    {
     "data": {
      "text/html": [
       "<div>\n",
       "<style scoped>\n",
       "    .dataframe tbody tr th:only-of-type {\n",
       "        vertical-align: middle;\n",
       "    }\n",
       "\n",
       "    .dataframe tbody tr th {\n",
       "        vertical-align: top;\n",
       "    }\n",
       "\n",
       "    .dataframe thead th {\n",
       "        text-align: right;\n",
       "    }\n",
       "</style>\n",
       "<table border=\"1\" class=\"dataframe\">\n",
       "  <thead>\n",
       "    <tr style=\"text-align: right;\">\n",
       "      <th></th>\n",
       "      <th>Parameter</th>\n",
       "      <th>Best Result</th>\n",
       "    </tr>\n",
       "  </thead>\n",
       "  <tbody>\n",
       "    <tr>\n",
       "      <th>0</th>\n",
       "      <td>solver</td>\n",
       "      <td>liblinear</td>\n",
       "    </tr>\n",
       "    <tr>\n",
       "      <th>0</th>\n",
       "      <td>penalty</td>\n",
       "      <td>l1</td>\n",
       "    </tr>\n",
       "    <tr>\n",
       "      <th>0</th>\n",
       "      <td>class_weight</td>\n",
       "      <td>balanced</td>\n",
       "    </tr>\n",
       "    <tr>\n",
       "      <th>0</th>\n",
       "      <td>C</td>\n",
       "      <td>100</td>\n",
       "    </tr>\n",
       "    <tr>\n",
       "      <th>0</th>\n",
       "      <td>Best Score</td>\n",
       "      <td>0.656904</td>\n",
       "    </tr>\n",
       "  </tbody>\n",
       "</table>\n",
       "</div>"
      ],
      "text/plain": [
       "      Parameter Best Result\n",
       "0        solver   liblinear\n",
       "0       penalty          l1\n",
       "0  class_weight    balanced\n",
       "0             C         100\n",
       "0    Best Score    0.656904"
      ]
     },
     "execution_count": 40,
     "metadata": {},
     "output_type": "execute_result"
    }
   ],
   "source": [
    "\n",
    "# Create the Logistic Regression model (without specifying hyperparameters)\n",
    "model_logistic = LogisticRegression()\n",
    "\n",
    "# Define the parameter space for random search\n",
    "parameter_space_random = {\n",
    "    'C': [0.1, 1, 10, 100],\n",
    "    'penalty': ['l1', 'l2', 'elasticnet', 'none'],\n",
    "    'solver': ['newton-cg', 'lbfgs', 'liblinear', 'sag', 'saga'],\n",
    "    'class_weight': [None, 'balanced'],\n",
    "}\n",
    "\n",
    "# Create the RandomizedSearchCV object\n",
    "random_search = RandomizedSearchCV(estimator=model_logistic, param_distributions=parameter_space_random,\n",
    "                                    scoring='f1', cv=5, random_state=42)\n",
    "\n",
    "# Fit the RandomizedSearchCV object to the data\n",
    "random_search.fit(X_train_total, y_train_total)  # Make sure X_total and y_total are defined\n",
    "\n",
    "# Extract the best parameters and their scores from RandomizedSearchCV\n",
    "best_params_random = random_search.best_params_\n",
    "best_score_random = random_search.best_score_\n",
    "\n",
    "# Create a DataFrame to store the results\n",
    "results_rs_logistic = pd.DataFrame(columns=['Parameter', 'Best Result'])\n",
    "\n",
    "# Add the best parameters and scores to the DataFrame\n",
    "for param, value in best_params_random.items():\n",
    "    results_rs_logistic = pd.concat([results_rs_logistic, pd.DataFrame({'Parameter': [param], 'Best Result': [value]})])\n",
    "\n",
    "# Add the best score to the DataFrame\n",
    "results_rs_logistic = pd.concat([results_rs_logistic, pd.DataFrame({'Parameter': ['Best Score'], 'Best Result': [best_score_random]})])\n",
    "\n",
    "# Display the results DataFrame\n",
    "results_rs_logistic\n"
   ]
  },
  {
   "cell_type": "markdown",
   "metadata": {},
   "source": [
    "### 3.2.2 GridSearch - Logistic Regression"
   ]
  },
  {
   "cell_type": "code",
   "execution_count": 41,
   "metadata": {},
   "outputs": [
    {
     "name": "stdout",
     "output_type": "stream",
     "text": [
      "Best Parameters:  {'C': 1, 'class_weight': 'balanced', 'penalty': 'none', 'solver': 'newton-cg'}\n"
     ]
    },
    {
     "data": {
      "text/html": [
       "<div>\n",
       "<style scoped>\n",
       "    .dataframe tbody tr th:only-of-type {\n",
       "        vertical-align: middle;\n",
       "    }\n",
       "\n",
       "    .dataframe tbody tr th {\n",
       "        vertical-align: top;\n",
       "    }\n",
       "\n",
       "    .dataframe thead th {\n",
       "        text-align: right;\n",
       "    }\n",
       "</style>\n",
       "<table border=\"1\" class=\"dataframe\">\n",
       "  <thead>\n",
       "    <tr style=\"text-align: right;\">\n",
       "      <th></th>\n",
       "      <th>Parameter</th>\n",
       "      <th>Best Result</th>\n",
       "    </tr>\n",
       "  </thead>\n",
       "  <tbody>\n",
       "    <tr>\n",
       "      <th>0</th>\n",
       "      <td>C</td>\n",
       "      <td>1</td>\n",
       "    </tr>\n",
       "    <tr>\n",
       "      <th>0</th>\n",
       "      <td>class_weight</td>\n",
       "      <td>balanced</td>\n",
       "    </tr>\n",
       "    <tr>\n",
       "      <th>0</th>\n",
       "      <td>penalty</td>\n",
       "      <td>none</td>\n",
       "    </tr>\n",
       "    <tr>\n",
       "      <th>0</th>\n",
       "      <td>solver</td>\n",
       "      <td>newton-cg</td>\n",
       "    </tr>\n",
       "    <tr>\n",
       "      <th>0</th>\n",
       "      <td>Best Score</td>\n",
       "      <td>0.656904</td>\n",
       "    </tr>\n",
       "  </tbody>\n",
       "</table>\n",
       "</div>"
      ],
      "text/plain": [
       "      Parameter Best Result\n",
       "0             C           1\n",
       "0  class_weight    balanced\n",
       "0       penalty        none\n",
       "0        solver   newton-cg\n",
       "0    Best Score    0.656904"
      ]
     },
     "execution_count": 41,
     "metadata": {},
     "output_type": "execute_result"
    }
   ],
   "source": [
    "\n",
    "\n",
    "# Create the Logistic Regression model (without specifying hyperparameters)\n",
    "model_logistic = LogisticRegression()\n",
    "\n",
    "# Define the parameter grid for grid search\n",
    "parameter_space_grid = {\n",
    "    'C': [1, 2, 3, 4],\n",
    "    'penalty': ['l1', 'l2', 'elasticnet', 'none'],\n",
    "    'solver': ['newton-cg', 'lbfgs', 'liblinear', 'sag', 'saga'],\n",
    "    'class_weight': [None, 'balanced'],\n",
    "}\n",
    "\n",
    "# Create the GridSearchCV object\n",
    "grid_search = GridSearchCV(estimator=model_logistic, param_grid=parameter_space_grid,\n",
    "                           scoring='f1', cv=5)\n",
    "\n",
    "# Fit the GridSearchCV object to the data\n",
    "grid_search.fit(X_train_total, y_train_total)  # Make sure X_total and y_total are defined\n",
    "\n",
    "# Print the best parameters\n",
    "print(\"Best Parameters: \", grid_search.best_params_)\n",
    "\n",
    "# Create a DataFrame to store the results\n",
    "results_gs_logistic = pd.DataFrame(columns=['Parameter', 'Best Result'])\n",
    "\n",
    "# Add the best parameters and scores to the DataFrame\n",
    "for param, value in grid_search.best_params_.items():\n",
    "    results_gs_logistic = pd.concat([results_gs_logistic, pd.DataFrame({'Parameter': [param], 'Best Result': [value]})])\n",
    "\n",
    "# Add the best score to the DataFrame\n",
    "results_gs_logistic = pd.concat([results_gs_logistic, pd.DataFrame({'Parameter': ['Best Score'], 'Best Result': [grid_search.best_score_]})])\n",
    "\n",
    "# Display the results DataFrame\n",
    "results_gs_logistic\n"
   ]
  },
  {
   "cell_type": "markdown",
   "metadata": {},
   "source": [
    "### 3.2.3 Final Model -Logistic Regression"
   ]
  },
  {
   "cell_type": "code",
   "execution_count": 48,
   "metadata": {},
   "outputs": [],
   "source": [
    "\n",
    "\n",
    "final_model_lr = LogisticRegression(\n",
    "    C=1,\n",
    "    penalty='l2',  # Choose 'l1', 'l2', 'elasticnet', or 'none' based on your preference\n",
    "    solver='newton-cg',  # Choose 'newton-cg', 'lbfgs', 'liblinear', 'sag', or 'saga' based on your preference\n",
    "    class_weight='balanced',\n",
    "    max_iter=2000,\n",
    ")\n",
    "\n"
   ]
  },
  {
   "cell_type": "code",
   "execution_count": 49,
   "metadata": {},
   "outputs": [
    {
     "name": "stdout",
     "output_type": "stream",
     "text": [
      "--- Training ---\n",
      "Accuracy:\n",
      "Cross-Validation Accuracy: [0.778, 0.774, 0.773, 0.78, 0.773]\n",
      "Mean Accuracy: 0.776\n",
      "\n",
      "F1 Score:\n",
      "Cross-Validation F1: [0.66, 0.657, 0.655, 0.662, 0.656]\n",
      "Mean F1: 0.658\n",
      "\n",
      "--- Validation ---\n",
      "Accuracy:\n",
      "Cross-Validation Accuracy: [0.77, 0.774, 0.77, 0.78, 0.776]\n",
      "Mean Accuracy: 0.774\n",
      "\n",
      "F1 Score:\n",
      "Cross-Validation F1: [0.654, 0.657, 0.657, 0.661, 0.654]\n",
      "Mean F1: 0.657\n",
      "\n",
      "--- Test ---\n",
      "Accuracy: 0.779\n",
      "F1: 0.656\n"
     ]
    }
   ],
   "source": [
    "train_eval(final_model_lr)"
   ]
  },
  {
   "cell_type": "markdown",
   "metadata": {},
   "source": [
    "### 3.3.1 RandomSearch - MLP"
   ]
  },
  {
   "cell_type": "code",
   "execution_count": 32,
   "metadata": {},
   "outputs": [
    {
     "data": {
      "text/html": [
       "<div>\n",
       "<style scoped>\n",
       "    .dataframe tbody tr th:only-of-type {\n",
       "        vertical-align: middle;\n",
       "    }\n",
       "\n",
       "    .dataframe tbody tr th {\n",
       "        vertical-align: top;\n",
       "    }\n",
       "\n",
       "    .dataframe thead th {\n",
       "        text-align: right;\n",
       "    }\n",
       "</style>\n",
       "<table border=\"1\" class=\"dataframe\">\n",
       "  <thead>\n",
       "    <tr style=\"text-align: right;\">\n",
       "      <th></th>\n",
       "      <th>Parameter</th>\n",
       "      <th>Best Result</th>\n",
       "    </tr>\n",
       "  </thead>\n",
       "  <tbody>\n",
       "    <tr>\n",
       "      <th>0</th>\n",
       "      <td>solver</td>\n",
       "      <td>sgd</td>\n",
       "    </tr>\n",
       "    <tr>\n",
       "      <th>0</th>\n",
       "      <td>learning_rate</td>\n",
       "      <td>constant</td>\n",
       "    </tr>\n",
       "    <tr>\n",
       "      <th>0</th>\n",
       "      <td>hidden_layer_sizes</td>\n",
       "      <td>(50, 100, 50)</td>\n",
       "    </tr>\n",
       "    <tr>\n",
       "      <th>0</th>\n",
       "      <td>alpha</td>\n",
       "      <td>0.05</td>\n",
       "    </tr>\n",
       "    <tr>\n",
       "      <th>0</th>\n",
       "      <td>activation</td>\n",
       "      <td>relu</td>\n",
       "    </tr>\n",
       "    <tr>\n",
       "      <th>0</th>\n",
       "      <td>Best Score</td>\n",
       "      <td>0.647707</td>\n",
       "    </tr>\n",
       "  </tbody>\n",
       "</table>\n",
       "</div>"
      ],
      "text/plain": [
       "            Parameter    Best Result\n",
       "0              solver            sgd\n",
       "0       learning_rate       constant\n",
       "0  hidden_layer_sizes  (50, 100, 50)\n",
       "0               alpha           0.05\n",
       "0          activation           relu\n",
       "0          Best Score       0.647707"
      ]
     },
     "execution_count": 32,
     "metadata": {},
     "output_type": "execute_result"
    }
   ],
   "source": [
    "# Create the Multi-Layer Perceptron (MLP) model (without specifying hyperparameters)\n",
    "model_MLP = MLPClassifier()\n",
    "\n",
    "# Define the parameter space for random search\n",
    "parameter_space_random = {\n",
    "    'hidden_layer_sizes': [(50,50,50), (50,100,50), (100,)],\n",
    "    'activation': ['tanh', 'relu'],\n",
    "    'solver': ['sgd', 'adam'],\n",
    "    'alpha': [0.0001, 0.05],\n",
    "    'learning_rate': ['constant', 'adaptive'],\n",
    "}\n",
    "\n",
    "# Create the RandomizedSearchCV object\n",
    "random_search = RandomizedSearchCV(estimator=model_MLP, param_distributions=parameter_space_random,\n",
    "                                    scoring='f1', cv=5, random_state=42)\n",
    "\n",
    "# Fit the RandomizedSearchCV object to the data\n",
    "random_search.fit(X_train_total, y_train_total)  # Make sure X_total and y_total are defined\n",
    "\n",
    "# Extract the best parameters and their scores from RandomizedSearchCV\n",
    "best_params_random = random_search.best_params_\n",
    "best_score_random = random_search.best_score_\n",
    "\n",
    "# Create a DataFrame to store the results\n",
    "results_rs_mlp = pd.DataFrame(columns=['Parameter', 'Best Result'])\n",
    "\n",
    "# Add the best parameters and scores to the DataFrame\n",
    "for param, value in best_params_random.items():\n",
    "    results_rs_mlp = pd.concat([results_rs_mlp, pd.DataFrame({'Parameter': [param], 'Best Result': [value]})])\n",
    "\n",
    "# Add the best score to the DataFrame\n",
    "results_rs_mlp = pd.concat([results_rs_mlp, pd.DataFrame({'Parameter': ['Best Score'], 'Best Result': [best_score_random]})])\n",
    "\n",
    "# Display the results DataFrame\n",
    "results_rs_mlp\n"
   ]
  },
  {
   "cell_type": "markdown",
   "metadata": {},
   "source": [
    "### 3.3.2 GridSearch - MLP"
   ]
  },
  {
   "cell_type": "code",
   "execution_count": 33,
   "metadata": {},
   "outputs": [
    {
     "name": "stdout",
     "output_type": "stream",
     "text": [
      "Best Parameters:  {'activation': 'tanh', 'alpha': 0.3, 'hidden_layer_sizes': (50, 50, 50), 'learning_rate': 'adaptive', 'solver': 'sgd'}\n"
     ]
    },
    {
     "data": {
      "text/html": [
       "<div>\n",
       "<style scoped>\n",
       "    .dataframe tbody tr th:only-of-type {\n",
       "        vertical-align: middle;\n",
       "    }\n",
       "\n",
       "    .dataframe tbody tr th {\n",
       "        vertical-align: top;\n",
       "    }\n",
       "\n",
       "    .dataframe thead th {\n",
       "        text-align: right;\n",
       "    }\n",
       "</style>\n",
       "<table border=\"1\" class=\"dataframe\">\n",
       "  <thead>\n",
       "    <tr style=\"text-align: right;\">\n",
       "      <th></th>\n",
       "      <th>Parameter</th>\n",
       "      <th>Best Result</th>\n",
       "    </tr>\n",
       "  </thead>\n",
       "  <tbody>\n",
       "    <tr>\n",
       "      <th>0</th>\n",
       "      <td>activation</td>\n",
       "      <td>tanh</td>\n",
       "    </tr>\n",
       "    <tr>\n",
       "      <th>0</th>\n",
       "      <td>alpha</td>\n",
       "      <td>0.3</td>\n",
       "    </tr>\n",
       "    <tr>\n",
       "      <th>0</th>\n",
       "      <td>hidden_layer_sizes</td>\n",
       "      <td>(50, 50, 50)</td>\n",
       "    </tr>\n",
       "    <tr>\n",
       "      <th>0</th>\n",
       "      <td>learning_rate</td>\n",
       "      <td>adaptive</td>\n",
       "    </tr>\n",
       "    <tr>\n",
       "      <th>0</th>\n",
       "      <td>solver</td>\n",
       "      <td>sgd</td>\n",
       "    </tr>\n",
       "    <tr>\n",
       "      <th>0</th>\n",
       "      <td>Best Score</td>\n",
       "      <td>0.647018</td>\n",
       "    </tr>\n",
       "  </tbody>\n",
       "</table>\n",
       "</div>"
      ],
      "text/plain": [
       "            Parameter   Best Result\n",
       "0          activation          tanh\n",
       "0               alpha           0.3\n",
       "0  hidden_layer_sizes  (50, 50, 50)\n",
       "0       learning_rate      adaptive\n",
       "0              solver           sgd\n",
       "0          Best Score      0.647018"
      ]
     },
     "execution_count": 33,
     "metadata": {},
     "output_type": "execute_result"
    }
   ],
   "source": [
    "# Create the Support Vector Classification (SVC) model (without specifying hyperparameters)\n",
    "model_MLP = MLPClassifier()\n",
    "\n",
    "# Define the parameter grid for grid search\n",
    "parameter_space_grid = {\n",
    "    'hidden_layer_sizes': [(50,50,50)],\n",
    "    'activation': ['tanh', 'relu'],\n",
    "    'solver': ['sgd', 'adam'],\n",
    "    'alpha': [0.5, 0.4,0.3,0.6],\n",
    "    'learning_rate': ['constant', 'adaptive'],\n",
    "}\n",
    "\n",
    "# Create the GridSearchCV object\n",
    "grid_search = GridSearchCV(estimator=model_MLP, param_grid=parameter_space_grid,\n",
    "                           scoring='f1', cv=5)\n",
    "\n",
    "# Fit the GridSearchCV object to the data\n",
    "grid_search.fit(X_train_total, y_train_total)  # Make sure X_total and y_total are defined\n",
    "\n",
    "# Print the best parameters\n",
    "print(\"Best Parameters: \", grid_search.best_params_)\n",
    "\n",
    "# Create a DataFrame to store the results\n",
    "results_gs_mlp = pd.DataFrame(columns=['Parameter', 'Best Result'])\n",
    "\n",
    "# Add the best parameters and scores to the DataFrame\n",
    "for param, value in grid_search.best_params_.items():\n",
    "    results_gs_mlp = pd.concat([results_gs_mlp, pd.DataFrame({'Parameter': [param], 'Best Result': [value]})])\n",
    "\n",
    "# Add the best score to the DataFrame\n",
    "results_gs_mlp = pd.concat([results_gs_mlp, pd.DataFrame({'Parameter': ['Best Score'], 'Best Result': [grid_search.best_score_]})])\n",
    "\n",
    "# Display the results DataFrame\n",
    "results_gs_mlp"
   ]
  },
  {
   "cell_type": "markdown",
   "metadata": {},
   "source": [
    "### 3.3.3 Final Model -MLP"
   ]
  },
  {
   "cell_type": "code",
   "execution_count": 34,
   "metadata": {},
   "outputs": [],
   "source": [
    "final_model_mlp = MLPClassifier(\n",
    "    activation='tanh',\n",
    "    alpha=0.3,\n",
    "    hidden_layer_sizes=(50, 50, 50),\n",
    "    learning_rate='constant',\n",
    "    solver='adam',\n",
    ")"
   ]
  },
  {
   "cell_type": "code",
   "execution_count": 35,
   "metadata": {},
   "outputs": [
    {
     "name": "stdout",
     "output_type": "stream",
     "text": [
      "--- Training ---\n",
      "Accuracy:\n",
      "Cross-Validation Accuracy: [0.825, 0.83, 0.825, 0.821, 0.825]\n",
      "Mean Accuracy: 0.825\n",
      "\n",
      "F1 Score:\n",
      "Cross-Validation F1: [0.62, 0.644, 0.661, 0.641, 0.666]\n",
      "Mean F1: 0.646\n",
      "\n",
      "--- Validation ---\n",
      "Accuracy:\n",
      "Cross-Validation Accuracy: [0.827, 0.808, 0.82, 0.836, 0.82]\n",
      "Mean Accuracy: 0.822\n",
      "\n",
      "F1 Score:\n",
      "Cross-Validation F1: [0.617, 0.594, 0.654, 0.676, 0.659]\n",
      "Mean F1: 0.64\n",
      "\n",
      "--- Test ---\n",
      "Accuracy: 0.83\n",
      "F1: 0.664\n"
     ]
    }
   ],
   "source": [
    "train_eval(final_model_mlp)"
   ]
  },
  {
   "cell_type": "code",
   "execution_count": 50,
   "metadata": {},
   "outputs": [],
   "source": [
    "def select_best_models(df, model):\n",
    "    skf = StratifiedKFold(n_splits = 5, random_state = 99, shuffle = True)\n",
    "    X_train_total\n",
    "    y_train_total\n",
    "    score_train, score_val = [],[]\n",
    "        \n",
    "    # perform the cross-validation    \n",
    "    for train_index, val_index in skf.split(X_train_total,y_train_total):\n",
    "        X_train, X_val = X_train_total.iloc[train_index], X_train_total.iloc[val_index]\n",
    "        y_train, y_val = y_train_total.iloc[train_index], y_train_total.iloc[val_index]\n",
    "\n",
    "        \n",
    "        # Apply model\n",
    "        model.fit(X_train, y_train)\n",
    "        predictions_train = model.predict(X_train)\n",
    "        predictions_val = model.predict(X_val)\n",
    "        score_train.append(f1_score(y_train, predictions_train))\n",
    "        score_val.append(f1_score(y_val, predictions_val))\n",
    "\n",
    "    avg_train = round(np.mean(score_train),3)\n",
    "    avg_val = round(np.mean(score_val),3)\n",
    "    std_train = round(np.std(score_train),2)\n",
    "    std_val = round(np.std(score_val),2)\n",
    "\n",
    "    return avg_train, std_train, avg_val, std_val\n",
    "\n",
    "def show_results(df, data, *args):\n",
    "    count = 0\n",
    "    # for each instance of model passed as argument\n",
    "    for arg in args:\n",
    "        avg_train, std_train, avg_val, std_val = select_best_models(data, arg)\n",
    "        # store the results in the right row\n",
    "        df.iloc[count] = str(avg_train) + '+/-' + str(std_train), str(avg_val) + '+/-' + str(std_val)\n",
    "        count+=1\n",
    "    return df"
   ]
  },
  {
   "cell_type": "code",
   "execution_count": 51,
   "metadata": {},
   "outputs": [
    {
     "data": {
      "text/html": [
       "<div>\n",
       "<style scoped>\n",
       "    .dataframe tbody tr th:only-of-type {\n",
       "        vertical-align: middle;\n",
       "    }\n",
       "\n",
       "    .dataframe tbody tr th {\n",
       "        vertical-align: top;\n",
       "    }\n",
       "\n",
       "    .dataframe thead th {\n",
       "        text-align: right;\n",
       "    }\n",
       "</style>\n",
       "<table border=\"1\" class=\"dataframe\">\n",
       "  <thead>\n",
       "    <tr style=\"text-align: right;\">\n",
       "      <th></th>\n",
       "      <th>Train</th>\n",
       "      <th>Validation</th>\n",
       "    </tr>\n",
       "  </thead>\n",
       "  <tbody>\n",
       "    <tr>\n",
       "      <th>Best GB</th>\n",
       "      <td>0.654+/-0.01</td>\n",
       "      <td>0.645+/-0.02</td>\n",
       "    </tr>\n",
       "    <tr>\n",
       "      <th>Best LR</th>\n",
       "      <td>0.656+/-0.0</td>\n",
       "      <td>0.654+/-0.02</td>\n",
       "    </tr>\n",
       "    <tr>\n",
       "      <th>Best MLP</th>\n",
       "      <td>0.647+/-0.02</td>\n",
       "      <td>0.647+/-0.02</td>\n",
       "    </tr>\n",
       "  </tbody>\n",
       "</table>\n",
       "</div>"
      ],
      "text/plain": [
       "                 Train    Validation\n",
       "Best GB   0.654+/-0.01  0.645+/-0.02\n",
       "Best LR    0.656+/-0.0  0.654+/-0.02\n",
       "Best MLP  0.647+/-0.02  0.647+/-0.02"
      ]
     },
     "execution_count": 51,
     "metadata": {},
     "output_type": "execute_result"
    }
   ],
   "source": [
    "df_final_models = pd.DataFrame(columns = ['Train','Validation'], index = ['Best GB','Best LR', 'Best MLP'])\n",
    "show_results(df_final_models, scenario3, final_model_gb, final_model_lr, final_model_mlp)"
   ]
  },
  {
   "cell_type": "code",
   "execution_count": 45,
   "metadata": {},
   "outputs": [
    {
     "data": {
      "image/png": "[encoded data removed]",
      "text/plain": [
       "<Figure size 640x480 with 1 Axes>"
      ]
     },
     "metadata": {},
     "output_type": "display_data"
    }
   ],
   "source": [
    "import matplotlib.pyplot as plt\n",
    "from sklearn.metrics import roc_curve, auc\n",
    "from sklearn.model_selection import train_test_split\n",
    "\n",
    "\n",
    "models = [final_model_gb, final_model_lr, final_model_mlp]\n",
    "model_labels = ['Gradient Boosting', 'LR', 'Multi-layer Perceptron']\n",
    "\n",
    "# Split data into training and validation sets\n",
    "X_train, X_val, y_train, y_val = train_test_split(X_train_total, y_train_total, test_size=0.2, random_state=42)\n",
    "\n",
    "# Create ROC curve for each model\n",
    "plt.figure()\n",
    "lw = 2\n",
    "\n",
    "for model, label in zip(models, model_labels):\n",
    "    try:\n",
    "        # Try using predict_proba\n",
    "        y_score = model.predict_proba(X_val)[:, 1]\n",
    "    except AttributeError:\n",
    "        # If predict_proba is not available, use decision_function\n",
    "        y_score = model.decision_function(X_val)\n",
    "\n",
    "    # Compute ROC curve and ROC area\n",
    "    fpr, tpr, _ = roc_curve(y_val, y_score)\n",
    "    roc_auc = auc(fpr, tpr)\n",
    "\n",
    "    # Plot ROC curve\n",
    "    plt.plot(fpr, tpr, lw=lw, label='ROC Curve {} (area = {:.2f})'.format(label, roc_auc))\n",
    "\n",
    "plt.plot([0, 1], [0, 1], color='navy', lw=lw, linestyle='--')\n",
    "plt.xlabel('False Positive Rate')\n",
    "plt.ylabel('True Positive Rate')\n",
    "plt.title('Receiver Operating Characteristic (ROC) Curve')\n",
    "plt.legend(loc=\"lower right\")\n",
    "plt.show()\n"
   ]
  },
  {
   "cell_type": "markdown",
   "metadata": {},
   "source": [
    "# 4. Final Model"
   ]
  },
  {
   "cell_type": "code",
   "execution_count": 56,
   "metadata": {},
   "outputs": [],
   "source": [
    "final_model = final_model_lr.fit(X_train_total, y_train_total)"
   ]
  },
  {
   "cell_type": "code",
   "execution_count": 57,
   "metadata": {},
   "outputs": [
    {
     "data": {
      "text/plain": [
       "array([[0.25358857, 0.74641143],\n",
       "       [0.09691737, 0.90308263],\n",
       "       [0.1767729 , 0.8232271 ],\n",
       "       ...,\n",
       "       [0.15030263, 0.84969737],\n",
       "       [0.94789526, 0.05210474],\n",
       "       [0.94789526, 0.05210474]])"
      ]
     },
     "execution_count": 57,
     "metadata": {},
     "output_type": "execute_result"
    }
   ],
   "source": [
    "predict_proba = final_model.predict_proba(X_val)\n",
    "predict_proba"
   ]
  },
  {
   "cell_type": "code",
   "execution_count": 58,
   "metadata": {},
   "outputs": [
    {
     "name": "stdout",
     "output_type": "stream",
     "text": [
      "Best Threshold=0.738389, F-Score=0.642\n"
     ]
    },
    {
     "data": {
      "image/png": "[encoded data removed]",
      "text/plain": [
       "<Figure size 640x480 with 1 Axes>"
      ]
     },
     "metadata": {},
     "output_type": "display_data"
    }
   ],
   "source": [
    "precision, recall, thresholds = precision_recall_curve(y_val, predict_proba[:,1])\n",
    "\n",
    "# apply f1 score\n",
    "fscore = (2 * precision * recall) / (precision + recall)\n",
    "# locate the index of the largest f score\n",
    "ix = np.argmax(fscore)\n",
    "print('Best Threshold=%f, F-Score=%.3f' % (thresholds[ix], fscore[ix]))\n",
    "\n",
    "plt.plot(recall, precision, marker='.', label='DT')\n",
    "plt.scatter(recall[ix], precision[ix], marker='o', color='black', label='Best')\n",
    "plt.xlabel('Recall')\n",
    "plt.ylabel('Precision')\n",
    "plt.legend()\n",
    "plt.show()"
   ]
  },
  {
   "cell_type": "code",
   "execution_count": 66,
   "metadata": {},
   "outputs": [
    {
     "name": "stdout",
     "output_type": "stream",
     "text": [
      "   Threshold  Accuracy  F1 Score  False Positive Rate\n",
      "0       0.20  0.784244  0.659955             0.217391\n",
      "1       0.30  0.787793  0.660613             0.208696\n",
      "2       0.40  0.791341  0.661290             0.200000\n",
      "3       0.50  0.796309  0.663540             0.189372\n",
      "4       0.60  0.797019  0.657895             0.180676\n",
      "5       0.70  0.810504  0.669963             0.158454\n",
      "6       0.80  0.817601  0.670935             0.140097\n",
      "7       0.90  0.822569  0.671916             0.127536\n",
      "8       0.95  0.821150  0.664894             0.123671\n"
     ]
    }
   ],
   "source": [
    "from sklearn.metrics import accuracy_score, f1_score, precision_score, recall_score, confusion_matrix\n",
    "\n",
    "# Assuming y_scores contains the decision scores from your model\n",
    "y_scores = final_model_lr.decision_function(X_test)  # Replace with your actual data\n",
    "\n",
    "# Create an array of thresholds to test\n",
    "thresholds = [0.2, 0.3, 0.4, 0.5, 0.6, 0.7, 0.8, 0.9, 0.95]  # Add or modify thresholds as needed\n",
    "\n",
    "# Initialize lists to store results\n",
    "accuracy_scores = []\n",
    "f1_scores = []\n",
    "false_positive_rates = []\n",
    "\n",
    "# Iterate through each threshold\n",
    "for threshold in thresholds:\n",
    "    # Convert decision scores to binary predictions based on the threshold\n",
    "    y_pred = (y_scores > threshold).astype(int)\n",
    "\n",
    "    # Calculate metrics\n",
    "    accuracy = accuracy_score(y_test, y_pred)\n",
    "    f1 = f1_score(y_test, y_pred)\n",
    "\n",
    "    # Calculate confusion matrix to get false positives\n",
    "    tn, fp, fn, tp = confusion_matrix(y_test, y_pred).ravel()\n",
    "    false_positive_rate = fp / (fp + tn)\n",
    "\n",
    "    # Append results to lists\n",
    "    accuracy_scores.append(accuracy)\n",
    "    f1_scores.append(f1)\n",
    "    false_positive_rates.append(false_positive_rate)\n",
    "\n",
    "# Create a DataFrame to store the results\n",
    "threshold_results = pd.DataFrame({\n",
    "    'Threshold': thresholds,\n",
    "    'Accuracy': accuracy_scores,\n",
    "    'F1 Score': f1_scores,\n",
    "    'False Positive Rate': false_positive_rates\n",
    "})\n",
    "\n",
    "# Display the results\n",
    "print(threshold_results)\n"
   ]
  },
  {
   "cell_type": "code",
   "execution_count": null,
   "metadata": {},
   "outputs": [],
   "source": []
  }
 ],
 "metadata": {
  "kernelspec": {
   "display_name": "base",
   "language": "python",
   "name": "python3"
  },
  "language_info": {
   "codemirror_mode": {
    "name": "ipython",
    "version": 3
   },
   "file_extension": ".py",
   "mimetype": "text/x-python",
   "name": "python",
   "nbconvert_exporter": "python",
   "pygments_lexer": "ipython3",
   "version": "3.9.13"
  }
 },
 "nbformat": 4,
 "nbformat_minor": 2
}
